{
 "cells": [
  {
   "cell_type": "code",
   "execution_count": 11,
   "metadata": {},
   "outputs": [
    {
     "name": "stderr",
     "output_type": "stream",
     "text": [
      "C:\\Users\\20182739\\AppData\\Local\\Temp/ipykernel_18232/437828715.py:12: RuntimeWarning: overflow encountered in double_scalars\n",
      "  x[1] = (x[1]**2 - x[0]**2) / (x[1]**2 + 1) - uk\n",
      "C:\\Users\\20182739\\AppData\\Local\\Temp/ipykernel_18232/437828715.py:11: RuntimeWarning: overflow encountered in double_scalars\n",
      "  x[0] = x[0]**2/10 + x[1]/(x[0]**2 + 0.1) + uk\n",
      "C:\\Users\\20182739\\AppData\\Local\\Temp/ipykernel_18232/437828715.py:11: RuntimeWarning: invalid value encountered in double_scalars\n",
      "  x[0] = x[0]**2/10 + x[1]/(x[0]**2 + 0.1) + uk\n"
     ]
    }
   ],
   "source": [
    "import numpy as np\n",
    "N = 1000\n",
    "u = np.random.normal(size=N)\n",
    "x = [0,0]\n",
    "ylist = []\n",
    "\n",
    "for uk in u:\n",
    "    yk = x[0]*1.5 + (0.1+x[1]**2)\n",
    "    ylist.append(yk)\n",
    "\n",
    "    x = x[0]/(1.2+x[1]**2) + x[1]*0.4, x[1]/(1.2+x[0]**2)+x[0]*0.4+uk*(1+x[0]**2/10)\n",
    "\n",
    "y = np.array(ylist)"
   ]
  },
  {
   "cell_type": "code",
   "execution_count": 10,
   "metadata": {},
   "outputs": [
    {
     "data": {
      "text/plain": [
       "(1000,)"
      ]
     },
     "execution_count": 10,
     "metadata": {},
     "output_type": "execute_result"
    }
   ],
   "source": [
    "u.shape"
   ]
  },
  {
   "cell_type": "code",
   "execution_count": null,
   "metadata": {},
   "outputs": [],
   "source": []
  }
 ],
 "metadata": {
  "kernelspec": {
   "display_name": "Python 3.9.0 64-bit",
   "language": "python",
   "name": "python3"
  },
  "language_info": {
   "codemirror_mode": {
    "name": "ipython",
    "version": 3
   },
   "file_extension": ".py",
   "mimetype": "text/x-python",
   "name": "python",
   "nbconvert_exporter": "python",
   "pygments_lexer": "ipython3",
   "version": "3.9.0"
  },
  "orig_nbformat": 4,
  "vscode": {
   "interpreter": {
    "hash": "4adf2e6253b261bd4dae3284651a7270092766d2a4e11b51cb3c91db9fd89146"
   }
  }
 },
 "nbformat": 4,
 "nbformat_minor": 2
}
