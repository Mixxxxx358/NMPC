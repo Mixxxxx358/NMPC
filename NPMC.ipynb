{
 "cells": [
  {
   "cell_type": "code",
   "execution_count": 2,
   "metadata": {},
   "outputs": [
    {
     "data": {
      "text/plain": [
       "Function(f:(i0[2],i1)->(o0,o1) MXFunction)"
      ]
     },
     "execution_count": 2,
     "metadata": {},
     "output_type": "execute_result"
    }
   ],
   "source": [
    "from casadi import *\n",
    "\n",
    "x = MX.sym(\"x\", 2)\n",
    "u = MX.sym(\"u\")\n",
    "\n",
    "f = Function(\"f\", [x,u], [(1-x[1]**2)*x[0] - x[1] + u, x[0]])#, [\"x\", \"u\"], [\"ode\"])\n",
    "f"
   ]
  },
  {
   "cell_type": "code",
   "execution_count": 8,
   "metadata": {},
   "outputs": [
    {
     "ename": "NotImplementedError",
     "evalue": "Wrong number or type of arguments for overloaded function 'integrator'.\n  Possible prototypes are:\n    integrator(str,str,dict:SX,dict)\n    integrator(str,str,dict:MX,dict)\n  You have: '(str,str,str:(MX,MX)|MX,str:float|bool|int)'\n",
     "output_type": "error",
     "traceback": [
      "\u001b[1;31m---------------------------------------------------------------------------\u001b[0m",
      "\u001b[1;31mNotImplementedError\u001b[0m                       Traceback (most recent call last)",
      "\u001b[1;32m~\\AppData\\Local\\Temp/ipykernel_6864/3971465174.py\u001b[0m in \u001b[0;36m<module>\u001b[1;34m\u001b[0m\n\u001b[0;32m     13\u001b[0m \u001b[1;31m#dae\u001b[0m\u001b[1;33m\u001b[0m\u001b[1;33m\u001b[0m\u001b[1;33m\u001b[0m\u001b[0m\n\u001b[0;32m     14\u001b[0m \u001b[1;33m\u001b[0m\u001b[0m\n\u001b[1;32m---> 15\u001b[1;33m \u001b[0mintg\u001b[0m \u001b[1;33m=\u001b[0m \u001b[0mintegrator\u001b[0m\u001b[1;33m(\u001b[0m\u001b[1;34m\"intg\"\u001b[0m\u001b[1;33m,\u001b[0m \u001b[1;34m\"rk\"\u001b[0m\u001b[1;33m,\u001b[0m \u001b[0mdae\u001b[0m\u001b[1;33m,\u001b[0m \u001b[0mintg_options\u001b[0m\u001b[1;33m)\u001b[0m\u001b[1;33m\u001b[0m\u001b[1;33m\u001b[0m\u001b[0m\n\u001b[0m",
      "\u001b[1;32mc:\\Users\\20182739\\AppData\\Local\\Programs\\Python\\Python39\\lib\\site-packages\\casadi\\casadi.py\u001b[0m in \u001b[0;36mintegrator\u001b[1;34m(*args)\u001b[0m\n\u001b[0;32m  14434\u001b[0m \u001b[1;33m\u001b[0m\u001b[0m\n\u001b[0;32m  14435\u001b[0m     \"\"\"\n\u001b[1;32m> 14436\u001b[1;33m     \u001b[1;32mreturn\u001b[0m \u001b[0m_casadi\u001b[0m\u001b[1;33m.\u001b[0m\u001b[0mintegrator\u001b[0m\u001b[1;33m(\u001b[0m\u001b[1;33m*\u001b[0m\u001b[0margs\u001b[0m\u001b[1;33m)\u001b[0m\u001b[1;33m\u001b[0m\u001b[1;33m\u001b[0m\u001b[0m\n\u001b[0m\u001b[0;32m  14437\u001b[0m \u001b[1;33m\u001b[0m\u001b[0m\n\u001b[0;32m  14438\u001b[0m \u001b[1;32mdef\u001b[0m \u001b[0mhas_integrator\u001b[0m\u001b[1;33m(\u001b[0m\u001b[1;33m*\u001b[0m\u001b[0margs\u001b[0m\u001b[1;33m)\u001b[0m\u001b[1;33m:\u001b[0m\u001b[1;33m\u001b[0m\u001b[1;33m\u001b[0m\u001b[0m\n",
      "\u001b[1;31mNotImplementedError\u001b[0m: Wrong number or type of arguments for overloaded function 'integrator'.\n  Possible prototypes are:\n    integrator(str,str,dict:SX,dict)\n    integrator(str,str,dict:MX,dict)\n  You have: '(str,str,str:(MX,MX)|MX,str:float|bool|int)'\n"
     ]
    }
   ],
   "source": [
    "import struct\n",
    "\n",
    "\n",
    "T = 10\n",
    "N = 20\n",
    "\n",
    "intg_options = {\"tf\": 0.5, \"simplify\": True, \"number_of_finite_elements\": 4} \n",
    "\n",
    "#dae = DaeBuilder()\n",
    "#dae = {\"x\": x, \"p\" : p, \"ode\" : z+p , \"alg\" : z*cos ( z)-x}\n",
    "dae = {\"x\": x, \"p\": u, \"ode\": ((1-x[1]**2)*x[0] - x[1] + u, x[0])}\n",
    "#dae = {\"x\": x, \"p\": u, \"ode\": f}\n",
    "#dae\n",
    "\n",
    "intg = integrator(\"intg\", \"rk\", dae, intg_options)"
   ]
  },
  {
   "cell_type": "code",
   "execution_count": null,
   "metadata": {},
   "outputs": [],
   "source": [
    "x = SX. sym (\"x\") ; z = SX. sym (\"z\") ; p = SX. sym (\"p\")\n",
    "dae = {\"x\": x , \"z\" : z ,\"p\" : p , \"ode\" : z+p , \"alg\" : z*cos ( z)-x}\n",
    "F = integrator('F' , 'idas' , dae )"
   ]
  },
  {
   "cell_type": "code",
   "execution_count": 4,
   "metadata": {},
   "outputs": [
    {
     "data": {
      "text/plain": [
       "DaeBuilder(ns = 0, nx = 1, nz = 0, nq = 0, ny = 0, np = 1, nd = 0, nu = 0)"
      ]
     },
     "execution_count": 4,
     "metadata": {},
     "output_type": "execute_result"
    }
   ],
   "source": [
    "from casadi import *\n",
    "\n",
    "dae = DaeBuilder()\n",
    "u = dae.add_p('u')\n",
    "x = dae.add_x('x', 2)\n",
    "dae.add_ode('xdot', (x-x**3/3-7))\n",
    "dae.add_ode('ydot', (x-u))\n",
    "dae"
   ]
  },
  {
   "cell_type": "code",
   "execution_count": 3,
   "metadata": {},
   "outputs": [
    {
     "ename": "NotImplementedError",
     "evalue": "Wrong number or type of arguments for overloaded function 'integrator'.\n  Possible prototypes are:\n    integrator(str,str,dict:SX,dict)\n    integrator(str,str,dict:MX,dict)\n  You have: '(str,str,DaeBuilder,str:float|bool|int)'\n",
     "output_type": "error",
     "traceback": [
      "\u001b[1;31m---------------------------------------------------------------------------\u001b[0m",
      "\u001b[1;31mNotImplementedError\u001b[0m                       Traceback (most recent call last)",
      "\u001b[1;32m~\\AppData\\Local\\Temp/ipykernel_2424/713187651.py\u001b[0m in \u001b[0;36m<module>\u001b[1;34m\u001b[0m\n\u001b[0;32m      1\u001b[0m \u001b[0mintg_options\u001b[0m \u001b[1;33m=\u001b[0m \u001b[1;33m{\u001b[0m\u001b[1;34m\"tf\"\u001b[0m\u001b[1;33m:\u001b[0m \u001b[1;36m0.5\u001b[0m\u001b[1;33m,\u001b[0m \u001b[1;34m\"simplify\"\u001b[0m\u001b[1;33m:\u001b[0m \u001b[1;32mTrue\u001b[0m\u001b[1;33m,\u001b[0m \u001b[1;34m\"number_of_finite_elements\"\u001b[0m\u001b[1;33m:\u001b[0m \u001b[1;36m4\u001b[0m\u001b[1;33m}\u001b[0m\u001b[1;33m\u001b[0m\u001b[1;33m\u001b[0m\u001b[0m\n\u001b[1;32m----> 2\u001b[1;33m \u001b[0mintg\u001b[0m \u001b[1;33m=\u001b[0m \u001b[0mintegrator\u001b[0m\u001b[1;33m(\u001b[0m\u001b[1;34m\"intg\"\u001b[0m\u001b[1;33m,\u001b[0m \u001b[1;34m\"rk\"\u001b[0m\u001b[1;33m,\u001b[0m \u001b[0mdae\u001b[0m\u001b[1;33m,\u001b[0m \u001b[0mintg_options\u001b[0m\u001b[1;33m)\u001b[0m\u001b[1;33m\u001b[0m\u001b[1;33m\u001b[0m\u001b[0m\n\u001b[0m",
      "\u001b[1;32mc:\\Users\\20182739\\AppData\\Local\\Programs\\Python\\Python39\\lib\\site-packages\\casadi\\casadi.py\u001b[0m in \u001b[0;36mintegrator\u001b[1;34m(*args)\u001b[0m\n\u001b[0;32m  14434\u001b[0m \u001b[1;33m\u001b[0m\u001b[0m\n\u001b[0;32m  14435\u001b[0m     \"\"\"\n\u001b[1;32m> 14436\u001b[1;33m     \u001b[1;32mreturn\u001b[0m \u001b[0m_casadi\u001b[0m\u001b[1;33m.\u001b[0m\u001b[0mintegrator\u001b[0m\u001b[1;33m(\u001b[0m\u001b[1;33m*\u001b[0m\u001b[0margs\u001b[0m\u001b[1;33m)\u001b[0m\u001b[1;33m\u001b[0m\u001b[1;33m\u001b[0m\u001b[0m\n\u001b[0m\u001b[0;32m  14437\u001b[0m \u001b[1;33m\u001b[0m\u001b[0m\n\u001b[0;32m  14438\u001b[0m \u001b[1;32mdef\u001b[0m \u001b[0mhas_integrator\u001b[0m\u001b[1;33m(\u001b[0m\u001b[1;33m*\u001b[0m\u001b[0margs\u001b[0m\u001b[1;33m)\u001b[0m\u001b[1;33m:\u001b[0m\u001b[1;33m\u001b[0m\u001b[1;33m\u001b[0m\u001b[0m\n",
      "\u001b[1;31mNotImplementedError\u001b[0m: Wrong number or type of arguments for overloaded function 'integrator'.\n  Possible prototypes are:\n    integrator(str,str,dict:SX,dict)\n    integrator(str,str,dict:MX,dict)\n  You have: '(str,str,DaeBuilder,str:float|bool|int)'\n"
     ]
    }
   ],
   "source": [
    "intg_options = {\"tf\": 0.5, \"simplify\": True, \"number_of_finite_elements\": 4} \n",
    "intg = integrator(\"intg\", \"rk\", dae, intg_options)"
   ]
  },
  {
   "cell_type": "code",
   "execution_count": null,
   "metadata": {},
   "outputs": [],
   "source": []
  }
 ],
 "metadata": {
  "kernelspec": {
   "display_name": "Python 3.9.0 64-bit",
   "language": "python",
   "name": "python3"
  },
  "language_info": {
   "codemirror_mode": {
    "name": "ipython",
    "version": 3
   },
   "file_extension": ".py",
   "mimetype": "text/x-python",
   "name": "python",
   "nbconvert_exporter": "python",
   "pygments_lexer": "ipython3",
   "version": "3.9.0"
  },
  "orig_nbformat": 4,
  "vscode": {
   "interpreter": {
    "hash": "4adf2e6253b261bd4dae3284651a7270092766d2a4e11b51cb3c91db9fd89146"
   }
  }
 },
 "nbformat": 4,
 "nbformat_minor": 2
}
