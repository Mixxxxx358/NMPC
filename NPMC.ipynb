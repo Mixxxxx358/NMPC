{
 "cells": [
  {
   "cell_type": "code",
   "execution_count": null,
   "metadata": {},
   "outputs": [],
   "source": [
    "from Systems import DuffingOscillator\n",
    "import deepSI\n",
    "from matplotlib import pyplot as plt\n",
    "\n",
    "u = deepSI.deepSI.exp_design.multisine(40000, pmax=41)\n",
    "plt.plot(u)\n",
    "sys = DuffingOscillator()\n",
    "data = sys.apply_experiment(deepSI.System_data(u=u))\n",
    "data.plot()"
   ]
  },
  {
   "cell_type": "code",
   "execution_count": null,
   "metadata": {},
   "outputs": [],
   "source": []
  },
  {
   "cell_type": "code",
   "execution_count": null,
   "metadata": {},
   "outputs": [],
   "source": [
    "ss_enc = deepSI.fit_systems.SS_encoder(nx=2, na=2, nb=2, feedthrough=False)\n",
    "train, test = data.train_test_split(split_fraction=0.2)\n",
    "train, val  = train.train_test_split(split_fraction=0.25)\n",
    "\n",
    "ss_enc.fit(train_sys_data=train, val_sys_data=val, epochs=20, batch_size=256, loss_kwargs={'nf':150})"
   ]
  }
 ],
 "metadata": {
  "kernelspec": {
   "display_name": "Python 3.9.0 64-bit",
   "language": "python",
   "name": "python3"
  },
  "language_info": {
   "codemirror_mode": {
    "name": "ipython",
    "version": 3
   },
   "file_extension": ".py",
   "mimetype": "text/x-python",
   "name": "python",
   "nbconvert_exporter": "python",
   "pygments_lexer": "ipython3",
   "version": "3.9.0"
  },
  "orig_nbformat": 4,
  "vscode": {
   "interpreter": {
    "hash": "4adf2e6253b261bd4dae3284651a7270092766d2a4e11b51cb3c91db9fd89146"
   }
  }
 },
 "nbformat": 4,
 "nbformat_minor": 2
}
