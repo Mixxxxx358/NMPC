{
 "cells": [
  {
   "cell_type": "code",
   "execution_count": 1,
   "metadata": {},
   "outputs": [],
   "source": [
    "import Systems\n",
    "import deepSI\n",
    "from matplotlib import pyplot as plt\n",
    "import numpy as np\n",
    "import torch\n",
    "import time\n",
    "from torch import nn\n",
    "import qpsolvers as qp"
   ]
  },
  {
   "cell_type": "code",
   "execution_count": 2,
   "metadata": {},
   "outputs": [],
   "source": [
    "system = Systems.SinCosUnbalancedDisc(dt=0.1)"
   ]
  },
  {
   "cell_type": "code",
   "execution_count": 3,
   "metadata": {},
   "outputs": [],
   "source": [
    "u = deepSI.deepSI.exp_design.multisine(100000, pmax=49999, n_crest_factor_optim=20)\n",
    "u = np.clip(u*4.0, -8.0, 8.0)"
   ]
  },
  {
   "cell_type": "code",
   "execution_count": 4,
   "metadata": {},
   "outputs": [],
   "source": [
    "# plt.plot(u[:500])"
   ]
  },
  {
   "cell_type": "code",
   "execution_count": 5,
   "metadata": {},
   "outputs": [],
   "source": [
    "data = system.apply_experiment(deepSI.System_data(u=u))"
   ]
  },
  {
   "cell_type": "code",
   "execution_count": 6,
   "metadata": {},
   "outputs": [],
   "source": [
    "# plt_len = 1000\n",
    "# plt.subplot(1,4,1)\n",
    "# plt.plot(data.u[:plt_len])\n",
    "# plt.subplot(1,4,2)\n",
    "# plt.plot(data.y[:plt_len,0])\n",
    "# plt.subplot(1,4,3)\n",
    "# plt.plot(data.y[:plt_len,1])\n",
    "# plt.subplot(1,4,4)\n",
    "# plt.plot(data.y[:plt_len,2])"
   ]
  },
  {
   "cell_type": "code",
   "execution_count": 7,
   "metadata": {},
   "outputs": [],
   "source": [
    "I_enc = deepSI.fit_systems.SS_encoder_general(nx=8, na=8, nb=8, na_right=1)"
   ]
  },
  {
   "cell_type": "code",
   "execution_count": 8,
   "metadata": {},
   "outputs": [],
   "source": [
    "train, test = data.train_test_split(split_fraction=0.2)\n",
    "train, val  = train.train_test_split(split_fraction=0.25)"
   ]
  },
  {
   "cell_type": "code",
   "execution_count": 13,
   "metadata": {},
   "outputs": [
    {
     "name": "stdout",
     "output_type": "stream",
     "text": [
      "Model already initilized (init_model_done=True), skipping initilizing of the model, the norm and the creation of the optimizer\n",
      "Size of the training array =  289.9 MB\n",
      "N_training_samples = 59843, batch_size = 256, N_batch_updates_per_epoch = 233\n",
      "Initial Validation sim-NRMS= 0.74202143330332\n"
     ]
    },
    {
     "data": {
      "application/vnd.jupyter.widget-view+json": {
       "model_id": "7c9aa9552ed34566b920372a997c3789",
       "version_major": 2,
       "version_minor": 0
      },
      "text/plain": [
       "  0%|          | 0/50 [00:00<?, ?it/s]"
      ]
     },
     "metadata": {},
     "output_type": "display_data"
    },
    {
     "name": "stdout",
     "output_type": "stream",
     "text": [
      "Epoch    1, sqrt loss  0.7277, Val sim-NRMS 0.7326, Time Loss: 93.6%, data: 0.2%, val: 6.2%,  3.6 batches/sec\n",
      "Epoch    2, sqrt loss  0.7189, Val sim-NRMS 0.7333, Time Loss: 93.6%, data: 0.2%, val: 6.2%,  3.6 batches/sec\n",
      "Epoch    3, sqrt loss  0.7158, Val sim-NRMS 0.7323, Time Loss: 93.6%, data: 0.2%, val: 6.2%,  3.6 batches/sec\n",
      "Epoch    4, sqrt loss  0.7148, Val sim-NRMS 0.7318, Time Loss: 93.7%, data: 0.2%, val: 6.1%,  3.5 batches/sec\n",
      "Epoch    5, sqrt loss  0.7111, Val sim-NRMS 0.7347, Time Loss: 93.6%, data: 0.2%, val: 6.2%,  3.5 batches/sec\n",
      "Epoch    6, sqrt loss  0.7104, Val sim-NRMS 0.7369, Time Loss: 93.7%, data: 0.2%, val: 6.1%,  3.5 batches/sec\n",
      "Epoch    7, sqrt loss  0.7059, Val sim-NRMS 0.7327, Time Loss: 93.7%, data: 0.2%, val: 6.1%,  3.5 batches/sec\n",
      "Epoch    8, sqrt loss  0.7119, Val sim-NRMS 0.7308, Time Loss: 93.7%, data: 0.2%, val: 6.1%,  3.5 batches/sec\n",
      "Epoch    9, sqrt loss  0.7052, Val sim-NRMS 0.7356, Time Loss: 93.7%, data: 0.2%, val: 6.1%,  3.5 batches/sec\n",
      "Epoch   10, sqrt loss  0.7804, Val sim-NRMS 0.7458, Time Loss: 93.7%, data: 0.2%, val: 6.1%,  3.5 batches/sec\n",
      "Epoch   11, sqrt loss  0.7225, Val sim-NRMS 0.7418, Time Loss: 93.7%, data: 0.2%, val: 6.1%,  3.5 batches/sec\n",
      "Epoch   12, sqrt loss  0.7123, Val sim-NRMS 0.7338, Time Loss: 93.7%, data: 0.2%, val: 6.1%,  3.5 batches/sec\n",
      "Epoch   13, sqrt loss  0.7058, Val sim-NRMS 0.7363, Time Loss: 93.7%, data: 0.2%, val: 6.1%,  3.5 batches/sec\n",
      "Epoch   14, sqrt loss  0.7016, Val sim-NRMS  0.734, Time Loss: 93.7%, data: 0.2%, val: 6.1%,  3.5 batches/sec\n",
      "Epoch   15, sqrt loss  0.7017, Val sim-NRMS 0.7331, Time Loss: 93.7%, data: 0.2%, val: 6.1%,  3.5 batches/sec\n",
      "Epoch   16, sqrt loss   0.697, Val sim-NRMS 0.7309, Time Loss: 93.7%, data: 0.2%, val: 6.1%,  3.5 batches/sec\n",
      "Epoch   17, sqrt loss  0.6969, Val sim-NRMS 0.7365, Time Loss: 93.7%, data: 0.2%, val: 6.1%,  3.5 batches/sec\n",
      "Epoch   18, sqrt loss  0.7134, Val sim-NRMS 0.7376, Time Loss: 93.7%, data: 0.2%, val: 6.1%,  3.5 batches/sec\n",
      "Epoch   19, sqrt loss  0.6894, Val sim-NRMS 0.7282, Time Loss: 93.7%, data: 0.2%, val: 6.1%,  3.5 batches/sec\n",
      "Epoch   20, sqrt loss   0.692, Val sim-NRMS   0.73, Time Loss: 93.7%, data: 0.2%, val: 6.1%,  3.5 batches/sec\n",
      "Epoch   21, sqrt loss  0.6848, Val sim-NRMS 0.7319, Time Loss: 93.6%, data: 0.2%, val: 6.2%,  3.5 batches/sec\n",
      "Epoch   22, sqrt loss  0.6916, Val sim-NRMS 0.7261, Time Loss: 93.6%, data: 0.2%, val: 6.2%,  3.5 batches/sec\n",
      "Epoch   23, sqrt loss  0.6814, Val sim-NRMS 0.7242, Time Loss: 93.6%, data: 0.2%, val: 6.2%,  3.5 batches/sec\n",
      "Epoch   24, sqrt loss   0.715, Val sim-NRMS 0.7454, Time Loss: 93.6%, data: 0.2%, val: 6.2%,  3.5 batches/sec\n",
      "Epoch   25, sqrt loss  0.6885, Val sim-NRMS 0.7207, Time Loss: 93.6%, data: 0.2%, val: 6.2%,  3.5 batches/sec\n",
      "Epoch   26, sqrt loss  0.6816, Val sim-NRMS 0.7249, Time Loss: 93.6%, data: 0.2%, val: 6.2%,  3.5 batches/sec\n",
      "Epoch   27, sqrt loss  0.6733, Val sim-NRMS  0.739, Time Loss: 93.6%, data: 0.2%, val: 6.2%,  3.5 batches/sec\n",
      "Epoch   28, sqrt loss  0.7143, Val sim-NRMS 0.7252, Time Loss: 93.6%, data: 0.2%, val: 6.2%,  3.5 batches/sec\n",
      "Epoch   29, sqrt loss  0.6813, Val sim-NRMS 0.7272, Time Loss: 93.6%, data: 0.2%, val: 6.2%,  3.5 batches/sec\n",
      "Epoch   30, sqrt loss  0.6681, Val sim-NRMS 0.7323, Time Loss: 93.6%, data: 0.2%, val: 6.2%,  3.5 batches/sec\n",
      "Epoch   31, sqrt loss  0.8448, Val sim-NRMS 0.8328, Time Loss: 93.6%, data: 0.2%, val: 6.2%,  3.5 batches/sec\n",
      "Epoch   32, sqrt loss  0.8262, Val sim-NRMS 0.8155, Time Loss: 93.7%, data: 0.2%, val: 6.1%,  3.5 batches/sec\n",
      "Epoch   33, sqrt loss  0.8088, Val sim-NRMS  0.796, Time Loss: 93.7%, data: 0.2%, val: 6.2%,  3.5 batches/sec\n",
      "Epoch   34, sqrt loss  0.7939, Val sim-NRMS 0.7824, Time Loss: 93.7%, data: 0.2%, val: 6.1%,  3.5 batches/sec\n",
      "Epoch   35, sqrt loss  0.7716, Val sim-NRMS 0.7575, Time Loss: 93.7%, data: 0.2%, val: 6.1%,  3.5 batches/sec\n",
      "Epoch   36, sqrt loss  0.7495, Val sim-NRMS 0.7497, Time Loss: 93.7%, data: 0.2%, val: 6.1%,  3.5 batches/sec\n",
      "Epoch   37, sqrt loss  0.7423, Val sim-NRMS 0.7449, Time Loss: 93.7%, data: 0.2%, val: 6.1%,  3.5 batches/sec\n",
      "Epoch   38, sqrt loss  0.7388, Val sim-NRMS 0.7477, Time Loss: 93.7%, data: 0.2%, val: 6.1%,  3.5 batches/sec\n",
      "Epoch   39, sqrt loss  0.7366, Val sim-NRMS 0.7411, Time Loss: 93.7%, data: 0.2%, val: 6.1%,  3.5 batches/sec\n",
      "Stopping early due to a KeyboardInterrupt\n",
      "Loaded model with best known validation sim-NRMS of 0.7077 which happened on epoch 0 (epoch_id=34.00)\n"
     ]
    }
   ],
   "source": [
    "I_enc.fit(train_sys_data=train, val_sys_data=val, epochs=50, batch_size=256, loss_kwargs={'nf':150})"
   ]
  },
  {
   "cell_type": "code",
   "execution_count": 14,
   "metadata": {},
   "outputs": [
    {
     "data": {
      "text/plain": [
       "<matplotlib.legend.Legend at 0x182392a8880>"
      ]
     },
     "execution_count": 14,
     "metadata": {},
     "output_type": "execute_result"
    },
    {
     "data": {
      "image/png": "[encoded data removed]",
      "text/plain": [
       "<Figure size 432x288 with 1 Axes>"
      ]
     },
     "metadata": {
      "needs_background": "light"
     },
     "output_type": "display_data"
    }
   ],
   "source": [
    "I_enc.checkpoint_load_system('_last')\n",
    "plt.semilogy(I_enc.batch_id,I_enc.Loss_val,label='validation loss')\n",
    "plt.semilogy(I_enc.batch_id,I_enc.Loss_train**0.5,label='trains loss')\n",
    "plt.legend()"
   ]
  },
  {
   "cell_type": "code",
   "execution_count": 15,
   "metadata": {},
   "outputs": [],
   "source": [
    "test_ss_enc = I_enc.apply_experiment(test,save_state=True)"
   ]
  },
  {
   "cell_type": "code",
   "execution_count": 16,
   "metadata": {},
   "outputs": [
    {
     "name": "stdout",
     "output_type": "stream",
     "text": [
      "NRMS simulation SS linear  88.49%\n"
     ]
    },
    {
     "data": {
      "image/png": "[encoded data removed]",
      "text/plain": [
       "<Figure size 432x288 with 3 Axes>"
      ]
     },
     "metadata": {
      "needs_background": "light"
     },
     "output_type": "display_data"
    }
   ],
   "source": [
    "print(f'NRMS simulation SS linear  {test_ss_enc.NRMS(test):.2%}')\n",
    "\n",
    "plt.subplot(1,3,1)\n",
    "plt.plot(test.y[:,0])\n",
    "plt.plot(test.y[:,0] - test_ss_enc.y[:,0])\n",
    "\n",
    "plt.subplot(1,3,2)\n",
    "plt.plot(test.y[:,1])\n",
    "plt.plot(test.y[:,1] - test_ss_enc.y[:,1]);\n",
    "\n",
    "plt.subplot(1,3,3)\n",
    "plt.plot(test.y[:,2])\n",
    "plt.plot(test.y[:,2] - test_ss_enc.y[:,2]);"
   ]
  },
  {
   "cell_type": "code",
   "execution_count": null,
   "metadata": {},
   "outputs": [],
   "source": [
    "nsteperror = I_enc.n_step_error(test,nf=200) #return in NRMS units of fit_sys_ss_enc.norm\n",
    "plt.plot(nsteperror)\n",
    "plt.xlabel('n step in the future')\n",
    "plt.ylabel('NRMS error')\n",
    "plt.show()"
   ]
  },
  {
   "cell_type": "code",
   "execution_count": null,
   "metadata": {},
   "outputs": [],
   "source": [
    "I_enc.save_system(\"systems/SinCos_dt01_nab_4_e200\")"
   ]
  },
  {
   "cell_type": "code",
   "execution_count": null,
   "metadata": {},
   "outputs": [],
   "source": []
  }
 ],
 "metadata": {
  "kernelspec": {
   "display_name": "Python 3.9.0 64-bit",
   "language": "python",
   "name": "python3"
  },
  "language_info": {
   "codemirror_mode": {
    "name": "ipython",
    "version": 3
   },
   "file_extension": ".py",
   "mimetype": "text/x-python",
   "name": "python",
   "nbconvert_exporter": "python",
   "pygments_lexer": "ipython3",
   "version": "3.9.0"
  },
  "orig_nbformat": 4,
  "vscode": {
   "interpreter": {
    "hash": "4adf2e6253b261bd4dae3284651a7270092766d2a4e11b51cb3c91db9fd89146"
   }
  }
 },
 "nbformat": 4,
 "nbformat_minor": 2
}
