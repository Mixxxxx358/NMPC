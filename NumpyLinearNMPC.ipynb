{
 "cells": [
  {
   "cell_type": "code",
   "execution_count": 1,
   "metadata": {},
   "outputs": [],
   "source": [
    "from Systems import UnbalancedDisc\n",
    "from Systems import NoisyUnbalancedDisc\n",
    "from Systems import DiscreteUnbalancedDisc\n",
    "import deepSI\n",
    "from matplotlib import pyplot as plt\n",
    "import numpy as np\n",
    "#import autograd\n",
    "import torch\n",
    "import time\n",
    "from torch import nn\n",
    "#import quadprog as qp\n",
    "import qpsolvers as qp"
   ]
  },
  {
   "cell_type": "code",
   "execution_count": 2,
   "metadata": {},
   "outputs": [],
   "source": [
    "system = NoisyUnbalancedDisc(dt=0.1, sigma_n=[0, 0])\n",
    "\n",
    "class I_encoder(deepSI.fit_systems.SS_encoder):\n",
    "    def __init__(self, nx = 2, na=2, nb=2, feedthrough=False) -> None:\n",
    "        super().__init__(nx=nx, na=na, nb=nb, feedthrough=feedthrough)\n",
    "\n",
    "    def init_nets(self, nu, ny): # a bit weird\n",
    "        ny = ny if ny is not None else 1\n",
    "        nu = nu if nu is not None else 1\n",
    "        self.encoder = self.e_net(self.nb*nu+self.na*ny, self.nx, n_nodes_per_layer=self.e_n_nodes_per_layer, n_hidden_layers=self.e_n_hidden_layers, activation=self.e_activation)\n",
    "        self.fn =      self.f_net(self.nx+nu,            self.nx, n_nodes_per_layer=self.f_n_nodes_per_layer, n_hidden_layers=self.f_n_hidden_layers, activation=self.f_activation)\n",
    "        hn_in = self.nx + nu if self.feedthrough else self.nx\n",
    "        self.hn =      nn.Identity(hn_in)#\n",
    "\n",
    "I_enc = deepSI.load_system(\"systems/UnbalancedDisk_dt01_e100_SNR_100\")"
   ]
  },
  {
   "cell_type": "code",
   "execution_count": 3,
   "metadata": {},
   "outputs": [],
   "source": [
    "# function that converts torch nn to casadi expression\n",
    "from casadi import *\n",
    "\n",
    "def CasADiHn(ss_enc, x):\n",
    "    n_hidden_layers = ss_enc.h_n_hidden_layers\n",
    "\n",
    "    params = {}\n",
    "    for name, param in ss_enc.hn.named_parameters():\n",
    "        params[name] = param.detach().numpy()\n",
    "    params_list = list(params.values())\n",
    "\n",
    "    temp_nn = x\n",
    "    for i in range(n_hidden_layers):\n",
    "        W_NL = params_list[2+i*2]\n",
    "        b_NL = params_list[3+i*2]\n",
    "        temp_nn = mtimes(W_NL, temp_nn)+b_NL\n",
    "        temp_nn = tanh(temp_nn)\n",
    "    W_NL = params_list[2+n_hidden_layers*2]\n",
    "    b_NL = params_list[3+n_hidden_layers*2]\n",
    "    nn_NL = mtimes(W_NL, temp_nn)+b_NL\n",
    "\n",
    "    W_Lin = params_list[0]\n",
    "    b_Lin = params_list[1]\n",
    "    nn_Lin = mtimes(W_Lin,x) + b_Lin\n",
    "\n",
    "    return nn_NL + nn_Lin\n",
    "\n",
    "def CasADiFn(ss_enc, x, u):\n",
    "    n_hidden_layers = ss_enc.f_n_hidden_layers\n",
    "\n",
    "    params = {}\n",
    "    for name, param in ss_enc.fn.named_parameters():\n",
    "        params[name] = param.detach().numpy()\n",
    "    params_list = list(params.values())\n",
    "    \n",
    "    xu = vertcat(x,u)\n",
    "\n",
    "    temp_nn = xu\n",
    "    for i in range(n_hidden_layers):\n",
    "        W_NL = params_list[2+i*2]\n",
    "        b_NL = params_list[3+i*2]\n",
    "        temp_nn = mtimes(W_NL, temp_nn)+b_NL\n",
    "        temp_nn = tanh(temp_nn)\n",
    "    W_NL = params_list[2+n_hidden_layers*2]\n",
    "    b_NL = params_list[3+n_hidden_layers*2]\n",
    "    nn_NL = mtimes(W_NL, temp_nn)+b_NL\n",
    "\n",
    "    W_Lin = params_list[0]\n",
    "    b_Lin = params_list[1]\n",
    "    nn_Lin = mtimes(W_Lin,xu) + b_Lin\n",
    "\n",
    "    return nn_NL + nn_Lin"
   ]
  },
  {
   "cell_type": "code",
   "execution_count": 4,
   "metadata": {},
   "outputs": [],
   "source": [
    "# declared sym variables\n",
    "x = MX.sym(\"x\",I_enc.nx,1)\n",
    "nu = I_enc.nu if I_enc.nu is not None else 1\n",
    "u = MX.sym(\"u\",nu,1)\n",
    "\n",
    "# convert torch nn to casadi function\n",
    "rhs = CasADiFn(I_enc, x, u)\n",
    "f = Function('f', [x, u], [rhs])\n",
    "\n",
    "#y_rhs = CasADiHn(I_enc, x)\n",
    "#h = Function('h', [x], [y_rhs])\n",
    "\n",
    "# apply correction to casadi function such that fc(0) = 0\n",
    "correction_f = f([0,0], 0)\n",
    "rhs_c = rhs - correction_f\n",
    "#correction_h = h([0,0])\n",
    "#y_rhs_c = y_rhs - correction_h\n",
    "f_c = Function('f_c', [x, u], [rhs_c])\n",
    "#h_c = Function('h_c', [x], [y_rhs_c])"
   ]
  },
  {
   "cell_type": "code",
   "execution_count": 5,
   "metadata": {},
   "outputs": [],
   "source": [
    "# Box constraints\n",
    "x_min = [-10, -10]\n",
    "x_max = [10, 10]\n",
    "u_min = -4\n",
    "u_max = 4\n",
    "\n",
    "# Initial and final values\n",
    "x0 = [0,0]\n",
    "x_ref = [0.001, 1.0]\n",
    "u_ref = 0\n",
    "\n",
    "# Weight matrices for the cost function\n",
    "Q = np.array([[1,0],[0,100]])\n",
    "R = 1\n",
    "\n",
    "# MPC parameters\n",
    "dt = 0.1\n",
    "Nc = 4\n",
    "Nsim = 50\n",
    "#dlam = 0.01\n",
    "stages = 100"
   ]
  },
  {
   "cell_type": "code",
   "execution_count": 6,
   "metadata": {},
   "outputs": [],
   "source": [
    "L = np.zeros([3*stages,1])\n",
    "lam = 0\n",
    "dlam = 1.0/stages\n",
    "\n",
    "for i in range(stages):\n",
    "    L[i] = lam\n",
    "    L[i+stages] = lam + dlam/2\n",
    "    L[i+2*stages] = lam + dlam\n",
    "\n",
    "    lam = lam + dlam\n",
    "\n",
    "n_states = np.shape(x)[0]\n",
    "nx = n_states\n",
    "n_controls = np.shape(u)[0]\n",
    "nu = n_controls"
   ]
  },
  {
   "cell_type": "code",
   "execution_count": 7,
   "metadata": {},
   "outputs": [],
   "source": [
    "Jfx = Function(\"Jfx\", [x, u], [jacobian(rhs_c,x)])\n",
    "Jfu = Function(\"Jfu\", [x, u], [jacobian(rhs_c,u)])"
   ]
  },
  {
   "cell_type": "code",
   "execution_count": 8,
   "metadata": {},
   "outputs": [],
   "source": [
    "def par_lpv_int(x,nx,u,nu,Jfx,Jfu,dlam,stages,L):\n",
    "#     # FUNCTION LPV_INT\n",
    "#     # RK4 integrator with chosen resolution and internal stages\n",
    "#     # used to get A,B matrices symbolically to be used at gridpoints\n",
    "    \n",
    "#     A = np.zeros([nx,nx])\n",
    "#     B = np.zeros([nx,nu])\n",
    "\n",
    "#     Lx = np.kron(L,x)\n",
    "#     #Lx = reshape(kron(L,x), (2,stages*3)).T\n",
    "#     Lu = L*u\n",
    "\n",
    "#     Fx = Jfx.map(stages)\n",
    "#     kx = Fx(Lx.T, Lu.T)\n",
    "#     Fu = Jfu.map(stages)\n",
    "#     ku = Fu(Lx.T, Lu.T)\n",
    "\n",
    "#     A = np.zeros((2,2))\n",
    "#     A[:,0] = reshape(sum2(kx[:,0:stages*2:2]), (1,2)) # k1\n",
    "#     A[:,1] = reshape(sum2(kx[:,1:stages*2:2]), (1,2)) # k1\n",
    "#     A[:,0] = A[:,0] + 4*reshape(sum2(kx[:,stages*2:stages*4:2]), (1,2)) # k2\n",
    "#     A[:,1] = A[:,1] + 4*reshape(sum2(kx[:,stages*2+1:stages*4:2]), (1,2)) # k2\n",
    "#     A[:,0] = A[:,0] + reshape(sum2(kx[:,stages*4:stages*6:2]), (1,2)) # k4\n",
    "#     A[:,1] = A[:,1] + reshape(sum2(kx[:,stages*4+1:stages*6:2]), (1,2)) # k4\n",
    "#     A = 1/6*dlam*A\n",
    "\n",
    "#     B = np.zeros((2,1))\n",
    "#     B[:,0] = reshape(sum2(ku[:,0:stages:1]), (1,2)) # k1\n",
    "#     B[:,0] = B[:,0] + 4*reshape(sum2(ku[:,stages:2*stages:1]), (1,2)) # k2\n",
    "#     B[:,0] = B[:,0] + reshape(sum2(ku[:,2*stages:3*stages:1]), (1,2)) # k4\n",
    "#     B = 1/6*dlam*B\n",
    "            \n",
    "    return 1"
   ]
  },
  {
   "cell_type": "code",
   "execution_count": 9,
   "metadata": {},
   "outputs": [],
   "source": [
    "def lpv_int(x,nx,u,nu,Jfx,Jfu,dlam,stages):\n",
    "    # FUNCTION LPV_INT\n",
    "    # RK4 integrator with chosen resolution and internal stages\n",
    "    # used to get A,B matrices symbolically to be used at gridpoints\n",
    "    \n",
    "    A = np.zeros([nx,nx])\n",
    "    B = np.zeros([nx,nu])\n",
    "    \n",
    "    lam = 0\n",
    "\n",
    "    for i in np.arange(stages):\n",
    "        k1 = Jfx(lam*x,lam*u)\n",
    "        j1 = Jfu(lam*x,lam*u)\n",
    "\n",
    "        k2 = Jfx((lam+dlam/2)*x,(lam+dlam/2)*u)\n",
    "        j2 = Jfu((lam+dlam/2)*x,(lam+dlam/2)*u)\n",
    "\n",
    "        k4 = Jfx((lam+dlam)*x,(lam+dlam)*u)\n",
    "        j4 = Jfu((lam+dlam)*x,(lam+dlam)*u)\n",
    "\n",
    "        A = A + 1/6*dlam*(k1 + 4*k2 + k4)\n",
    "        B = B + 1/6*dlam*(j1 + 4*j2 + j4)\n",
    "        lam = lam + dlam\n",
    "            \n",
    "    return A,B"
   ]
  },
  {
   "cell_type": "code",
   "execution_count": 10,
   "metadata": {},
   "outputs": [],
   "source": [
    "[A, B] = lpv_int(x,2,u,1,Jfx,Jfu,dlam,stages)\n",
    "get_A = Function(\"get_A\",[x,u],[A])\n",
    "get_B = Function(\"get_B\",[x,u],[B])"
   ]
  },
  {
   "cell_type": "code",
   "execution_count": 11,
   "metadata": {},
   "outputs": [],
   "source": [
    "# xt = np.tile(x0, Nc)\n",
    "# ut = np.zeros(Nc*nu)\n",
    "Get_A = get_A.map(Nc, \"thread\", 32)\n",
    "Get_B = get_B.map(Nc, \"thread\", 32)"
   ]
  },
  {
   "cell_type": "code",
   "execution_count": 12,
   "metadata": {},
   "outputs": [],
   "source": [
    "import itertools\n",
    "\n",
    "def getPhi(list_A, Nc, nx, nu):\n",
    "    Phi = np.zeros([nx*Nc, nx])\n",
    "    for i in range(Nc):\n",
    "        temp = np.eye(nx)\n",
    "        for j in range(i,-1,-1):\n",
    "            temp = np.matmul(temp, list_A[(nx*j):(nx*j+nx),:])\n",
    "        Phi[i*nx:(i+1)*nx, :] = temp\n",
    "    return Phi\n",
    "\n",
    "def getGamma(list_A, list_B, Nc, nx, nu):\n",
    "    Gamma = np.zeros([nx*Nc, nu*Nc])\n",
    "    for i in range(Nc):\n",
    "        for j in range(0,i+1):\n",
    "            temp = np.eye(nx)\n",
    "            for l in range(i-j,-1,-1):\n",
    "                if l == 0:\n",
    "                    temp = np.matmul(temp, list_B[(nx*j):(nx*j+nx),:])\n",
    "                else:\n",
    "                    temp = np.matmul(temp, list_A[(nx*l):(nx*l+nx),:])\n",
    "            Gamma[i*nx:nx*(i+1),j*nu:(j+1)*nu] = temp\n",
    "    return Gamma\n",
    "\n",
    "def getPsi(Nc, R):\n",
    "    return np.kron(np.eye(Nc), R)\n",
    "\n",
    "def getOmega(Nc, Q):\n",
    "    return np.kron(np.eye(Nc), Q)\n",
    "\n",
    "def getDEMc(x_min, x_max, u_min, u_max, Nc, nx, nu):\n",
    "    bi = np.array([list(itertools.chain([-u_min, u_max], [x*-1 for x in x_min],  x_max))])\n",
    "    bN = np.array([list(itertools.chain([x*-1 for x in x_min],  x_max))])\n",
    "    c = np.hstack((np.tile(bi, Nc), bN)).T\n",
    "\n",
    "    In = np.eye(nx)\n",
    "    Im = np.eye(nu)\n",
    "    Zn = np.zeros((nu,nx))\n",
    "    Zm = np.zeros((nx,nu))\n",
    "    \n",
    "    Mi = np.vstack((Zn, Zn, -In, In))\n",
    "    Mn = np.vstack((-In, In))\n",
    "    M = (np.zeros((Nc*2*(nx+nu)+2*nx, Nc*nx)))\n",
    "    M[Nc*2*(nx+nu):,(Nc-1)*nx:] = Mn\n",
    "    M[2*(nx+nu):Nc*2*(nx+nu),:(Nc-1)*nx] = np.kron(np.eye(Nc-1), Mi)\n",
    "\n",
    "    Ei = np.vstack((-Im, Im, Zm, Zm))\n",
    "    E = np.vstack((np.kron(np.eye(Nc), Ei), np.zeros((nx*2, Nc*nu))))\n",
    "\n",
    "    D = np.zeros((Nc*2*(nx+nu)+2*nx, nx))\n",
    "    D[:2*(nx+nu),:] = Mi\n",
    "\n",
    "    return D, E, M, c"
   ]
  },
  {
   "cell_type": "code",
   "execution_count": 13,
   "metadata": {},
   "outputs": [],
   "source": [
    "# list_A = np.ones([Nc*nx, nx])\n",
    "# list_B = np.ones([Nc*nx, nu])\n",
    "# Phi = getPhi(list_A, Nc, nx, nu)\n",
    "# Gamma = getGamma(list_A, list_B, Nc, nx, nu)\n",
    "\n",
    "# D, E, M, B = getDEMc(x_min, x_max, u_min, u_max, Nc, nx, nu)\n",
    "# L = (M@Gamma) + E\n",
    "# W = -D - (M@Phi)\n",
    "# W.shape, L.shape"
   ]
  },
  {
   "cell_type": "code",
   "execution_count": 106,
   "metadata": {},
   "outputs": [
    {
     "name": "stdout",
     "output_type": "stream",
     "text": [
      "MPC iteration:  1\n",
      "LPV counter:  5\n",
      "0.10731029510498047\n"
     ]
    }
   ],
   "source": [
    "# logging list\n",
    "x0 = np.array([0.0,0.5])\n",
    "u_log = np.zeros(Nsim*n_controls)\n",
    "x_log = np.zeros((Nsim+1)*n_states)\n",
    "x_log[:nx] = x0\n",
    "components_times = np.zeros(3) # getAB, solve, denorm and sim\n",
    "component_start = 0\n",
    "t = np.zeros(Nsim)\n",
    "t0 = 0\n",
    "comp_t_log = np.zeros(Nsim)\n",
    "start = time.time()\n",
    "lpv_counter = np.zeros(Nsim,int)\n",
    "\n",
    "# normalize reference list\n",
    "norm = I_enc.norm\n",
    "#reference_list_normalized = (reference_list - norm.y0[1])/norm.ystd[1]\n",
    "x0_norm = (x0 - norm.y0)/norm.ystd\n",
    "\n",
    "# set initial values for x\n",
    "x = np.tile(x0_norm, Nc)\n",
    "u = np.zeros(Nc*nu)\n",
    "\n",
    "list_A = np.zeros([Nc*nx, nx])\n",
    "list_B = np.zeros([Nc*nx, nu])\n",
    "list_A_p = np.zeros([Nc*nx, nx])\n",
    "list_B_p = np.zeros([Nc*nx, nu])\n",
    "# pA = np.zeros([Nc*nx, nx])\n",
    "# pB = np.zeros([Nc*nx, nu])\n",
    "Psi = getPsi(Nc, R)\n",
    "Omega = getPsi(Nc, Q)\n",
    "D, E, M, c = getDEMc(x_min, x_max, u_min, u_max, Nc, nx, nu)\n",
    "\n",
    "ne = 1\n",
    "Ge = np.zeros((Nc+ne, Nc+ne))\n",
    "\n",
    "for mpciter in range(1):\n",
    "    start_time_iter = time.time()\n",
    "    \n",
    "    while True:\n",
    "        # for i in np.arange(Nc):\n",
    "        #     list_A[(n_states*i):(n_states*i+n_states),:] = get_A(x[i*nx:(i+1)*nx],u[i*nu:(i+1)*nu])\n",
    "        #     list_B[(n_states*i):(n_states*i+n_states),:] = get_B(x[i*nx:(i+1)*nx],u[i*nu:(i+1)*nu])\n",
    "        \n",
    "        pA = Get_A(np.vstack(np.split(x,Nc)).T,u)\n",
    "        for i in range(Nc):\n",
    "            list_A[(n_states*i):(n_states*i+n_states),:] = pA[:,i*nx:(i+1)*nx]\n",
    "        pB = Get_B(np.vstack(np.split(x,Nc)).T,u)\n",
    "        for i in range(Nc):\n",
    "            list_B[(n_states*i):(n_states*i+n_states),:] = pB[:,i*nu:(i+1)*nu]\n",
    "\n",
    "        Phi = getPhi(list_A, Nc, nx, nu)\n",
    "        Gamma = getGamma(list_A, list_B, Nc, nx, nu)\n",
    "        G = 2*(Psi+(Gamma.T@Omega@Gamma))\n",
    "        F = 2*(Gamma.T@Omega@Phi)\n",
    "        L = (M@Gamma) + E\n",
    "        W = -D - (M@Phi)\n",
    "\n",
    "        Le = np.hstack((L, -np.ones((Nc*2*(nx+nu)+2*nx,1))))\n",
    "        Ge[:Nc, :Nc] = G\n",
    "        Ge[Nc:,Nc:] = 100\n",
    "        Fe = np.hstack((F@x[:2], np.zeros(ne)))\n",
    "        \n",
    "\n",
    "        u_old = u\n",
    "        #x_ss = x[:2] - [0, 1]\n",
    "        #u = -np.linalg.inv(G)@F@x[:2]\n",
    "        #u = qp.solve_qp(G,F@x[:2],L,(W@x[:2]) + c[:,0], solver=\"quadprog\")\n",
    "        ue = qp.solve_qp(Ge,Fe,Le,(W@x[:2]) + c[:,0], solver=\"quadprog\")\n",
    "        u = ue[:Nc]\n",
    "         \n",
    "        x[nx:Nc*nx] = ((Phi@x[:2]) + Gamma@u)[:(Nc-1)*nx]# + np.tile(np.array(correction_f)[:,0], (Nc-1))\n",
    "        \n",
    "        lpv_counter[mpciter] += 1\n",
    "        if (lpv_counter[mpciter] >= 5) or (np.linalg.norm(u-u_old) < 1e-7):\n",
    "            break\n",
    "\n",
    "    print(\"MPC iteration: \", mpciter+1)\n",
    "    print(\"LPV counter: \", lpv_counter[mpciter])\n",
    "    \n",
    "    t[mpciter] = t0\n",
    "    t0 = t0 + dt\n",
    "    \n",
    "    # denormalize x and u\n",
    "    x_denormalized = norm.ystd*x0_norm + norm.y0\n",
    "    u_denormalized = norm.ustd*u[0] + norm.u0\n",
    "\n",
    "    # make system step and normalize\n",
    "    x_denormalized = system.f(x_denormalized, u_denormalized)\n",
    "    x_measured = system.h(x_denormalized, u_denormalized)\n",
    "    x0_norm = (x_measured - norm.y0)/norm.ystd\n",
    "\n",
    "    x_log[(mpciter+1)*nx:(mpciter+2)*nx] = x_measured\n",
    "    u_log[mpciter] = u_denormalized\n",
    "    \n",
    "    x = np.hstack((x[nx:(Nc+1)*nx],x[-2:]))\n",
    "    x[:nx] = x0_norm\n",
    "    u = np.hstack((u[nx:Nc*nx],u[-2:]))\n",
    "\n",
    "    # finished mpc time measurement\n",
    "    end_time_iter = time.time()\n",
    "    comp_t_log[mpciter] = end_time_iter - start_time_iter\n",
    "\n",
    "end = time.time()\n",
    "runtime = end - start\n",
    "print(runtime)"
   ]
  },
  {
   "cell_type": "code",
   "execution_count": 107,
   "metadata": {},
   "outputs": [
    {
     "data": {
      "text/plain": [
       "(4, 2)"
      ]
     },
     "execution_count": 107,
     "metadata": {},
     "output_type": "execute_result"
    }
   ],
   "source": [
    "F.shape"
   ]
  },
  {
   "cell_type": "code",
   "execution_count": 108,
   "metadata": {},
   "outputs": [],
   "source": [
    "x_reference_list = np.load(\"references/randomLevelTime15_20Range-1_1Nsim500.npy\")\n",
    "x_reference_list_normalized = ((x_reference_list.T - norm.y0)/norm.ystd).T\n",
    "y_reference_list = x_reference_list_normalized[1,:]\n",
    "#plt.plot(y_reference_list)"
   ]
  },
  {
   "cell_type": "code",
   "execution_count": 109,
   "metadata": {},
   "outputs": [],
   "source": [
    "def getXsUs(y_reference_list_normalize, nx, nu, ny, Nsim, u_min, u_max, x_min, x_max, get_A, get_B, C, f0, h0):\n",
    "    ne = 1 #number of variables in epsilon\n",
    "    Q = np.eye(ny) # add this as variable of function\n",
    "    R = np.eye(nu) # add this as variable of function\n",
    "    lam = 1000\n",
    "    \n",
    "    In = np.eye(nx)\n",
    "    Im = np.eye(nu)\n",
    "    Zn = np.zeros((nu,nx))\n",
    "    Zm = np.zeros((nx,nu))\n",
    "\n",
    "    Mi = np.vstack((Zn, Zn, -In, In))\n",
    "    Ei = np.vstack((-Im, Im, Zm, Zm))\n",
    "    h = np.array([list(itertools.chain([-u_min, u_max], [x*-1 for x in x_min],  x_max))]).T\n",
    "\n",
    "    T = np.zeros((2*(nx+nu), nx+nu+ne))\n",
    "    T[:,:nx] = Mi\n",
    "    T[:,nx:nx+nu] = Ei\n",
    "    T[:,nx+nu:] = -np.ones((2*(nx+nu),ne))\n",
    "\n",
    "    b = np.zeros((nx+ny, 1))\n",
    "    b[:nx] = f0\n",
    "\n",
    "    P = np.zeros((nx+nu+ne, nx+nu+ne))\n",
    "    P[:nx, :nx] = C.T@Q@C\n",
    "    P[nx:nx+nu, nx:nx+nu] = R\n",
    "    P[nx+nu:, nx+nu:] = lam\n",
    "\n",
    "    q = np.zeros((nx+nu+ne,1))\n",
    "    \n",
    "    xs = np.zeros(nx)\n",
    "    us = np.zeros(nu)\n",
    "    xue = np.zeros(nx+nu+ne)\n",
    "    As = np.zeros((nx,nx))\n",
    "    Bs = np.zeros((nx,nu))\n",
    "    A = np.zeros((nx+ny, nx+nu+ne))\n",
    "    A[nx:nx+ny,:nx] = C #change this to getC from xs us when needed\n",
    "\n",
    "    x_reference_list_normalized = np.zeros((nx, Nsim))\n",
    "    u_reference_list_normalized = np.zeros((nu, Nsim))\n",
    "    e_reference_list_normalized = np.zeros((ne, Nsim))\n",
    "\n",
    "    for j in range(Nsim):\n",
    "\n",
    "        b[nx:nx+ny] = y_reference_list_normalize[j] - h0 #+ correction_h #add h0 here when needed\n",
    "        q[:nx,0] = C.T@Q@(h0 - y_reference_list_normalize[j])\n",
    "\n",
    "        for i in range(20):\n",
    "            As[:,:] = get_A(xs, us)\n",
    "            Bs[:,:] = get_B(xs, us)\n",
    "\n",
    "            A[:nx,:nx] = np.eye(nx) - As\n",
    "            A[:nx,nx:nx+nu] = -Bs\n",
    "            #A[nx:,:nx] = C\n",
    "            #q[:nx,0] = C.T@Q@h0 - C.T@Q@\n",
    "\n",
    "            #xu[:] = (np.linalg.inv(A)@b)[:,0]\n",
    "            xue[:] = (qp.solve_qp(P,q,T,h[:,0],A,b[:,0],solver=\"osqp\"))\n",
    "\n",
    "            xold = xs\n",
    "            uold = us\n",
    "            xs = xue[:nx]\n",
    "            us = xue[nx:nx+nu]\n",
    "            e = xue[nx+nu:]\n",
    "\n",
    "            if np.linalg.norm(xs-xold) <= 1e-6 and np.linalg.norm(us-uold) <= 1e-6:\n",
    "                break\n",
    "\n",
    "        x_reference_list_normalized[:,j] = xs\n",
    "        u_reference_list_normalized[:,j] = us\n",
    "        e_reference_list_normalized[:,j] = e\n",
    "        \n",
    "    return x_reference_list_normalized, u_reference_list_normalized, e_reference_list_normalized"
   ]
  },
  {
   "cell_type": "code",
   "execution_count": 110,
   "metadata": {},
   "outputs": [
    {
     "name": "stderr",
     "output_type": "stream",
     "text": [
      "c:\\Users\\20182739\\AppData\\Local\\Programs\\Python\\Python39\\lib\\site-packages\\qpsolvers\\solvers\\typing.py:48: UserWarning: Converted P to scipy.sparse.csc.csc_matrix\n",
      "For best performance, build P as a scipy.sparse.csc_matrix rather than as a numpy.ndarray\n",
      "  warn(\n",
      "c:\\Users\\20182739\\AppData\\Local\\Programs\\Python\\Python39\\lib\\site-packages\\qpsolvers\\solvers\\typing.py:48: UserWarning: Converted A to scipy.sparse.csc.csc_matrix\n",
      "For best performance, build A as a scipy.sparse.csc_matrix rather than as a numpy.ndarray\n",
      "  warn(\n"
     ]
    }
   ],
   "source": [
    "C = np.array([[0, 1]])\n",
    "ny = 1\n",
    "h0 = np.zeros(1)\n",
    "Nsim = 100\n",
    "x_reference_list_normalized, u_reference_list_normalized, e_reference_list_normalized = getXsUs(y_reference_list, nx, nu, ny, Nsim, \\\n",
    "    u_min, u_max, x_min, x_max, get_A, get_B, C, correction_f, h0)"
   ]
  },
  {
   "cell_type": "code",
   "execution_count": 112,
   "metadata": {},
   "outputs": [
    {
     "data": {
      "text/plain": [
       "((4, 1), (4, 2))"
      ]
     },
     "execution_count": 112,
     "metadata": {},
     "output_type": "execute_result"
    }
   ],
   "source": [
    "Xs = np.reshape(x_reference_list_normalized[:,1:Nc+1].T, (2*Nc,1))\n",
    "xs = x_reference_list_normalized[:,:1]\n",
    "Us = u_reference_list_normalized[:,:Nc].T\n",
    "Fs = 2*(Gamma.T@Omega@(Phi@x[:2] + Xs) + Psi.T@Us)\n",
    "Fs.shape, F.shape"
   ]
  },
  {
   "cell_type": "code",
   "execution_count": 52,
   "metadata": {},
   "outputs": [
    {
     "data": {
      "text/plain": [
       "[<matplotlib.lines.Line2D at 0x1ca5c57b0a0>]"
      ]
     },
     "execution_count": 52,
     "metadata": {},
     "output_type": "execute_result"
    },
    {
     "data": {
      "image/png": "[encoded data removed]",
      "text/plain": [
       "<Figure size 432x288 with 1 Axes>"
      ]
     },
     "metadata": {
      "needs_background": "light"
     },
     "output_type": "display_data"
    }
   ],
   "source": [
    "#x_reference_list_normalized[:,14:25]#, u_reference_list_normalized[:,:4]\n",
    "plt.plot(x_reference_list_normalized[1,:])\n",
    "#x_reference_list_normalized"
   ]
  },
  {
   "cell_type": "code",
   "execution_count": 53,
   "metadata": {},
   "outputs": [
    {
     "data": {
      "text/plain": [
       "[<matplotlib.lines.Line2D at 0x1ca5c5d83a0>]"
      ]
     },
     "execution_count": 53,
     "metadata": {},
     "output_type": "execute_result"
    },
    {
     "data": {
      "image/png": "[encoded data removed]",
      "text/plain": [
       "<Figure size 432x288 with 1 Axes>"
      ]
     },
     "metadata": {
      "needs_background": "light"
     },
     "output_type": "display_data"
    }
   ],
   "source": [
    "plt.plot(e_reference_list_normalized[0,:])"
   ]
  },
  {
   "cell_type": "code",
   "execution_count": null,
   "metadata": {},
   "outputs": [],
   "source": [
    "#x_complete = np.hstack((x_log))\n",
    "\n",
    "plt.subplot(2,3,1)\n",
    "plt.plot(x_log[0::nx])\n",
    "\n",
    "plt.subplot(2,3,2)\n",
    "plt.plot(x_log[1::nx])\n",
    "\n",
    "plt.subplot(2,3,3)\n",
    "plt.plot(u[:])\n",
    "\n",
    "plt.subplot(2,3,4)\n",
    "plt.plot(comp_t_log[:])"
   ]
  },
  {
   "cell_type": "code",
   "execution_count": null,
   "metadata": {},
   "outputs": [],
   "source": []
  }
 ],
 "metadata": {
  "kernelspec": {
   "display_name": "Python 3.9.0 64-bit",
   "language": "python",
   "name": "python3"
  },
  "language_info": {
   "codemirror_mode": {
    "name": "ipython",
    "version": 3
   },
   "file_extension": ".py",
   "mimetype": "text/x-python",
   "name": "python",
   "nbconvert_exporter": "python",
   "pygments_lexer": "ipython3",
   "version": "3.9.0"
  },
  "orig_nbformat": 4,
  "vscode": {
   "interpreter": {
    "hash": "4adf2e6253b261bd4dae3284651a7270092766d2a4e11b51cb3c91db9fd89146"
   }
  }
 },
 "nbformat": 4,
 "nbformat_minor": 2
}
