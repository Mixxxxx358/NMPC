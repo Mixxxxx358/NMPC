{
 "cells": [
  {
   "cell_type": "code",
   "execution_count": 1,
   "metadata": {},
   "outputs": [],
   "source": [
    "from Systems import UnbalancedDisc\n",
    "from Systems import NoisyUnbalancedDisc\n",
    "from Systems import OutputUnbalancedDisc\n",
    "import deepSI\n",
    "from matplotlib import pyplot as plt\n",
    "import numpy as np\n",
    "#import autograd\n",
    "import torch\n",
    "import time\n",
    "from torch import nn\n",
    "#import quadprog as qp\n",
    "import qpsolvers as qp"
   ]
  },
  {
   "cell_type": "code",
   "execution_count": 2,
   "metadata": {},
   "outputs": [],
   "source": [
    "system = OutputUnbalancedDisc(dt=0.1, sigma_n=[0, 0])\n",
    "\n",
    "class I_encoder(deepSI.fit_systems.SS_encoder):\n",
    "    def __init__(self, nx = 2, na=2, nb=2, feedthrough=False) -> None:\n",
    "        super().__init__(nx=nx, na=na, nb=nb, feedthrough=feedthrough)\n",
    "\n",
    "    def init_nets(self, nu, ny): # a bit weird\n",
    "        ny = ny if ny is not None else 1\n",
    "        nu = nu if nu is not None else 1\n",
    "        self.encoder = self.e_net(self.nb*nu+self.na*ny, self.nx, n_nodes_per_layer=self.e_n_nodes_per_layer, n_hidden_layers=self.e_n_hidden_layers, activation=self.e_activation)\n",
    "        self.fn =      self.f_net(self.nx+nu,            self.nx, n_nodes_per_layer=self.f_n_nodes_per_layer, n_hidden_layers=self.f_n_hidden_layers, activation=self.f_activation)\n",
    "        hn_in = self.nx + nu if self.feedthrough else self.nx\n",
    "        self.hn =      nn.Identity(hn_in)#\n",
    "\n",
    "I_enc = deepSI.load_system(\"systems/ObserverUnbalancedDisk_dt01_nab_4_e200\")"
   ]
  },
  {
   "cell_type": "code",
   "execution_count": 3,
   "metadata": {},
   "outputs": [],
   "source": [
    "# function that converts torch nn to casadi expression\n",
    "from casadi import *\n",
    "\n",
    "def CasADiHn(ss_enc, x):\n",
    "    n_hidden_layers = 2#ss_enc.h_n_hidden_layers\n",
    "\n",
    "    params = {}\n",
    "    for name, param in ss_enc.hn.named_parameters():\n",
    "        params[name] = param.detach().numpy()\n",
    "    params_list = list(params.values())\n",
    "\n",
    "    temp_nn = x\n",
    "    for i in range(n_hidden_layers):\n",
    "        W_NL = params_list[2+i*2]\n",
    "        b_NL = params_list[3+i*2]\n",
    "        temp_nn = mtimes(W_NL, temp_nn)+b_NL\n",
    "        temp_nn = tanh(temp_nn)\n",
    "    W_NL = params_list[2+n_hidden_layers*2]\n",
    "    b_NL = params_list[3+n_hidden_layers*2]\n",
    "    nn_NL = mtimes(W_NL, temp_nn)+b_NL\n",
    "\n",
    "    W_Lin = params_list[0]\n",
    "    b_Lin = params_list[1]\n",
    "    nn_Lin = mtimes(W_Lin,x) + b_Lin\n",
    "\n",
    "    return nn_NL + nn_Lin\n",
    "\n",
    "def CasADiFn(ss_enc, x, u):\n",
    "    n_hidden_layers = 2#ss_enc.f_n_hidden_layers\n",
    "\n",
    "    params = {}\n",
    "    for name, param in ss_enc.fn.named_parameters():\n",
    "        params[name] = param.detach().numpy()\n",
    "    params_list = list(params.values())\n",
    "    \n",
    "    xu = vertcat(x,u)\n",
    "\n",
    "    temp_nn = xu\n",
    "    for i in range(n_hidden_layers):\n",
    "        W_NL = params_list[2+i*2]\n",
    "        b_NL = params_list[3+i*2]\n",
    "        temp_nn = mtimes(W_NL, temp_nn)+b_NL\n",
    "        temp_nn = tanh(temp_nn)\n",
    "    W_NL = params_list[2+n_hidden_layers*2]\n",
    "    b_NL = params_list[3+n_hidden_layers*2]\n",
    "    nn_NL = mtimes(W_NL, temp_nn)+b_NL\n",
    "\n",
    "    W_Lin = params_list[0]\n",
    "    b_Lin = params_list[1]\n",
    "    nn_Lin = mtimes(W_Lin,xu) + b_Lin\n",
    "\n",
    "    return nn_NL + nn_Lin"
   ]
  },
  {
   "cell_type": "code",
   "execution_count": 4,
   "metadata": {},
   "outputs": [],
   "source": [
    "# declared sym variables\n",
    "x = MX.sym(\"x\",I_enc.nx,1)\n",
    "nu = I_enc.nu if I_enc.nu is not None else 1\n",
    "u = MX.sym(\"u\",nu,1)\n",
    "\n",
    "# convert torch nn to casadi function\n",
    "rhs = CasADiFn(I_enc, x, u)\n",
    "f = Function('f', [x, u], [rhs])\n",
    "\n",
    "y_rhs = CasADiHn(I_enc, x)\n",
    "h = Function('h', [x], [y_rhs])\n",
    "\n",
    "# apply correction to casadi function such that fc(0) = 0\n",
    "correction_f = f([0,0], 0)\n",
    "rhs_c = rhs - correction_f\n",
    "correction_h = h([0,0])\n",
    "y_rhs_c = y_rhs - correction_h\n",
    "f_c = Function('f_c', [x, u], [rhs_c])\n",
    "h_c = Function('h_c', [x], [y_rhs_c])"
   ]
  },
  {
   "cell_type": "code",
   "execution_count": 5,
   "metadata": {},
   "outputs": [
    {
     "data": {
      "text/plain": [
       "array([0.42514739])"
      ]
     },
     "execution_count": 5,
     "metadata": {},
     "output_type": "execute_result"
    }
   ],
   "source": [
    "np.array(correction_h)[:,0]"
   ]
  },
  {
   "cell_type": "code",
   "execution_count": 6,
   "metadata": {},
   "outputs": [],
   "source": [
    "# Box constraints\n",
    "x_min = [-10, -10]\n",
    "x_max = [10, 10]\n",
    "u_min = -4\n",
    "u_max = 4\n",
    "\n",
    "# Initial and final values\n",
    "x0 = [0,0]\n",
    "x_ref = [0.001, 1.0]\n",
    "u_ref = 0\n",
    "\n",
    "# Weight matrices for the cost function\n",
    "Q = np.array([[1,0],[0,100]])\n",
    "R = 1\n",
    "\n",
    "# MPC parameters\n",
    "dt = 0.1\n",
    "Nc = 4\n",
    "Nsim = 50\n",
    "#dlam = 0.01\n",
    "stages = 100"
   ]
  },
  {
   "cell_type": "code",
   "execution_count": 7,
   "metadata": {},
   "outputs": [],
   "source": [
    "# L = np.zeros([3*stages,1])\n",
    "# lam = 0\n",
    "dlam = 1.0/stages\n",
    "\n",
    "# for i in range(stages):\n",
    "#     L[i] = lam\n",
    "#     L[i+stages] = lam + dlam/2\n",
    "#     L[i+2*stages] = lam + dlam\n",
    "\n",
    "#     lam = lam + dlam\n",
    "\n",
    "n_states = np.shape(x)[0]\n",
    "nx = n_states\n",
    "n_controls = np.shape(u)[0]\n",
    "nu = n_controls\n",
    "ny = I_enc.ny if I_enc.ny is not None else 1"
   ]
  },
  {
   "cell_type": "code",
   "execution_count": 8,
   "metadata": {},
   "outputs": [],
   "source": [
    "Jfx = Function(\"Jfx\", [x, u], [jacobian(rhs_c,x)])\n",
    "Jfu = Function(\"Jfu\", [x, u], [jacobian(rhs_c,u)])\n",
    "Jhx = Function(\"Jhx\", [x, u], [jacobian(y_rhs_c,x)])"
   ]
  },
  {
   "cell_type": "code",
   "execution_count": 9,
   "metadata": {},
   "outputs": [],
   "source": [
    "from lpv_int import *\n",
    "\n",
    "[A, B, C] = lpv_int_C(x,nx,u,nu,ny,Jfx,Jfu,Jhx,dlam,stages)\n",
    "get_A = Function(\"get_A\",[x,u],[A])\n",
    "get_B = Function(\"get_B\",[x,u],[B])\n",
    "get_C = Function(\"get_C\",[x,u],[C])"
   ]
  },
  {
   "cell_type": "code",
   "execution_count": 10,
   "metadata": {},
   "outputs": [],
   "source": [
    "Get_A = get_A.map(Nc, \"thread\", 32)\n",
    "Get_B = get_B.map(Nc, \"thread\", 32)"
   ]
  },
  {
   "cell_type": "code",
   "execution_count": 11,
   "metadata": {},
   "outputs": [],
   "source": [
    "from mpcUtil import *"
   ]
  },
  {
   "cell_type": "code",
   "execution_count": 17,
   "metadata": {},
   "outputs": [
    {
     "data": {
      "text/plain": [
       "array([[0.06859763],\n",
       "       [0.32200515]])"
      ]
     },
     "execution_count": 17,
     "metadata": {},
     "output_type": "execute_result"
    }
   ],
   "source": [
    "f0 = np.array(correction_f.elements())[np.newaxis].T\n",
    "f0"
   ]
  },
  {
   "cell_type": "code",
   "execution_count": 59,
   "metadata": {},
   "outputs": [],
   "source": [
    "def getF0(list_A, f0, Nc, nx, nu):\n",
    "    F0 = np.zeros([nx*Nc, nx])\n",
    "    for i in range(Nc):\n",
    "        for j in range(i+1):\n",
    "            temp = np.eye(2)\n",
    "            for l in range(j):\n",
    "                print(str(i) + \", \" + str(j) + \", \" + str(l))\n",
    "                temp = np.matmul(list_A[(nx*l):(nx*l+nx),:], temp)\n",
    "            F0[i*nx:(i+1)*nx, :] = F0[i*nx:(i+1)*nx, :] + temp\n",
    "    return F0"
   ]
  },
  {
   "cell_type": "code",
   "execution_count": 62,
   "metadata": {},
   "outputs": [
    {
     "name": "stdout",
     "output_type": "stream",
     "text": [
      "1, 1, 0\n",
      "2, 1, 0\n",
      "2, 2, 0\n",
      "2, 2, 1\n",
      "3, 1, 0\n",
      "3, 2, 0\n",
      "3, 2, 1\n",
      "3, 3, 0\n",
      "3, 3, 1\n",
      "3, 3, 2\n"
     ]
    },
    {
     "data": {
      "text/plain": [
       "array([[ 1.,  0.],\n",
       "       [ 0.,  1.],\n",
       "       [ 3.,  0.],\n",
       "       [ 0.,  3.],\n",
       "       [ 7.,  0.],\n",
       "       [ 0.,  7.],\n",
       "       [15.,  0.],\n",
       "       [ 0., 15.]])"
      ]
     },
     "execution_count": 62,
     "metadata": {},
     "output_type": "execute_result"
    }
   ],
   "source": [
    "getF0(list_A, f0, 4, nx, nu) #np.kron(np.ones((3,1)), np.eye(2))"
   ]
  },
  {
   "cell_type": "code",
   "execution_count": 37,
   "metadata": {},
   "outputs": [
    {
     "data": {
      "text/plain": [
       "array([[ 0.21917246,  0.26985018],\n",
       "       [-1.03306645,  0.51417798],\n",
       "       [ 0.36560131,  0.34343052],\n",
       "       [-1.3875607 ,  0.45466903],\n",
       "       [ 0.27050238,  0.36154198],\n",
       "       [-1.50674346,  0.53530089],\n",
       "       [ 0.35240265,  0.39804248],\n",
       "       [-1.51583822,  0.55563059]])"
      ]
     },
     "execution_count": 37,
     "metadata": {},
     "output_type": "execute_result"
    }
   ],
   "source": [
    "list_A"
   ]
  },
  {
   "cell_type": "code",
   "execution_count": 12,
   "metadata": {},
   "outputs": [
    {
     "name": "stdout",
     "output_type": "stream",
     "text": [
      "MPC iteration:  1\n",
      "LPV counter:  5\n",
      "MPC iteration:  2\n",
      "LPV counter:  5\n"
     ]
    },
    {
     "ename": "TypeError",
     "evalue": "iteration over a 0-d array",
     "output_type": "error",
     "traceback": [
      "\u001b[1;31m---------------------------------------------------------------------------\u001b[0m",
      "\u001b[1;31mTypeError\u001b[0m                                 Traceback (most recent call last)",
      "\u001b[1;32m~\\AppData\\Local\\Temp/ipykernel_13104/3683254461.py\u001b[0m in \u001b[0;36m<module>\u001b[1;34m\u001b[0m\n\u001b[0;32m     86\u001b[0m \u001b[1;33m\u001b[0m\u001b[0m\n\u001b[0;32m     87\u001b[0m     \u001b[1;31m# make system step and normalize\u001b[0m\u001b[1;33m\u001b[0m\u001b[1;33m\u001b[0m\u001b[1;33m\u001b[0m\u001b[0m\n\u001b[1;32m---> 88\u001b[1;33m     \u001b[0mx_denormalized\u001b[0m \u001b[1;33m=\u001b[0m \u001b[0msystem\u001b[0m\u001b[1;33m.\u001b[0m\u001b[0mf\u001b[0m\u001b[1;33m(\u001b[0m\u001b[0mx_denormalized\u001b[0m\u001b[1;33m,\u001b[0m \u001b[0mu_denormalized\u001b[0m\u001b[1;33m)\u001b[0m\u001b[1;33m\u001b[0m\u001b[1;33m\u001b[0m\u001b[0m\n\u001b[0m\u001b[0;32m     89\u001b[0m     \u001b[0mx_measured\u001b[0m \u001b[1;33m=\u001b[0m \u001b[0msystem\u001b[0m\u001b[1;33m.\u001b[0m\u001b[0mh\u001b[0m\u001b[1;33m(\u001b[0m\u001b[0mx_denormalized\u001b[0m\u001b[1;33m,\u001b[0m \u001b[0mu_denormalized\u001b[0m\u001b[1;33m)\u001b[0m\u001b[1;33m\u001b[0m\u001b[1;33m\u001b[0m\u001b[0m\n\u001b[0;32m     90\u001b[0m     \u001b[0mx0_norm\u001b[0m \u001b[1;33m=\u001b[0m \u001b[1;33m(\u001b[0m\u001b[0mx_measured\u001b[0m \u001b[1;33m-\u001b[0m \u001b[0mnorm\u001b[0m\u001b[1;33m.\u001b[0m\u001b[0my0\u001b[0m\u001b[1;33m)\u001b[0m\u001b[1;33m/\u001b[0m\u001b[0mnorm\u001b[0m\u001b[1;33m.\u001b[0m\u001b[0mystd\u001b[0m\u001b[1;33m\u001b[0m\u001b[1;33m\u001b[0m\u001b[0m\n",
      "\u001b[1;32mc:\\Users\\20182739\\AppData\\Local\\Programs\\Python\\Python39\\lib\\site-packages\\deepSI\\systems\\system.py\u001b[0m in \u001b[0;36mf\u001b[1;34m(self, x, u)\u001b[0m\n\u001b[0;32m    481\u001b[0m         \u001b[1;32mif\u001b[0m \u001b[0mself\u001b[0m\u001b[1;33m.\u001b[0m\u001b[0mmethod\u001b[0m\u001b[1;33m==\u001b[0m\u001b[1;34m'RK4'\u001b[0m\u001b[1;33m:\u001b[0m \u001b[1;31m#this is a lot faster and quite accurate if dt is smaller than the shortest characteristic time-scale.\u001b[0m\u001b[1;33m\u001b[0m\u001b[1;33m\u001b[0m\u001b[0m\n\u001b[0;32m    482\u001b[0m             \u001b[0mx\u001b[0m \u001b[1;33m=\u001b[0m \u001b[0mnp\u001b[0m\u001b[1;33m.\u001b[0m\u001b[0marray\u001b[0m\u001b[1;33m(\u001b[0m\u001b[0mx\u001b[0m\u001b[1;33m)\u001b[0m\u001b[1;33m\u001b[0m\u001b[1;33m\u001b[0m\u001b[0m\n\u001b[1;32m--> 483\u001b[1;33m             \u001b[0mk1\u001b[0m \u001b[1;33m=\u001b[0m \u001b[0mself\u001b[0m\u001b[1;33m.\u001b[0m\u001b[0mdt\u001b[0m\u001b[1;33m*\u001b[0m\u001b[0mnp\u001b[0m\u001b[1;33m.\u001b[0m\u001b[0marray\u001b[0m\u001b[1;33m(\u001b[0m\u001b[0mself\u001b[0m\u001b[1;33m.\u001b[0m\u001b[0mderiv\u001b[0m\u001b[1;33m(\u001b[0m\u001b[0mx\u001b[0m\u001b[1;33m,\u001b[0m\u001b[0mu\u001b[0m\u001b[1;33m)\u001b[0m\u001b[1;33m)\u001b[0m\u001b[1;33m\u001b[0m\u001b[1;33m\u001b[0m\u001b[0m\n\u001b[0m\u001b[0;32m    484\u001b[0m             \u001b[0mk2\u001b[0m \u001b[1;33m=\u001b[0m \u001b[0mself\u001b[0m\u001b[1;33m.\u001b[0m\u001b[0mdt\u001b[0m\u001b[1;33m*\u001b[0m\u001b[0mnp\u001b[0m\u001b[1;33m.\u001b[0m\u001b[0marray\u001b[0m\u001b[1;33m(\u001b[0m\u001b[0mself\u001b[0m\u001b[1;33m.\u001b[0m\u001b[0mderiv\u001b[0m\u001b[1;33m(\u001b[0m\u001b[0mx\u001b[0m\u001b[1;33m+\u001b[0m\u001b[0mk1\u001b[0m\u001b[1;33m/\u001b[0m\u001b[1;36m2\u001b[0m\u001b[1;33m,\u001b[0m\u001b[0mu\u001b[0m\u001b[1;33m)\u001b[0m\u001b[1;33m)\u001b[0m\u001b[1;33m\u001b[0m\u001b[1;33m\u001b[0m\u001b[0m\n\u001b[0;32m    485\u001b[0m             \u001b[0mk3\u001b[0m \u001b[1;33m=\u001b[0m \u001b[0mself\u001b[0m\u001b[1;33m.\u001b[0m\u001b[0mdt\u001b[0m\u001b[1;33m*\u001b[0m\u001b[0mnp\u001b[0m\u001b[1;33m.\u001b[0m\u001b[0marray\u001b[0m\u001b[1;33m(\u001b[0m\u001b[0mself\u001b[0m\u001b[1;33m.\u001b[0m\u001b[0mderiv\u001b[0m\u001b[1;33m(\u001b[0m\u001b[0mx\u001b[0m\u001b[1;33m+\u001b[0m\u001b[0mk2\u001b[0m\u001b[1;33m/\u001b[0m\u001b[1;36m2\u001b[0m\u001b[1;33m,\u001b[0m\u001b[0mu\u001b[0m\u001b[1;33m)\u001b[0m\u001b[1;33m)\u001b[0m\u001b[1;33m\u001b[0m\u001b[1;33m\u001b[0m\u001b[0m\n",
      "\u001b[1;32mc:\\Users\\20182739\\Downloads\\Internship\\NMPC\\Systems.py\u001b[0m in \u001b[0;36mderiv\u001b[1;34m(self, x, u)\u001b[0m\n\u001b[0;32m     89\u001b[0m \u001b[1;33m\u001b[0m\u001b[0m\n\u001b[0;32m     90\u001b[0m     \u001b[1;32mdef\u001b[0m \u001b[0mderiv\u001b[0m\u001b[1;33m(\u001b[0m\u001b[0mself\u001b[0m\u001b[1;33m,\u001b[0m\u001b[0mx\u001b[0m\u001b[1;33m,\u001b[0m\u001b[0mu\u001b[0m\u001b[1;33m)\u001b[0m\u001b[1;33m:\u001b[0m\u001b[1;33m\u001b[0m\u001b[1;33m\u001b[0m\u001b[0m\n\u001b[1;32m---> 91\u001b[1;33m         \u001b[0mz1\u001b[0m\u001b[1;33m,\u001b[0m\u001b[0mz2\u001b[0m \u001b[1;33m=\u001b[0m \u001b[0mx\u001b[0m\u001b[1;33m\u001b[0m\u001b[1;33m\u001b[0m\u001b[0m\n\u001b[0m\u001b[0;32m     92\u001b[0m         \u001b[0mdz1\u001b[0m \u001b[1;33m=\u001b[0m \u001b[1;33m-\u001b[0m\u001b[0mself\u001b[0m\u001b[1;33m.\u001b[0m\u001b[0mM\u001b[0m\u001b[1;33m*\u001b[0m\u001b[0mself\u001b[0m\u001b[1;33m.\u001b[0m\u001b[0mg\u001b[0m\u001b[1;33m*\u001b[0m\u001b[0mself\u001b[0m\u001b[1;33m.\u001b[0m\u001b[0mI\u001b[0m\u001b[1;33m/\u001b[0m\u001b[0mself\u001b[0m\u001b[1;33m.\u001b[0m\u001b[0mJ\u001b[0m\u001b[1;33m*\u001b[0m\u001b[0mnp\u001b[0m\u001b[1;33m.\u001b[0m\u001b[0msin\u001b[0m\u001b[1;33m(\u001b[0m\u001b[0mz2\u001b[0m\u001b[1;33m)\u001b[0m \u001b[1;33m-\u001b[0m \u001b[1;36m1\u001b[0m\u001b[1;33m/\u001b[0m\u001b[0mself\u001b[0m\u001b[1;33m.\u001b[0m\u001b[0mtau\u001b[0m\u001b[1;33m*\u001b[0m\u001b[0mz1\u001b[0m \u001b[1;33m+\u001b[0m \u001b[0mself\u001b[0m\u001b[1;33m.\u001b[0m\u001b[0mKm\u001b[0m\u001b[1;33m/\u001b[0m\u001b[0mself\u001b[0m\u001b[1;33m.\u001b[0m\u001b[0mtau\u001b[0m\u001b[1;33m*\u001b[0m\u001b[0mu\u001b[0m\u001b[1;33m\u001b[0m\u001b[1;33m\u001b[0m\u001b[0m\n\u001b[0;32m     93\u001b[0m         \u001b[0mdz2\u001b[0m \u001b[1;33m=\u001b[0m \u001b[0mz1\u001b[0m\u001b[1;33m\u001b[0m\u001b[1;33m\u001b[0m\u001b[0m\n",
      "\u001b[1;31mTypeError\u001b[0m: iteration over a 0-d array"
     ]
    }
   ],
   "source": [
    "# logging list\n",
    "x0 = np.array([0.0,0.5])\n",
    "u_log = np.zeros(Nsim*n_controls)\n",
    "x_log = np.zeros((Nsim+1)*n_states)\n",
    "x_log[:nx] = x0\n",
    "components_times = np.zeros(3) # getAB, solve, denorm and sim\n",
    "component_start = 0\n",
    "t = np.zeros(Nsim)\n",
    "t0 = 0\n",
    "comp_t_log = np.zeros(Nsim)\n",
    "start = time.time()\n",
    "lpv_counter = np.zeros(Nsim,int)\n",
    "\n",
    "# normalize reference list\n",
    "norm = I_enc.norm\n",
    "#reference_list_normalized = (reference_list - norm.y0[1])/norm.ystd[1]\n",
    "x0_norm = (x0 - norm.y0)/norm.ystd\n",
    "\n",
    "# set initial values for x\n",
    "x = np.tile(x0_norm, Nc)\n",
    "u = np.zeros(Nc*nu)\n",
    "\n",
    "list_A = np.zeros([Nc*nx, nx])\n",
    "list_B = np.zeros([Nc*nx, nu])\n",
    "list_A_p = np.zeros([Nc*nx, nx])\n",
    "list_B_p = np.zeros([Nc*nx, nu])\n",
    "# pA = np.zeros([Nc*nx, nx])\n",
    "# pB = np.zeros([Nc*nx, nu])\n",
    "Psi = getPsi(Nc, R)\n",
    "Omega = getPsi(Nc, Q)\n",
    "D, E, M, c = getDEMc(x_min, x_max, u_min, u_max, Nc, nx, nu)\n",
    "\n",
    "ne = 1\n",
    "Ge = np.zeros((Nc+ne, Nc+ne))\n",
    "\n",
    "for mpciter in range(5):\n",
    "    start_time_iter = time.time()\n",
    "    \n",
    "    while True:\n",
    "        # for i in np.arange(Nc):\n",
    "        #     list_A[(n_states*i):(n_states*i+n_states),:] = get_A(x[i*nx:(i+1)*nx],u[i*nu:(i+1)*nu])\n",
    "        #     list_B[(n_states*i):(n_states*i+n_states),:] = get_B(x[i*nx:(i+1)*nx],u[i*nu:(i+1)*nu])\n",
    "        \n",
    "        pA = Get_A(np.vstack(np.split(x,Nc)).T,u)\n",
    "        for i in range(Nc):\n",
    "            list_A[(n_states*i):(n_states*i+n_states),:] = pA[:,i*nx:(i+1)*nx]\n",
    "        pB = Get_B(np.vstack(np.split(x,Nc)).T,u)\n",
    "        for i in range(Nc):\n",
    "            list_B[(n_states*i):(n_states*i+n_states),:] = pB[:,i*nu:(i+1)*nu]\n",
    "\n",
    "        Phi = getPhi(list_A, Nc, nx, nu)\n",
    "        Gamma = getGamma(list_A, list_B, Nc, nx, nu)\n",
    "        G = 2*(Psi+(Gamma.T@Omega@Gamma))\n",
    "        F = 2*(Gamma.T@Omega@Phi)\n",
    "        L = (M@Gamma) + E\n",
    "        W = -D - (M@Phi)\n",
    "\n",
    "        Le = np.hstack((L, -np.ones((Nc*2*(nx+nu)+2*nx,1))))\n",
    "        Ge[:Nc, :Nc] = G\n",
    "        Ge[Nc:,Nc:] = 100\n",
    "        Fe = np.hstack((F@x[:2], np.zeros(ne)))\n",
    "        \n",
    "\n",
    "        u_old = u\n",
    "        #x_ss = x[:2] - [0, 1]\n",
    "        #u = -np.linalg.inv(G)@F@x[:2]\n",
    "        #u = qp.solve_qp(G,F@x[:2],L,(W@x[:2]) + c[:,0], solver=\"quadprog\")\n",
    "        ue = qp.solve_qp(Ge,Fe,Le,(W@x[:2]) + c[:,0], solver=\"quadprog\")\n",
    "        u = ue[:Nc]\n",
    "         \n",
    "        x[nx:Nc*nx] = ((Phi@x[:2]) + Gamma@u)[:(Nc-1)*nx]# + np.tile(np.array(correction_f)[:,0], (Nc-1))\n",
    "        \n",
    "        lpv_counter[mpciter] += 1\n",
    "        if (lpv_counter[mpciter] >= 5) or (np.linalg.norm(u-u_old) < 1e-7):\n",
    "            break\n",
    "\n",
    "    print(\"MPC iteration: \", mpciter+1)\n",
    "    print(\"LPV counter: \", lpv_counter[mpciter])\n",
    "    \n",
    "    t[mpciter] = t0\n",
    "    t0 = t0 + dt\n",
    "    \n",
    "    # denormalize x and u\n",
    "    x_denormalized = norm.ystd*x0_norm + norm.y0\n",
    "    u_denormalized = norm.ustd*u[0] + norm.u0\n",
    "\n",
    "    # make system step and normalize\n",
    "    x_denormalized = system.f(x_denormalized, u_denormalized)\n",
    "    x_measured = system.h(x_denormalized, u_denormalized)\n",
    "    x0_norm = (x_measured - norm.y0)/norm.ystd\n",
    "\n",
    "    x_log[(mpciter+1)*nx:(mpciter+2)*nx] = x_measured\n",
    "    u_log[mpciter] = u_denormalized\n",
    "    \n",
    "    x = np.hstack((x[nx:(Nc+1)*nx],x[-2:]))\n",
    "    x[:nx] = x0_norm\n",
    "    u = np.hstack((u[nx:Nc*nx],u[-2:]))\n",
    "\n",
    "    # finished mpc time measurement\n",
    "    end_time_iter = time.time()\n",
    "    comp_t_log[mpciter] = end_time_iter - start_time_iter\n",
    "\n",
    "end = time.time()\n",
    "runtime = end - start\n",
    "print(runtime)"
   ]
  },
  {
   "cell_type": "code",
   "execution_count": null,
   "metadata": {},
   "outputs": [],
   "source": [
    "x_reference_list = np.load(\"references/randomLevelTime15_20Range-1_1Nsim500.npy\")\n",
    "x_reference_list_normalized = ((x_reference_list.T - norm.y0)/norm.ystd).T\n",
    "y_reference_list = x_reference_list_normalized[1,:]\n",
    "#plt.plot(y_reference_list)"
   ]
  },
  {
   "cell_type": "code",
   "execution_count": null,
   "metadata": {},
   "outputs": [],
   "source": [
    "def getXsUs_Cs(y_reference_list_normalize, nx, nu, ny, Nsim, u_min, u_max, x_min, x_max, get_A, get_B, C, f0, h0):\n",
    "    ne = 1 #number of variables in epsilon\n",
    "    Q = np.eye(ny) # add this as variable of function\n",
    "    R = np.eye(nu) # add this as variable of function\n",
    "    lam = 1000\n",
    "    \n",
    "    In = np.eye(nx)\n",
    "    Im = np.eye(nu)\n",
    "    Zn = np.zeros((nu,nx))\n",
    "    Zm = np.zeros((nx,nu))\n",
    "\n",
    "    Mi = np.vstack((Zn, Zn, -In, In))\n",
    "    Ei = np.vstack((-Im, Im, Zm, Zm))\n",
    "    h = np.array([list(itertools.chain([-u_min, u_max], [x*-1 for x in x_min],  x_max))]).T\n",
    "\n",
    "    T = np.zeros((2*(nx+nu), nx+nu+ne))\n",
    "    T[:,:nx] = Mi\n",
    "    T[:,nx:nx+nu] = Ei\n",
    "    T[:,nx+nu:] = -np.ones((2*(nx+nu),ne))\n",
    "\n",
    "    b = np.zeros((nx+ny, 1))\n",
    "    b[:nx] = f0\n",
    "\n",
    "    P = np.zeros((nx+nu+ne, nx+nu+ne))\n",
    "    #P[:nx, :nx] = C.T@Q@C\n",
    "    P[nx:nx+nu, nx:nx+nu] = R\n",
    "    P[nx+nu:, nx+nu:] = lam\n",
    "\n",
    "    q = np.zeros((nx+nu+ne,1))\n",
    "    \n",
    "    xs = np.zeros(nx)\n",
    "    us = np.zeros(nu)\n",
    "    xue = np.zeros(nx+nu+ne)\n",
    "    As = np.zeros((nx,nx))\n",
    "    Bs = np.zeros((nx,nu))\n",
    "    Cs = np.zeros((ny,nx))\n",
    "\n",
    "    A = np.zeros((nx+ny, nx+nu+ne))\n",
    "    #A[nx:nx+ny,:nx] = C #change this to getC from xs us when needed\n",
    "\n",
    "    x_reference_list_normalized = np.zeros((nx, Nsim))\n",
    "    u_reference_list_normalized = np.zeros((nu, Nsim))\n",
    "    e_reference_list_normalized = np.zeros((ne, Nsim))\n",
    "\n",
    "    for j in range(Nsim):\n",
    "\n",
    "        b[nx:nx+ny] = y_reference_list_normalize[j] - h0 #+ correction_h #add h0 here when needed\n",
    "        q[:nx,0] = C.T@Q@(h0 - y_reference_list_normalize[j])\n",
    "\n",
    "        for i in range(20):\n",
    "            As[:,:] = get_A(xs, us)\n",
    "            Bs[:,:] = get_B(xs, us)\n",
    "            Cs[:,:] = get_C(xs, us)\n",
    "\n",
    "            A[:nx,:nx] = np.eye(nx) - As\n",
    "            A[:nx,nx:nx+nu] = -Bs\n",
    "            A[nx:nx+ny,:nx] = Cs\n",
    "            q[:nx,0] = Cs.T@Q@(h0 - y_reference_list_normalize[j])\n",
    "            P[:nx, :nx] = Cs.T@Q@Cs\n",
    "\n",
    "            #xu[:] = (np.linalg.inv(A)@b)[:,0]\n",
    "            xue[:] = (qp.solve_qp(P,q,T,h[:,0],A,b[:,0],solver=\"osqp\"))\n",
    "\n",
    "            xold = xs\n",
    "            uold = us\n",
    "            xs = xue[:nx]\n",
    "            us = xue[nx:nx+nu]\n",
    "            e = xue[nx+nu:]\n",
    "\n",
    "            if np.linalg.norm(xs-xold) <= 1e-6 and np.linalg.norm(us-uold) <= 1e-6:\n",
    "                break\n",
    "\n",
    "        x_reference_list_normalized[:,j] = xs\n",
    "        u_reference_list_normalized[:,j] = us\n",
    "        e_reference_list_normalized[:,j] = e\n",
    "        \n",
    "    return x_reference_list_normalized, u_reference_list_normalized, e_reference_list_normalized"
   ]
  },
  {
   "cell_type": "code",
   "execution_count": null,
   "metadata": {},
   "outputs": [],
   "source": [
    "C = np.array([[0, 1]])\n",
    "ny = 1\n",
    "h0 = np.zeros(1)\n",
    "Nsim = 100\n",
    "x_reference_list_normalized, u_reference_list_normalized, e_reference_list_normalized = getXsUs(y_reference_list, nx, nu, ny, Nsim, \\\n",
    "    u_min, u_max, x_min, x_max, get_A, get_B, C, correction_f, h0)"
   ]
  },
  {
   "cell_type": "code",
   "execution_count": null,
   "metadata": {},
   "outputs": [],
   "source": [
    "Xs = np.reshape(x_reference_list_normalized[:,1:Nc+1].T, (2*Nc,1))\n",
    "xs = x_reference_list_normalized[:,:1]\n",
    "Us = u_reference_list_normalized[:,:Nc].T\n",
    "Fs = 2*(Gamma.T@Omega@(Phi@(x[:2][np.newaxis].T) + Xs) + Psi.T@Us)\n",
    "Fs.shape, F.shape"
   ]
  },
  {
   "cell_type": "code",
   "execution_count": null,
   "metadata": {},
   "outputs": [],
   "source": [
    "plt.plot(x_reference_list_normalized[1,:])"
   ]
  },
  {
   "cell_type": "code",
   "execution_count": null,
   "metadata": {},
   "outputs": [],
   "source": [
    "plt.plot(e_reference_list_normalized[0,:])"
   ]
  },
  {
   "cell_type": "code",
   "execution_count": null,
   "metadata": {},
   "outputs": [],
   "source": [
    "#x_complete = np.hstack((x_log))\n",
    "\n",
    "plt.subplot(2,3,1)\n",
    "plt.plot(x_log[0::nx])\n",
    "\n",
    "plt.subplot(2,3,2)\n",
    "plt.plot(x_log[1::nx])\n",
    "\n",
    "plt.subplot(2,3,3)\n",
    "plt.plot(u[:])\n",
    "\n",
    "plt.subplot(2,3,4)\n",
    "plt.plot(comp_t_log[:])"
   ]
  },
  {
   "cell_type": "code",
   "execution_count": null,
   "metadata": {},
   "outputs": [],
   "source": []
  }
 ],
 "metadata": {
  "kernelspec": {
   "display_name": "Python 3.9.0 64-bit",
   "language": "python",
   "name": "python3"
  },
  "language_info": {
   "codemirror_mode": {
    "name": "ipython",
    "version": 3
   },
   "file_extension": ".py",
   "mimetype": "text/x-python",
   "name": "python",
   "nbconvert_exporter": "python",
   "pygments_lexer": "ipython3",
   "version": "3.9.0"
  },
  "orig_nbformat": 4,
  "vscode": {
   "interpreter": {
    "hash": "4adf2e6253b261bd4dae3284651a7270092766d2a4e11b51cb3c91db9fd89146"
   }
  }
 },
 "nbformat": 4,
 "nbformat_minor": 2
}
