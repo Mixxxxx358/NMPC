{
 "cells": [
  {
   "cell_type": "code",
   "execution_count": 1,
   "metadata": {},
   "outputs": [],
   "source": [
    "from Systems import UnbalancedDisc\n",
    "from Systems import NoisyUnbalancedDisc\n",
    "from Systems import DiscreteUnbalancedDisc\n",
    "import deepSI\n",
    "from matplotlib import pyplot as plt\n",
    "import numpy as np"
   ]
  },
  {
   "cell_type": "code",
   "execution_count": 2,
   "metadata": {},
   "outputs": [
    {
     "data": {
      "text/plain": [
       "[<matplotlib.lines.Line2D at 0x18848081d00>]"
      ]
     },
     "execution_count": 2,
     "metadata": {},
     "output_type": "execute_result"
    },
    {
     "data": {
      "image/png": "[encoded data removed]",
      "text/plain": [
       "<Figure size 432x288 with 1 Axes>"
      ]
     },
     "metadata": {
      "needs_background": "light"
     },
     "output_type": "display_data"
    }
   ],
   "source": [
    "#out = np.load('measurement-datasets/disk-measurement-dataset-1.npz') \n",
    "#u1 = out['u'] #inputs\n",
    "#th = out['th'] #outputs\n",
    "#t = out['t'] #time vector\n",
    "\n",
    "u = deepSI.deepSI.exp_design.multisine(100000, pmax=49999, n_crest_factor_optim=20)\n",
    "u = np.clip(u*1.0, -3.0, 3.0)\n",
    "plt.subplot(1,2,1)\n",
    "plt.plot(u[:300])\n",
    "# plt.subplot(1,2,2)\n",
    "# plt.plot(u1[:300])"
   ]
  },
  {
   "cell_type": "code",
   "execution_count": 3,
   "metadata": {},
   "outputs": [],
   "source": [
    "system = NoisyUnbalancedDisc(dt=0.1, sigma_n=[0, 0])\n",
    "#system_discrete = DiscreteUnbalancedDisc(dt=0.1)\n",
    "data = system.apply_experiment(deepSI.System_data(u=u))\n",
    "#data_discrete = system_discrete.apply_experiment(deepSI.System_data(u=u))\n",
    "#data = system_discrete.apply_experiment(deepSI.System_data(u=u))"
   ]
  },
  {
   "cell_type": "code",
   "execution_count": 4,
   "metadata": {},
   "outputs": [
    {
     "data": {
      "text/plain": [
       "[<matplotlib.lines.Line2D at 0x1885cbd6c70>]"
      ]
     },
     "execution_count": 4,
     "metadata": {},
     "output_type": "execute_result"
    },
    {
     "data": {
      "image/png": "[encoded data removed]",
      "text/plain": [
       "<Figure size 432x288 with 1 Axes>"
      ]
     },
     "metadata": {
      "needs_background": "light"
     },
     "output_type": "display_data"
    }
   ],
   "source": [
    "# plt.subplot(1,2,1)\n",
    "# plt.plot(data.y[:,0])\n",
    "# plt.subplot(1,2,2)\n",
    "# plt.plot(data.y[:,1])\n",
    "plt.plot(data.y)"
   ]
  },
  {
   "cell_type": "code",
   "execution_count": null,
   "metadata": {},
   "outputs": [],
   "source": [
    "plt.subplot(1,2,1)\n",
    "plt.plot(data_discrete.y[:,0], label='discrete')\n",
    "plt.plot(data_discrete.y[:,0] - data.y[:,0], label='difference')\n",
    "plt.grid()\n",
    "plt.legend()\n",
    "\n",
    "plt.subplot(1,2,2)\n",
    "plt.plot(data_discrete.y[:,1], label='discrete')\n",
    "plt.plot(data_discrete.y[:,1] - data.y[:,1], label='difference')\n",
    "plt.grid()\n",
    "plt.legend();"
   ]
  },
  {
   "cell_type": "code",
   "execution_count": null,
   "metadata": {},
   "outputs": [],
   "source": [
    "Spower = np.sum(np.square(data.y), axis=0)/data.y.shape[0]"
   ]
  },
  {
   "cell_type": "code",
   "execution_count": null,
   "metadata": {},
   "outputs": [],
   "source": [
    "Npower = np.sum(np.square(np.hstack((np.random.normal(0, 0.47, (10000,1)), np.random.normal(0, 0.044, (10000,1))))), axis=0)/10000\n",
    "# SNR 200 = [0.33, 0.032]\n",
    "# SNR 100 = [0.47, 0.044]\n",
    "# SNR 50 = [0.48, 0.044]\n",
    "# SNR 20 = [0.77, 0.074]\n",
    "# SNR 10 = [1.45 0.14]\n",
    "# SNR 5.2 = [2.3 0.22]\n",
    "10*np.log10(Spower / Npower)"
   ]
  },
  {
   "cell_type": "code",
   "execution_count": null,
   "metadata": {},
   "outputs": [],
   "source": [
    "from torch import nn\n",
    "class I_encoder(deepSI.fit_systems.SS_encoder):\n",
    "    def __init__(self, nx = 2, na=2, nb=2, feedthrough=False) -> None:\n",
    "        super().__init__(nx=nx, na=na, nb=nb, feedthrough=feedthrough)\n",
    "\n",
    "    def init_nets(self, nu, ny): # a bit weird\n",
    "        ny = ny if ny is not None else 1\n",
    "        nu = nu if nu is not None else 1\n",
    "        self.encoder = self.e_net(self.nb*nu+self.na*ny, self.nx, n_nodes_per_layer=self.e_n_nodes_per_layer, n_hidden_layers=self.e_n_hidden_layers, activation=self.e_activation)\n",
    "        self.fn =      self.f_net(self.nx+nu,            self.nx, n_nodes_per_layer=self.f_n_nodes_per_layer, n_hidden_layers=self.f_n_hidden_layers, activation=self.f_activation)\n",
    "        hn_in = self.nx + nu if self.feedthrough else self.nx\n",
    "        #self.hn =      stateSelector()\n",
    "        self.hn =      nn.Identity(hn_in)#self.h_net(hn_in     ,            ny,      n_nodes_per_layer=self.h_n_nodes_per_layer, n_hidden_layers=self.h_n_hidden_layers, activation=self.h_activation)"
   ]
  },
  {
   "cell_type": "code",
   "execution_count": 5,
   "metadata": {},
   "outputs": [],
   "source": [
    "#I_enc = I_encoder(nx=2, na=2, nb=2, feedthrough=False)\n",
    "I_enc = deepSI.fit_systems.SS_encoder(nx=2, na=2, nb=2, feedthrough=False)"
   ]
  },
  {
   "cell_type": "code",
   "execution_count": 6,
   "metadata": {},
   "outputs": [],
   "source": [
    "train, test = data.train_test_split(split_fraction=0.2)\n",
    "train, val  = train.train_test_split(split_fraction=0.25)"
   ]
  },
  {
   "cell_type": "code",
   "execution_count": 7,
   "metadata": {},
   "outputs": [
    {
     "name": "stdout",
     "output_type": "stream",
     "text": [
      "Initilizing the model and optimizer\n",
      "Size of the training array =  138.8 MB\n",
      "N_training_samples = 59849, batch_size = 256, N_batch_updates_per_epoch = 233\n",
      "Initial Validation sim-NRMS= 1.4301258596457596\n"
     ]
    },
    {
     "data": {
      "application/vnd.jupyter.widget-view+json": {
       "model_id": "66be601a461a4c96a5377e88de0fbc23",
       "version_major": 2,
       "version_minor": 0
      },
      "text/plain": [
       "  0%|          | 0/100 [00:00<?, ?it/s]"
      ]
     },
     "metadata": {},
     "output_type": "display_data"
    },
    {
     "name": "stdout",
     "output_type": "stream",
     "text": [
      "########## New lowest validation loss achieved ########### sim-NRMS = 0.1727456890668354\n",
      "Epoch    1, sqrt loss  0.5636, Val sim-NRMS 0.1727, Time Loss: 92.8%, data: 0.1%, val: 7.1%,  2.7 batches/sec\n",
      "########## New lowest validation loss achieved ########### sim-NRMS = 0.09419739979786004\n",
      "Epoch    2, sqrt loss  0.1739, Val sim-NRMS 0.0942, Time Loss: 92.1%, data: 0.1%, val: 7.8%,  2.8 batches/sec\n",
      "########## New lowest validation loss achieved ########### sim-NRMS = 0.07274368509119498\n",
      "Epoch    3, sqrt loss  0.1266, Val sim-NRMS 0.07274, Time Loss: 91.9%, data: 0.1%, val: 7.9%,  2.9 batches/sec\n",
      "########## New lowest validation loss achieved ########### sim-NRMS = 0.060490996603388726\n",
      "Epoch    4, sqrt loss  0.1068, Val sim-NRMS 0.06049, Time Loss: 91.8%, data: 0.1%, val: 8.0%,  2.9 batches/sec\n",
      "########## New lowest validation loss achieved ########### sim-NRMS = 0.0535190403835334\n",
      "Epoch    5, sqrt loss 0.09575, Val sim-NRMS 0.05352, Time Loss: 91.7%, data: 0.1%, val: 8.1%,  2.9 batches/sec\n",
      "########## New lowest validation loss achieved ########### sim-NRMS = 0.05214514784842255\n",
      "Epoch    6, sqrt loss 0.08912, Val sim-NRMS 0.05215, Time Loss: 91.7%, data: 0.1%, val: 8.2%,  2.9 batches/sec\n",
      "Epoch    7, sqrt loss 0.08324, Val sim-NRMS 0.05744, Time Loss: 91.7%, data: 0.1%, val: 8.2%,  2.9 batches/sec\n",
      "Epoch    8, sqrt loss 0.07845, Val sim-NRMS 0.05569, Time Loss: 91.6%, data: 0.1%, val: 8.2%,  2.9 batches/sec\n",
      "########## New lowest validation loss achieved ########### sim-NRMS = 0.04289724404801094\n",
      "Epoch    9, sqrt loss 0.07483, Val sim-NRMS 0.0429, Time Loss: 96.5%, data: 0.1%, val: 3.5%,  1.3 batches/sec\n",
      "Epoch   10, sqrt loss 0.07175, Val sim-NRMS 0.04364, Time Loss: 96.3%, data: 0.1%, val: 3.6%,  1.4 batches/sec\n",
      "########## New lowest validation loss achieved ########### sim-NRMS = 0.038306158163726824\n",
      "Epoch   11, sqrt loss 0.06913, Val sim-NRMS 0.03831, Time Loss: 96.2%, data: 0.1%, val: 3.7%,  1.5 batches/sec\n",
      "Epoch   12, sqrt loss 0.06671, Val sim-NRMS 0.03968, Time Loss: 96.1%, data: 0.1%, val: 3.8%,  1.6 batches/sec\n",
      "Epoch   13, sqrt loss 0.06608, Val sim-NRMS 0.04192, Time Loss: 96.0%, data: 0.1%, val: 3.9%,  1.6 batches/sec\n",
      "Epoch   14, sqrt loss 0.06366, Val sim-NRMS 0.0519, Time Loss: 95.9%, data: 0.1%, val: 4.0%,  1.7 batches/sec\n",
      "########## New lowest validation loss achieved ########### sim-NRMS = 0.0363546840515193\n",
      "Epoch   15, sqrt loss 0.06274, Val sim-NRMS 0.03635, Time Loss: 95.8%, data: 0.1%, val: 4.1%,  1.8 batches/sec\n",
      "########## New lowest validation loss achieved ########### sim-NRMS = 0.0329784824234438\n",
      "Epoch   16, sqrt loss 0.06043, Val sim-NRMS 0.03298, Time Loss: 95.8%, data: 0.1%, val: 4.2%,  1.8 batches/sec\n",
      "Epoch   17, sqrt loss 0.05911, Val sim-NRMS 0.03667, Time Loss: 95.7%, data: 0.1%, val: 4.2%,  1.9 batches/sec\n",
      "Epoch   18, sqrt loss 0.05996, Val sim-NRMS 0.0376, Time Loss: 95.6%, data: 0.1%, val: 4.3%,  1.9 batches/sec\n",
      "Epoch   19, sqrt loss 0.05779, Val sim-NRMS 0.04153, Time Loss: 95.5%, data: 0.1%, val: 4.4%,  2.0 batches/sec\n",
      "Epoch   20, sqrt loss 0.05675, Val sim-NRMS 0.04243, Time Loss: 95.5%, data: 0.1%, val: 4.4%,  2.1 batches/sec\n",
      "########## New lowest validation loss achieved ########### sim-NRMS = 0.029450383834077477\n",
      "Epoch   21, sqrt loss 0.05692, Val sim-NRMS 0.02945, Time Loss: 95.4%, data: 0.1%, val: 4.5%,  2.1 batches/sec\n",
      "Epoch   22, sqrt loss 0.05389, Val sim-NRMS 0.06881, Time Loss: 95.4%, data: 0.1%, val: 4.6%,  2.2 batches/sec\n",
      "Epoch   23, sqrt loss  0.0554, Val sim-NRMS 0.04105, Time Loss: 95.3%, data: 0.1%, val: 4.6%,  2.2 batches/sec\n",
      "Epoch   24, sqrt loss 0.05389, Val sim-NRMS 0.03264, Time Loss: 95.2%, data: 0.1%, val: 4.7%,  2.2 batches/sec\n",
      "########## New lowest validation loss achieved ########### sim-NRMS = 0.027198347440329864\n",
      "Epoch   25, sqrt loss 0.05338, Val sim-NRMS 0.0272, Time Loss: 95.2%, data: 0.1%, val: 4.7%,  2.3 batches/sec\n",
      "Epoch   26, sqrt loss 0.05006, Val sim-NRMS 0.02787, Time Loss: 95.1%, data: 0.1%, val: 4.8%,  2.3 batches/sec\n",
      "Epoch   27, sqrt loss 0.05168, Val sim-NRMS 0.03893, Time Loss: 95.1%, data: 0.1%, val: 4.8%,  2.4 batches/sec\n",
      "Epoch   28, sqrt loss 0.05051, Val sim-NRMS 0.02777, Time Loss: 95.1%, data: 0.1%, val: 4.9%,  2.4 batches/sec\n",
      "Epoch   29, sqrt loss  0.0497, Val sim-NRMS 0.0305, Time Loss: 95.0%, data: 0.1%, val: 4.9%,  2.4 batches/sec\n",
      "########## New lowest validation loss achieved ########### sim-NRMS = 0.02681585932754897\n",
      "Epoch   30, sqrt loss 0.04881, Val sim-NRMS 0.02682, Time Loss: 95.0%, data: 0.1%, val: 4.9%,  2.5 batches/sec\n",
      "########## New lowest validation loss achieved ########### sim-NRMS = 0.025121776173177186\n",
      "Epoch   31, sqrt loss 0.04893, Val sim-NRMS 0.02512, Time Loss: 94.9%, data: 0.1%, val: 5.0%,  2.5 batches/sec\n",
      "Epoch   32, sqrt loss  0.0486, Val sim-NRMS 0.02618, Time Loss: 94.9%, data: 0.1%, val: 5.0%,  2.5 batches/sec\n",
      "Epoch   33, sqrt loss 0.04761, Val sim-NRMS 0.03505, Time Loss: 94.9%, data: 0.1%, val: 5.0%,  2.5 batches/sec\n",
      "Epoch   34, sqrt loss 0.04714, Val sim-NRMS 0.05561, Time Loss: 94.8%, data: 0.1%, val: 5.1%,  2.6 batches/sec\n",
      "Epoch   35, sqrt loss 0.04685, Val sim-NRMS 0.05155, Time Loss: 94.8%, data: 0.1%, val: 5.1%,  2.6 batches/sec\n",
      "Epoch   36, sqrt loss 0.04576, Val sim-NRMS 0.0389, Time Loss: 94.7%, data: 0.1%, val: 5.1%,  2.6 batches/sec\n",
      "Epoch   37, sqrt loss 0.04502, Val sim-NRMS 0.02632, Time Loss: 94.7%, data: 0.1%, val: 5.2%,  2.7 batches/sec\n",
      "Epoch   38, sqrt loss 0.04511, Val sim-NRMS 0.02944, Time Loss: 94.7%, data: 0.1%, val: 5.2%,  2.7 batches/sec\n",
      "Epoch   39, sqrt loss 0.04589, Val sim-NRMS 0.03929, Time Loss: 94.7%, data: 0.1%, val: 5.2%,  2.7 batches/sec\n",
      "Epoch   40, sqrt loss 0.04393, Val sim-NRMS 0.04165, Time Loss: 94.6%, data: 0.1%, val: 5.3%,  2.7 batches/sec\n",
      "########## New lowest validation loss achieved ########### sim-NRMS = 0.022001107483206675\n",
      "Epoch   41, sqrt loss 0.04567, Val sim-NRMS  0.022, Time Loss: 94.6%, data: 0.1%, val: 5.3%,  2.7 batches/sec\n",
      "Epoch   42, sqrt loss 0.04454, Val sim-NRMS 0.03512, Time Loss: 94.6%, data: 0.1%, val: 5.3%,  2.8 batches/sec\n",
      "Epoch   43, sqrt loss 0.04249, Val sim-NRMS 0.04827, Time Loss: 94.6%, data: 0.1%, val: 5.3%,  2.8 batches/sec\n",
      "Epoch   44, sqrt loss   0.043, Val sim-NRMS 0.02207, Time Loss: 94.5%, data: 0.1%, val: 5.4%,  2.8 batches/sec\n",
      "Epoch   45, sqrt loss 0.04294, Val sim-NRMS 0.02764, Time Loss: 94.5%, data: 0.1%, val: 5.4%,  2.8 batches/sec\n",
      "########## New lowest validation loss achieved ########### sim-NRMS = 0.02196382118728119\n",
      "Epoch   46, sqrt loss  0.0414, Val sim-NRMS 0.02196, Time Loss: 94.5%, data: 0.1%, val: 5.4%,  2.8 batches/sec\n",
      "########## New lowest validation loss achieved ########### sim-NRMS = 0.02037871668592088\n",
      "Epoch   47, sqrt loss 0.04266, Val sim-NRMS 0.02038, Time Loss: 94.5%, data: 0.1%, val: 5.4%,  2.8 batches/sec\n",
      "Epoch   48, sqrt loss 0.04134, Val sim-NRMS 0.03015, Time Loss: 94.4%, data: 0.1%, val: 5.4%,  2.9 batches/sec\n",
      "Epoch   49, sqrt loss 0.04168, Val sim-NRMS 0.02249, Time Loss: 94.4%, data: 0.1%, val: 5.5%,  2.9 batches/sec\n",
      "Epoch   50, sqrt loss 0.04099, Val sim-NRMS 0.02277, Time Loss: 94.4%, data: 0.1%, val: 5.5%,  2.9 batches/sec\n",
      "########## New lowest validation loss achieved ########### sim-NRMS = 0.019547509435409564\n",
      "Epoch   51, sqrt loss 0.04039, Val sim-NRMS 0.01955, Time Loss: 94.4%, data: 0.1%, val: 5.5%,  2.9 batches/sec\n",
      "Epoch   52, sqrt loss    0.04, Val sim-NRMS 0.0322, Time Loss: 94.4%, data: 0.1%, val: 5.5%,  2.9 batches/sec\n",
      "Epoch   53, sqrt loss 0.04029, Val sim-NRMS 0.01976, Time Loss: 94.3%, data: 0.1%, val: 5.5%,  2.9 batches/sec\n",
      "Epoch   54, sqrt loss 0.04026, Val sim-NRMS 0.02278, Time Loss: 94.3%, data: 0.1%, val: 5.6%,  3.0 batches/sec\n",
      "Epoch   55, sqrt loss 0.04022, Val sim-NRMS 0.0228, Time Loss: 94.3%, data: 0.1%, val: 5.6%,  3.0 batches/sec\n",
      "Epoch   56, sqrt loss 0.03975, Val sim-NRMS 0.04381, Time Loss: 94.3%, data: 0.1%, val: 5.6%,  3.0 batches/sec\n",
      "########## New lowest validation loss achieved ########### sim-NRMS = 0.01833679977352038\n",
      "Epoch   57, sqrt loss 0.03933, Val sim-NRMS 0.01834, Time Loss: 94.3%, data: 0.1%, val: 5.6%,  3.0 batches/sec\n",
      "Epoch   58, sqrt loss  0.0398, Val sim-NRMS 0.02134, Time Loss: 94.3%, data: 0.1%, val: 5.6%,  3.0 batches/sec\n",
      "Epoch   59, sqrt loss 0.03928, Val sim-NRMS 0.0361, Time Loss: 94.3%, data: 0.1%, val: 5.6%,  3.0 batches/sec\n",
      "Epoch   60, sqrt loss 0.03889, Val sim-NRMS 0.02974, Time Loss: 94.2%, data: 0.1%, val: 5.6%,  3.0 batches/sec\n",
      "Epoch   61, sqrt loss 0.03995, Val sim-NRMS 0.02575, Time Loss: 94.2%, data: 0.1%, val: 5.7%,  3.0 batches/sec\n",
      "Epoch   62, sqrt loss 0.03669, Val sim-NRMS 0.03094, Time Loss: 94.2%, data: 0.1%, val: 5.7%,  3.1 batches/sec\n",
      "########## New lowest validation loss achieved ########### sim-NRMS = 0.01744532707768066\n",
      "Epoch   63, sqrt loss 0.03829, Val sim-NRMS 0.01745, Time Loss: 94.2%, data: 0.1%, val: 5.7%,  3.1 batches/sec\n",
      "Epoch   64, sqrt loss 0.03796, Val sim-NRMS 0.04815, Time Loss: 94.2%, data: 0.1%, val: 5.7%,  3.1 batches/sec\n",
      "Epoch   65, sqrt loss 0.03853, Val sim-NRMS 0.03142, Time Loss: 94.2%, data: 0.1%, val: 5.7%,  3.1 batches/sec\n",
      "Epoch   66, sqrt loss 0.03871, Val sim-NRMS 0.01758, Time Loss: 94.2%, data: 0.1%, val: 5.7%,  3.1 batches/sec\n",
      "Epoch   67, sqrt loss 0.03789, Val sim-NRMS 0.02247, Time Loss: 94.1%, data: 0.1%, val: 5.7%,  3.1 batches/sec\n",
      "Epoch   68, sqrt loss 0.03819, Val sim-NRMS 0.02382, Time Loss: 94.1%, data: 0.1%, val: 5.7%,  3.1 batches/sec\n",
      "Epoch   69, sqrt loss 0.03607, Val sim-NRMS 0.01867, Time Loss: 94.1%, data: 0.1%, val: 5.8%,  3.1 batches/sec\n",
      "Epoch   70, sqrt loss 0.03761, Val sim-NRMS 0.02203, Time Loss: 94.1%, data: 0.1%, val: 5.8%,  3.1 batches/sec\n",
      "########## New lowest validation loss achieved ########### sim-NRMS = 0.017233060447868574\n",
      "Epoch   71, sqrt loss  0.0365, Val sim-NRMS 0.01723, Time Loss: 94.1%, data: 0.1%, val: 5.8%,  3.1 batches/sec\n",
      "Epoch   72, sqrt loss 0.03717, Val sim-NRMS 0.02991, Time Loss: 94.1%, data: 0.1%, val: 5.8%,  3.1 batches/sec\n",
      "########## New lowest validation loss achieved ########### sim-NRMS = 0.01705951761161405\n",
      "Epoch   73, sqrt loss 0.03658, Val sim-NRMS 0.01706, Time Loss: 94.1%, data: 0.1%, val: 5.8%,  3.2 batches/sec\n",
      "Epoch   74, sqrt loss 0.03595, Val sim-NRMS 0.02763, Time Loss: 94.1%, data: 0.1%, val: 5.8%,  3.2 batches/sec\n",
      "Epoch   75, sqrt loss 0.03632, Val sim-NRMS 0.01817, Time Loss: 94.1%, data: 0.1%, val: 5.8%,  3.2 batches/sec\n",
      "Epoch   76, sqrt loss 0.03674, Val sim-NRMS 0.01781, Time Loss: 94.0%, data: 0.1%, val: 5.8%,  3.2 batches/sec\n",
      "Epoch   77, sqrt loss 0.03738, Val sim-NRMS 0.03332, Time Loss: 94.0%, data: 0.1%, val: 5.8%,  3.2 batches/sec\n",
      "Epoch   78, sqrt loss 0.03625, Val sim-NRMS 0.02171, Time Loss: 94.0%, data: 0.1%, val: 5.9%,  3.2 batches/sec\n",
      "Epoch   79, sqrt loss 0.03622, Val sim-NRMS 0.02049, Time Loss: 94.0%, data: 0.1%, val: 5.9%,  3.2 batches/sec\n",
      "Epoch   80, sqrt loss 0.03632, Val sim-NRMS 0.02101, Time Loss: 94.0%, data: 0.1%, val: 5.9%,  3.2 batches/sec\n",
      "Epoch   81, sqrt loss 0.03482, Val sim-NRMS 0.0239, Time Loss: 94.0%, data: 0.1%, val: 5.9%,  3.2 batches/sec\n",
      "Epoch   82, sqrt loss 0.03538, Val sim-NRMS 0.01782, Time Loss: 94.0%, data: 0.1%, val: 5.9%,  3.2 batches/sec\n",
      "Epoch   83, sqrt loss 0.03683, Val sim-NRMS 0.01929, Time Loss: 94.0%, data: 0.1%, val: 5.9%,  3.2 batches/sec\n",
      "Epoch   84, sqrt loss 0.03527, Val sim-NRMS 0.01786, Time Loss: 94.0%, data: 0.1%, val: 5.9%,  3.2 batches/sec\n",
      "Epoch   85, sqrt loss  0.0356, Val sim-NRMS   0.03, Time Loss: 93.9%, data: 0.1%, val: 5.9%,  3.2 batches/sec\n",
      "Epoch   86, sqrt loss 0.03529, Val sim-NRMS 0.03137, Time Loss: 93.9%, data: 0.1%, val: 5.9%,  3.3 batches/sec\n",
      "Epoch   87, sqrt loss 0.03544, Val sim-NRMS 0.02258, Time Loss: 93.9%, data: 0.1%, val: 6.0%,  3.3 batches/sec\n",
      "Epoch   88, sqrt loss 0.03619, Val sim-NRMS 0.02127, Time Loss: 93.9%, data: 0.1%, val: 6.0%,  3.3 batches/sec\n",
      "########## New lowest validation loss achieved ########### sim-NRMS = 0.016144443106977102\n",
      "Epoch   89, sqrt loss 0.03582, Val sim-NRMS 0.01614, Time Loss: 93.9%, data: 0.1%, val: 6.0%,  3.3 batches/sec\n",
      "Epoch   90, sqrt loss 0.03555, Val sim-NRMS 0.02535, Time Loss: 93.9%, data: 0.1%, val: 6.0%,  3.3 batches/sec\n",
      "Epoch   91, sqrt loss  0.0344, Val sim-NRMS 0.01615, Time Loss: 93.9%, data: 0.1%, val: 6.0%,  3.3 batches/sec\n",
      "Epoch   92, sqrt loss 0.03513, Val sim-NRMS 0.02108, Time Loss: 93.9%, data: 0.1%, val: 6.0%,  3.3 batches/sec\n",
      "Epoch   93, sqrt loss 0.03446, Val sim-NRMS 0.02637, Time Loss: 93.9%, data: 0.1%, val: 6.0%,  3.3 batches/sec\n",
      "Epoch   94, sqrt loss 0.03305, Val sim-NRMS 0.02594, Time Loss: 93.9%, data: 0.1%, val: 6.0%,  3.3 batches/sec\n",
      "########## New lowest validation loss achieved ########### sim-NRMS = 0.015836577558156352\n",
      "Epoch   95, sqrt loss 0.03446, Val sim-NRMS 0.01584, Time Loss: 93.9%, data: 0.1%, val: 6.0%,  3.3 batches/sec\n",
      "Epoch   96, sqrt loss 0.03512, Val sim-NRMS 0.01846, Time Loss: 93.9%, data: 0.1%, val: 6.0%,  3.3 batches/sec\n",
      "Epoch   97, sqrt loss 0.03425, Val sim-NRMS 0.03296, Time Loss: 93.8%, data: 0.1%, val: 6.0%,  3.3 batches/sec\n",
      "Epoch   98, sqrt loss 0.03326, Val sim-NRMS 0.02211, Time Loss: 93.8%, data: 0.1%, val: 6.0%,  3.3 batches/sec\n",
      "Epoch   99, sqrt loss 0.03311, Val sim-NRMS 0.01931, Time Loss: 93.8%, data: 0.1%, val: 6.0%,  3.3 batches/sec\n",
      "Epoch  100, sqrt loss 0.03425, Val sim-NRMS 0.02622, Time Loss: 93.8%, data: 0.1%, val: 6.0%,  3.3 batches/sec\n",
      "Loaded model with best known validation sim-NRMS of 0.01584 which happened on epoch 95 (epoch_id=95.00)\n"
     ]
    }
   ],
   "source": [
    "I_enc.fit(train_sys_data=train, val_sys_data=val, epochs=100, batch_size=256, loss_kwargs={'nf':150})"
   ]
  },
  {
   "cell_type": "code",
   "execution_count": null,
   "metadata": {},
   "outputs": [],
   "source": [
    "I_enc.checkpoint_load_system('_last')\n",
    "plt.semilogy(I_enc.batch_id,I_enc.Loss_val,label='validation loss')\n",
    "plt.semilogy(I_enc.batch_id,I_enc.Loss_train**0.5,label='trains loss')\n",
    "plt.legend()"
   ]
  },
  {
   "cell_type": "code",
   "execution_count": null,
   "metadata": {},
   "outputs": [],
   "source": [
    "test_ss_enc = I_enc.apply_experiment(test,save_state=True)"
   ]
  },
  {
   "cell_type": "code",
   "execution_count": null,
   "metadata": {},
   "outputs": [],
   "source": [
    "print(f'NRMS simulation SS linear  {test_ss_enc.NRMS(test):.2%}')\n",
    "\n",
    "plt.plot(test.y[:])\n",
    "plt.plot(test.y[:] - test_ss_enc.y[:])\n",
    "\n",
    "# plt.subplot(1,2,1)\n",
    "# plt.plot(test.y[:,0])\n",
    "# plt.plot(test.y[:,0] - test_ss_enc.y[:,0])\n",
    "\n",
    "# plt.subplot(1,2,2)\n",
    "# plt.plot(test.y[:,1])\n",
    "# plt.plot(test.y[:,1] - test_ss_enc.y[:,1]);"
   ]
  },
  {
   "cell_type": "code",
   "execution_count": null,
   "metadata": {},
   "outputs": [],
   "source": [
    "nsteperror = I_enc.n_step_error(test,nf=200) #return in NRMS units of fit_sys_ss_enc.norm\n",
    "plt.plot(nsteperror)\n",
    "plt.xlabel('n step in the future')\n",
    "plt.ylabel('NRMS error')\n",
    "plt.show()"
   ]
  },
  {
   "cell_type": "code",
   "execution_count": null,
   "metadata": {},
   "outputs": [],
   "source": [
    "I_enc.save_system(\"systems/OutputUnbalancedDisk_dt01_e100\")"
   ]
  },
  {
   "cell_type": "code",
   "execution_count": null,
   "metadata": {},
   "outputs": [],
   "source": [
    "#I_enc = deepSI.load_system(\"systems/UnbalancedDisk_dt01_e300_SNR_50\")"
   ]
  },
  {
   "cell_type": "code",
   "execution_count": null,
   "metadata": {},
   "outputs": [],
   "source": [
    "# function that converts torch nn to casadi expression\n",
    "\n",
    "from casadi import *\n",
    "\n",
    "def CasADiFn(ss_enc, x, u):\n",
    "    n_hidden_layers = ss_enc.f_n_hidden_layers\n",
    "    nu = ss_enc.nu if ss_enc.nu is not None else 1\n",
    "\n",
    "    params = {}\n",
    "    for name, param in ss_enc.fn.named_parameters():\n",
    "        params[name] = param.detach().numpy()\n",
    "    params_list = list(params.values())\n",
    "    \n",
    "    xu = vertcat(x,u)\n",
    "\n",
    "    temp_nn = xu\n",
    "    for i in range(n_hidden_layers):\n",
    "        W_NL = params_list[2+i*2]\n",
    "        b_NL = params_list[3+i*2]\n",
    "        temp_nn = mtimes(W_NL, temp_nn)+b_NL\n",
    "        temp_nn = tanh(temp_nn)\n",
    "    W_NL = params_list[2+n_hidden_layers*2]\n",
    "    b_NL = params_list[3+n_hidden_layers*2]\n",
    "    nn_NL = mtimes(W_NL, temp_nn)+b_NL\n",
    "\n",
    "    W_Lin = params_list[0]\n",
    "    b_Lin = params_list[1]\n",
    "    nn_Lin = mtimes(W_Lin,xu) + b_Lin\n",
    "\n",
    "    #f = Function('f', [x, u], [nn_NL + nn_Lin])\n",
    "    return nn_NL + nn_Lin"
   ]
  },
  {
   "cell_type": "code",
   "execution_count": null,
   "metadata": {},
   "outputs": [],
   "source": [
    "# function that checks whether torch nn and casadi function have the same behavior\n",
    "\n",
    "import torch\n",
    "\n",
    "def checkCasADiFn(ss_enc, casadi_fn):\n",
    "    nu = 1000\n",
    "    u = (torch.rand(nu,3)*2-1)*2\n",
    "    ss_out = ss_enc.fn(u).detach().numpy()\n",
    "\n",
    "    check = True\n",
    "    for i in range(nu):\n",
    "        xin = u[i,0:2].numpy().tolist()\n",
    "        uin = u[i,2].item()\n",
    "        cas_out = f(xin, uin).elements()\n",
    "        #equality_array = np.unique(np.round(np.array(cas_out) - ss_out[i,:], decimals=5) == 0.00000) #use np.isclose and np.all\n",
    "        if np.allclose(np.array(cas_out), ss_out[i,:], rtol=1e-05, atol=1e-05) == False:\n",
    "        #if equality_array.size != 1 or equality_array[0] == False:\n",
    "            check = False\n",
    "\n",
    "    return check"
   ]
  },
  {
   "cell_type": "code",
   "execution_count": null,
   "metadata": {},
   "outputs": [],
   "source": [
    "# declared sym variables\n",
    "x = MX.sym(\"x\",I_enc.nx,1)\n",
    "nu = I_enc.nu if I_enc.nu is not None else 1\n",
    "u = MX.sym(\"u\",nu,1)\n",
    "\n",
    "# convert torch nn to casadi function\n",
    "rhs = CasADiFn(I_enc, x, u)\n",
    "f = Function('f', [x, u], [rhs])\n",
    "\n",
    "# check if torch nn and casadi function have same behavior\n",
    "check = checkCasADiFn(I_enc, f)\n",
    "check"
   ]
  },
  {
   "cell_type": "code",
   "execution_count": null,
   "metadata": {},
   "outputs": [],
   "source": [
    "# apply correction to casadi function such that fc(0) = 0\n",
    "correction = f([0,0], 0)\n",
    "rhs_c = rhs - correction\n",
    "f_c = Function('f_c', [x, u], [rhs_c])\n",
    "f_c([0,0], 0)"
   ]
  },
  {
   "cell_type": "code",
   "execution_count": null,
   "metadata": {},
   "outputs": [],
   "source": [
    "# Box constraints\n",
    "x_min = -10\n",
    "x_max = 10\n",
    "u_min = -4\n",
    "u_max = 4\n",
    "\n",
    "# Initial and final values\n",
    "x0 = [0,0]\n",
    "x_ref = [0.001, 1.0]\n",
    "u_ref = 0\n",
    "\n",
    "# Weight matrices for the cost function\n",
    "#Q = 100\n",
    "Q = np.matrix('1,0;0,100')\n",
    "R = 1\n",
    "\n",
    "# MPC parameters\n",
    "dt = 0.1\n",
    "Nc = 10\n",
    "Nsim = 100\n",
    "dlam = 0.01\n",
    "stages = 1"
   ]
  },
  {
   "cell_type": "code",
   "execution_count": null,
   "metadata": {},
   "outputs": [],
   "source": [
    "from my_rk4 import *\n",
    "from lpv_int import *\n",
    "from lpv_rk4 import *\n",
    "import numpy as np\n",
    "import time\n",
    "\n",
    "opti = Opti()\n",
    "\n",
    "# declare variables and parameters of states and inputs\n",
    "n_states = np.shape(x)[0]\n",
    "states = opti.variable(n_states,Nc+1)    \n",
    "x_initial = opti.parameter(n_states,1)\n",
    "\n",
    "n_controls = np.shape(u)[0]\n",
    "controls = opti.variable(n_controls,Nc)\n",
    "\n",
    "reference = opti.parameter(n_states,1)\n",
    "\n",
    "# determine getA and getB functions\n",
    "Jfx = Function(\"Jfx\", [x, u], [jacobian(rhs_c,x)])\n",
    "Jfu = Function(\"Jfu\", [x, u], [jacobian(rhs_c,u)])\n",
    "[A_sym, B_sym] = lpv_int(x,n_states,u,n_controls,Jfx,Jfu,dlam,stages)\n",
    "get_A = Function(\"get_A\",[x,u],[A_sym])\n",
    "get_B = Function(\"get_B\",[x,u],[B_sym])\n",
    "\n",
    "list_A = opti.parameter(Nc*n_states,n_states)\n",
    "list_B = opti.parameter(Nc*n_states,n_controls)\n",
    "\n",
    "# declare bounds of system\n",
    "opti.subject_to(opti.bounded(x_min,states,x_max))\n",
    "opti.subject_to(opti.bounded(u_min,controls,u_max))\n",
    "opti.subject_to(states[:,0] == x_initial)\n",
    "\n",
    "opts = {'print_time' : 0, 'ipopt': {'print_level': 0}}\n",
    "opti.solver(\"ipopt\",opts)"
   ]
  },
  {
   "cell_type": "code",
   "execution_count": null,
   "metadata": {},
   "outputs": [],
   "source": [
    "#get_A = Function(\"get_A\",[x,u],A_sym.primitives())\n",
    "get_A = Function(\"get_A\",[x,u],[A_sym])"
   ]
  },
  {
   "cell_type": "code",
   "execution_count": null,
   "metadata": {},
   "outputs": [],
   "source": [
    "import time\n",
    "start_time = time.time()\n",
    "\n",
    "for i in range(2000):\n",
    "    get_A([0,0], 0)\n",
    "\n",
    "end_time = time.time()\n",
    "duration = end_time - start_time\n",
    "print(duration)"
   ]
  },
  {
   "cell_type": "code",
   "execution_count": null,
   "metadata": {},
   "outputs": [],
   "source": [
    "objective = 0 #maybe add some soft bounds on the states and inputs\n",
    "for i in np.arange(Nc):\n",
    "    #opti.subject_to(states[:,i+1] == lpv_rk4(states[:,i],controls[:,i],\\\n",
    "    #    list_A[(n_states*i):(n_states*i+n_states),:],list_B[(n_states*i):(n_states*i+n_states),:],dt, correction)) # should this be changed to discrete time model\n",
    "    opti.subject_to(states[:,i+1] == list_A[(n_states*i):(n_states*i+n_states),:]@states[:,i] \\\n",
    "        + list_B[(n_states*i):(n_states*i+n_states),:]@controls[:,i] + correction)\n",
    "    objective = (objective + \n",
    "                    #mtimes(mtimes((states[:,i]-x_ref).T,Q),(states[:,i]-x_ref)) +\n",
    "                    #mtimes(mtimes((controls[:,i]-u_ref).T,R),(controls[:,i]-u_ref)))\n",
    "                    mtimes(mtimes((states[:,i]-reference).T,Q),(states[:,i]-reference)) +\n",
    "                    mtimes(mtimes((controls[:,i]-u_ref).T,R),(controls[:,i]-u_ref)))\n",
    "\n",
    "opti.minimize(objective)"
   ]
  },
  {
   "cell_type": "code",
   "execution_count": null,
   "metadata": {},
   "outputs": [],
   "source": [
    "#reference_list = np.ones(Nsim+1)*1.0\n",
    "reference_list = np.sin(np.arange(Nsim)*2*np.pi/128)*1\n",
    "#reference_list = np.abs(reference_list)\n",
    "#reference_list = np.hstack((np.ones(50)*1.0, np.ones(50)*-1.5, np.ones(50)*0.5, np.ones(50)*-2.5))\n",
    "#plt.plot(reference_list)"
   ]
  },
  {
   "cell_type": "code",
   "execution_count": null,
   "metadata": {},
   "outputs": [],
   "source": [
    "import random\n",
    "x1_reference_list = np.array([])\n",
    "Nsim_remaining = Nsim\n",
    "while True:\n",
    "    Nsim_steps = random.randint(10,15)\n",
    "    Nsim_remaining = Nsim_remaining - Nsim_steps\n",
    "    x1_reference_list = np.hstack((x1_reference_list, np.ones(Nsim_steps)*random.randint(-10,10)/10))\n",
    "\n",
    "    if Nsim_remaining <= 0:\n",
    "        x1_reference_list = x1_reference_list[:Nsim]\n",
    "        break"
   ]
  },
  {
   "cell_type": "code",
   "execution_count": null,
   "metadata": {},
   "outputs": [],
   "source": [
    "# normalize reference list\n",
    "norm = I_enc.norm\n",
    "reference_list_normalized = (reference_list - norm.y0[1])/norm.ystd[1]\n",
    "x0_norm = (x0 - norm.y0)/norm.ystd\n",
    "\n",
    "# logging list\n",
    "t = np.zeros(Nsim)\n",
    "t0 = 0\n",
    "u_log = np.zeros([n_controls,Nsim])\n",
    "x_log = np.zeros([n_states,Nsim+1])\n",
    "comp_t_log = np.zeros(Nsim)\n",
    "x_log[:,0] = x0\n",
    "start = time.time()\n",
    "lpv_counter = np.zeros(Nsim,int)\n",
    "\n",
    "# set initial values for x\n",
    "x = np.zeros([n_states,Nc+1])\n",
    "u = np.zeros([n_controls,Nc]) # change this to u0 instead of 0 maybe\n",
    "opti.set_initial(states, x)\n",
    "opti.set_initial(controls, u)\n",
    "opti.set_value(x_initial,x0_norm)\n",
    "\n",
    "for mpciter in np.arange(Nsim):\n",
    "    start_time_iter = time.time()\n",
    "\n",
    "    # solve for u and x\n",
    "    opti.set_value(reference,[0,reference_list_normalized[mpciter]])\n",
    "\n",
    "    # MPC loop\n",
    "    while True:\n",
    "        # determine A,B\n",
    "        for i in np.arange(Nc):\n",
    "            opti.set_value(list_A[(n_states*i):(n_states*i+n_states),:],get_A(x[:,i],u[:,i]))\n",
    "            opti.set_value(list_B[(n_states*i):(n_states*i+n_states),:],get_B(x[:,i],u[:,i]))\n",
    "        \n",
    "        # solve for u and x\n",
    "        sol = opti.solve()\n",
    "        u_old = u\n",
    "        u = np.reshape(sol.value(controls),[n_controls,Nc])\n",
    "        x = np.reshape(sol.value(states),[n_states,Nc+1]) # this relies on internal simulation in solution, this is x=Ax+Bu\n",
    "\n",
    "        # simulate next step using rk4 over non correction casadi function\n",
    "        #for i in np.arange(Nc):\n",
    "        #    x[:,i+1] = np.ravel(my_rk4(x[:,i],u[:,i],f,dt),order='F')\n",
    "        x = np.reshape(sol.value(states),[n_states,Nc+1]) # change this to nn maybe\n",
    "        \n",
    "        # set new x and u values into optimizer\n",
    "        opti.set_initial(states, x)\n",
    "        opti.set_initial(controls, u)\n",
    "\n",
    "        lpv_counter[mpciter] += 1  \n",
    "\n",
    "        # Stop MPC loop if max iteration reached or input converged\n",
    "        if (lpv_counter[mpciter] >= 1) or (np.linalg.norm(u-u_old) < 1e-5):\n",
    "            break\n",
    "\n",
    "    print(\"MPC iteration: \", mpciter+1)\n",
    "    print(\"LPV counter: \", lpv_counter[mpciter])\n",
    "\n",
    "    t[mpciter] = t0\n",
    "    t0 = t0 + dt\n",
    "    try:\n",
    "        x = x.full()\n",
    "    except:\n",
    "        x = x\n",
    "    try:\n",
    "        u = u.full()\n",
    "    except:\n",
    "        u = u\n",
    "    \n",
    "    # denormalize x and u\n",
    "    x_denormalized = norm.ystd*x0_norm + norm.y0\n",
    "    u_denormalized = norm.ustd*u[0,0] + norm.u0\n",
    "\n",
    "    # make system step and normalize\n",
    "    x_denormalized = system.f(x_denormalized, u_denormalized)\n",
    "    x_measured = system.h(x_denormalized, u_denormalized)\n",
    "    x0_norm = (x_measured - norm.y0)/norm.ystd\n",
    "\n",
    "    x_log[:,mpciter+1] = x_measured\n",
    "    u_log[:,mpciter] = u_denormalized\n",
    "    \n",
    "    x = horzcat(x[:,1:(Nc+1)],x[:,-1])\n",
    "    x[:,0] = x0_norm\n",
    "    u = horzcat(u[:,1:Nc],u[:,-1])\n",
    "    opti.set_value(x_initial, x0_norm)\n",
    "    opti.set_initial(states, x)\n",
    "    opti.set_initial(controls, u)\n",
    "\n",
    "    # finished mpc time measurement\n",
    "    end_time_iter = time.time()\n",
    "    comp_t_log[mpciter] = end_time_iter - start_time_iter\n",
    "\n",
    "end = time.time()\n",
    "runtime = end - start"
   ]
  },
  {
   "cell_type": "code",
   "execution_count": null,
   "metadata": {},
   "outputs": [],
   "source": [
    "fig = plt.figure(figsize=[14.0, 3.0])\n",
    "\n",
    "plt.subplot(1,3,1)\n",
    "plt.plot(np.arange(Nsim+1)*dt, x_log[0,:], label='angular velocity')\n",
    "plt.plot(np.arange(Nsim+1)*dt, np.ones(x_log.shape[1])*x_ref[0], label='reference')\n",
    "plt.ylabel(\"velocity [m/s]\") # not sure about the unit\n",
    "plt.xlabel(\"time [s]\")\n",
    "plt.grid()\n",
    "plt.legend()\n",
    "\n",
    "plt.subplot(1,3,2)\n",
    "plt.plot(np.arange(Nsim+1)*dt, x_log[1,:], label='angle')\n",
    "#plt.plot(np.arange(Nsim+1)*dt, np.ones(x_log.shape[1])*x_ref[1], label='reference')\n",
    "plt.plot(np.arange(Nsim+1)*dt, np.hstack((np.zeros(1),reference_list)), label='reference') # figure out what the correct hstack should be here\n",
    "plt.ylabel(\"displacement [m]\") # not sure about the unit\n",
    "plt.xlabel(\"time [s]\")\n",
    "plt.grid()\n",
    "plt.legend()\n",
    "\n",
    "plt.subplot(1,3,3)\n",
    "plt.plot(np.arange(Nsim)*dt, u_log[0,:], label='input')\n",
    "plt.plot(np.arange(Nsim)*dt, np.ones(Nsim)*u_ref, label='reference')\n",
    "plt.ylabel(\"input\") # not sure about the unit\n",
    "plt.xlabel(\"time [s]\")\n",
    "plt.grid()\n",
    "plt.legend();"
   ]
  },
  {
   "cell_type": "code",
   "execution_count": null,
   "metadata": {},
   "outputs": [],
   "source": []
  }
 ],
 "metadata": {
  "kernelspec": {
   "display_name": "Python 3.9.0 64-bit",
   "language": "python",
   "name": "python3"
  },
  "language_info": {
   "codemirror_mode": {
    "name": "ipython",
    "version": 3
   },
   "file_extension": ".py",
   "mimetype": "text/x-python",
   "name": "python",
   "nbconvert_exporter": "python",
   "pygments_lexer": "ipython3",
   "version": "3.9.0"
  },
  "orig_nbformat": 4,
  "vscode": {
   "interpreter": {
    "hash": "4adf2e6253b261bd4dae3284651a7270092766d2a4e11b51cb3c91db9fd89146"
   }
  }
 },
 "nbformat": 4,
 "nbformat_minor": 2
}
