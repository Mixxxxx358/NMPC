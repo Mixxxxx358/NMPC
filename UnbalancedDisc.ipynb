{
 "cells": [
  {
   "cell_type": "code",
   "execution_count": 1,
   "metadata": {},
   "outputs": [],
   "source": [
    "from Systems import UnbalancedDisc\n",
    "from Systems import NoisyUnbalancedDisc\n",
    "from Systems import DiscreteUnbalancedDisc\n",
    "from Systems import OutputUnbalancedDisc\n",
    "import deepSI\n",
    "from matplotlib import pyplot as plt\n",
    "import numpy as np"
   ]
  },
  {
   "cell_type": "code",
   "execution_count": 2,
   "metadata": {},
   "outputs": [
    {
     "data": {
      "text/plain": [
       "[<matplotlib.lines.Line2D at 0x2b972a3c0d0>]"
      ]
     },
     "execution_count": 2,
     "metadata": {},
     "output_type": "execute_result"
    },
    {
     "data": {
      "image/png": "[encoded data removed]",
      "text/plain": [
       "<Figure size 432x288 with 1 Axes>"
      ]
     },
     "metadata": {
      "needs_background": "light"
     },
     "output_type": "display_data"
    }
   ],
   "source": [
    "#out = np.load('measurement-datasets/disk-measurement-dataset-1.npz') \n",
    "#u1 = out['u'] #inputs\n",
    "#th = out['th'] #outputs\n",
    "#t = out['t'] #time vector\n",
    "\n",
    "u = deepSI.deepSI.exp_design.multisine(100000, pmax=49999, n_crest_factor_optim=20)\n",
    "u = np.clip(u*1.0, -3.0, 3.0)\n",
    "plt.subplot(1,2,1)\n",
    "plt.plot(u[:300])\n",
    "# plt.subplot(1,2,2)\n",
    "# plt.plot(u1[:300])"
   ]
  },
  {
   "cell_type": "code",
   "execution_count": 3,
   "metadata": {},
   "outputs": [],
   "source": [
    "system = OutputUnbalancedDisc(dt=0.1, sigma_n=[0.0, 0.0])\n",
    "#system_discrete = DiscreteUnbalancedDisc(dt=0.1)\n",
    "data = system.apply_experiment(deepSI.System_data(u=u))\n",
    "#data_discrete = system_discrete.apply_experiment(deepSI.System_data(u=u))\n",
    "#data = system_discrete.apply_experiment(deepSI.System_data(u=u))"
   ]
  },
  {
   "cell_type": "code",
   "execution_count": 6,
   "metadata": {},
   "outputs": [
    {
     "data": {
      "text/plain": [
       "[<matplotlib.lines.Line2D at 0x2b972cfb220>]"
      ]
     },
     "execution_count": 6,
     "metadata": {},
     "output_type": "execute_result"
    },
    {
     "data": {
      "image/png": "[encoded data removed]",
      "text/plain": [
       "<Figure size 432x288 with 1 Axes>"
      ]
     },
     "metadata": {
      "needs_background": "light"
     },
     "output_type": "display_data"
    }
   ],
   "source": [
    "# plt.subplot(1,2,1)\n",
    "# plt.plot(data.y[:,0])\n",
    "# plt.subplot(1,2,2)\n",
    "# plt.plot(data.y[:,1])\n",
    "plt.plot(data.y)"
   ]
  },
  {
   "cell_type": "code",
   "execution_count": null,
   "metadata": {},
   "outputs": [],
   "source": [
    "plt.subplot(1,2,1)\n",
    "plt.plot(data_discrete.y[:,0], label='discrete')\n",
    "plt.plot(data_discrete.y[:,0] - data.y[:,0], label='difference')\n",
    "plt.grid()\n",
    "plt.legend()\n",
    "\n",
    "plt.subplot(1,2,2)\n",
    "plt.plot(data_discrete.y[:,1], label='discrete')\n",
    "plt.plot(data_discrete.y[:,1] - data.y[:,1], label='difference')\n",
    "plt.grid()\n",
    "plt.legend();"
   ]
  },
  {
   "cell_type": "code",
   "execution_count": 7,
   "metadata": {},
   "outputs": [],
   "source": [
    "Spower = np.sum(np.square(data.y), axis=0)/data.y.shape[0]"
   ]
  },
  {
   "cell_type": "code",
   "execution_count": 8,
   "metadata": {},
   "outputs": [
    {
     "data": {
      "text/plain": [
       "array([17.21114694, 37.80577797])"
      ]
     },
     "execution_count": 8,
     "metadata": {},
     "output_type": "execute_result"
    }
   ],
   "source": [
    "Npower = np.sum(np.square(np.hstack((np.random.normal(0, 0.47, (10000,1)), np.random.normal(0, 0.044, (10000,1))))), axis=0)/10000\n",
    "# SNR 200 = [0.33, 0.032]\n",
    "# SNR 100 = [0.47, 0.044]\n",
    "# SNR 50 = [0.48, 0.044]\n",
    "# SNR 20 = [0.77, 0.074]\n",
    "# SNR 10 = [1.45 0.14]\n",
    "# SNR 5.2 = [2.3 0.22]\n",
    "10*np.log10(Spower / Npower)"
   ]
  },
  {
   "cell_type": "code",
   "execution_count": null,
   "metadata": {},
   "outputs": [],
   "source": [
    "from torch import nn\n",
    "class I_encoder(deepSI.fit_systems.SS_encoder):\n",
    "    def __init__(self, nx = 2, na=2, nb=2, feedthrough=False) -> None:\n",
    "        super().__init__(nx=nx, na=na, nb=nb, feedthrough=feedthrough)\n",
    "        #self.f_n_nodes_per_layer = 32\n",
    "\n",
    "    def init_nets(self, nu, ny): # a bit weird\n",
    "        ny = ny if ny is not None else 1\n",
    "        nu = nu if nu is not None else 1\n",
    "        self.encoder = self.e_net(self.nb*nu+self.na*ny, self.nx, n_nodes_per_layer=self.e_n_nodes_per_layer, n_hidden_layers=self.e_n_hidden_layers, activation=self.e_activation)\n",
    "        self.fn =      self.f_net(self.nx+nu,            self.nx, n_nodes_per_layer=self.f_n_nodes_per_layer, n_hidden_layers=self.f_n_hidden_layers, activation=self.f_activation)\n",
    "        hn_in = self.nx + nu if self.feedthrough else self.nx\n",
    "        #self.hn =      stateSelector()\n",
    "        self.hn =      nn.Identity(hn_in)#self.h_net(hn_in     ,            ny,      n_nodes_per_layer=self.h_n_nodes_per_layer, n_hidden_layers=self.h_n_hidden_layers, activation=self.h_activation)"
   ]
  },
  {
   "cell_type": "code",
   "execution_count": 9,
   "metadata": {},
   "outputs": [],
   "source": [
    "# I_enc = I_encoder(nx=2, na=2, nb=2, feedthrough=False)\n",
    "# I_enc.f_n_nodes_per_layer\n",
    "I_enc = deepSI.fit_systems.SS_encoder(nx=2, na=2, nb=2, feedthrough=False)"
   ]
  },
  {
   "cell_type": "code",
   "execution_count": 10,
   "metadata": {},
   "outputs": [],
   "source": [
    "train, test = data.train_test_split(split_fraction=0.2)\n",
    "train, val  = train.train_test_split(split_fraction=0.25)"
   ]
  },
  {
   "cell_type": "code",
   "execution_count": null,
   "metadata": {},
   "outputs": [],
   "source": [
    "I_enc.fit(train_sys_data=train, val_sys_data=val, epochs=100, batch_size=256, loss_kwargs={'nf':150})"
   ]
  },
  {
   "cell_type": "code",
   "execution_count": null,
   "metadata": {},
   "outputs": [],
   "source": [
    "I_enc.checkpoint_load_system('_last')\n",
    "plt.semilogy(I_enc.batch_id,I_enc.Loss_val,label='validation loss')\n",
    "plt.semilogy(I_enc.batch_id,I_enc.Loss_train**0.5,label='trains loss')\n",
    "plt.legend()"
   ]
  },
  {
   "cell_type": "code",
   "execution_count": null,
   "metadata": {},
   "outputs": [],
   "source": [
    "test_ss_enc = I_enc.apply_experiment(test,save_state=True)"
   ]
  },
  {
   "cell_type": "code",
   "execution_count": null,
   "metadata": {},
   "outputs": [],
   "source": [
    "print(f'NRMS simulation SS linear  {test_ss_enc.NRMS(test):.2%}')\n",
    "\n",
    "# plt.plot(test.y[:])\n",
    "# plt.plot(test.y[:] - test_ss_enc.y[:])\n",
    "\n",
    "plt.subplot(1,2,1)\n",
    "plt.plot(test.y[:,0])\n",
    "plt.plot(test.y[:,0] - test_ss_enc.y[:,0])\n",
    "\n",
    "plt.subplot(1,2,2)\n",
    "plt.plot(test.y[:,1])\n",
    "plt.plot(test.y[:,1] - test_ss_enc.y[:,1]);"
   ]
  },
  {
   "cell_type": "code",
   "execution_count": null,
   "metadata": {},
   "outputs": [],
   "source": [
    "nsteperror = I_enc.n_step_error(test,nf=200) #return in NRMS units of fit_sys_ss_enc.norm\n",
    "plt.plot(nsteperror)\n",
    "plt.xlabel('n step in the future')\n",
    "plt.ylabel('NRMS error')\n",
    "plt.show()"
   ]
  },
  {
   "cell_type": "code",
   "execution_count": null,
   "metadata": {},
   "outputs": [],
   "source": [
    "#I_enc.save_system(\"systems/UnbalancedDisk_dt01_e100_nNodes_32\")"
   ]
  },
  {
   "cell_type": "code",
   "execution_count": null,
   "metadata": {},
   "outputs": [],
   "source": [
    "I_enc = deepSI.load_system(\"systems/OutputUnbalancedDisk_dt01_e300\")"
   ]
  },
  {
   "cell_type": "code",
   "execution_count": null,
   "metadata": {},
   "outputs": [],
   "source": [
    "# function that converts torch nn to casadi expression\n",
    "\n",
    "from casadi import *\n",
    "\n",
    "def CasADiHn(ss_enc, x):\n",
    "    n_hidden_layers = ss_enc.h_n_hidden_layers\n",
    "\n",
    "    params = {}\n",
    "    for name, param in ss_enc.hn.named_parameters():\n",
    "        params[name] = param.detach().numpy()\n",
    "    params_list = list(params.values())\n",
    "\n",
    "    temp_nn = x\n",
    "    for i in range(n_hidden_layers):\n",
    "        W_NL = params_list[2+i*2]\n",
    "        b_NL = params_list[3+i*2]\n",
    "        temp_nn = mtimes(W_NL, temp_nn)+b_NL\n",
    "        temp_nn = tanh(temp_nn)\n",
    "    W_NL = params_list[2+n_hidden_layers*2]\n",
    "    b_NL = params_list[3+n_hidden_layers*2]\n",
    "    nn_NL = mtimes(W_NL, temp_nn)+b_NL\n",
    "\n",
    "    W_Lin = params_list[0]\n",
    "    b_Lin = params_list[1]\n",
    "    nn_Lin = mtimes(W_Lin,x) + b_Lin\n",
    "\n",
    "    return nn_NL + nn_Lin\n",
    "\n",
    "def CasADiFn(ss_enc, x, u):\n",
    "    n_hidden_layers = ss_enc.f_n_hidden_layers\n",
    "\n",
    "    params = {}\n",
    "    for name, param in ss_enc.fn.named_parameters():\n",
    "        params[name] = param.detach().numpy()\n",
    "    params_list = list(params.values())\n",
    "    \n",
    "    xu = vertcat(x,u)\n",
    "\n",
    "    temp_nn = xu\n",
    "    for i in range(n_hidden_layers):\n",
    "        W_NL = params_list[2+i*2]\n",
    "        b_NL = params_list[3+i*2]\n",
    "        temp_nn = mtimes(W_NL, temp_nn)+b_NL\n",
    "        temp_nn = tanh(temp_nn)\n",
    "    W_NL = params_list[2+n_hidden_layers*2]\n",
    "    b_NL = params_list[3+n_hidden_layers*2]\n",
    "    nn_NL = mtimes(W_NL, temp_nn)+b_NL\n",
    "\n",
    "    W_Lin = params_list[0]\n",
    "    b_Lin = params_list[1]\n",
    "    nn_Lin = mtimes(W_Lin,xu) + b_Lin\n",
    "\n",
    "    #f = Function('f', [x, u], [nn_NL + nn_Lin])\n",
    "    return nn_NL + nn_Lin"
   ]
  },
  {
   "cell_type": "code",
   "execution_count": null,
   "metadata": {},
   "outputs": [],
   "source": [
    "# function that checks whether torch nn and casadi function have the same behavior\n",
    "\n",
    "import torch\n",
    "\n",
    "def checkCasADiFn(ss_enc, casadi_fn):\n",
    "    nu = 1000\n",
    "    u = (torch.rand(nu,3)*2-1)*2\n",
    "    ss_out = ss_enc.fn(u).detach().numpy()\n",
    "\n",
    "    check = True\n",
    "    for i in range(nu):\n",
    "        xin = u[i,0:2].numpy().tolist()\n",
    "        uin = u[i,2].item()\n",
    "        cas_out = casadi_fn(xin, uin).elements()\n",
    "        #equality_array = np.unique(np.round(np.array(cas_out) - ss_out[i,:], decimals=5) == 0.00000) #use np.isclose and np.all\n",
    "        if np.allclose(np.array(cas_out), ss_out[i,:], rtol=1e-05, atol=1e-05) == False:\n",
    "        #if equality_array.size != 1 or equality_array[0] == False:\n",
    "            check = False\n",
    "\n",
    "    return check\n",
    "\n",
    "def checkCasADiHn(ss_enc, casadi_hn):\n",
    "    nu = 1000\n",
    "    u = (torch.rand(nu,2)*2-1)*2\n",
    "    ss_out = ss_enc.hn(u).detach().numpy()\n",
    "\n",
    "    check = True\n",
    "    for i in range(nu):\n",
    "        xin = u[i,:].numpy().tolist()\n",
    "        cas_out = casadi_hn(xin).elements()\n",
    "        #equality_array = np.unique(np.round(np.array(cas_out) - ss_out[i,:], decimals=5) == 0.00000) #use np.isclose and np.all\n",
    "        if np.allclose(np.array(cas_out), ss_out[i,:], rtol=1e-05, atol=1e-05) == False:\n",
    "        #if equality_array.size != 1 or equality_array[0] == False:\n",
    "            check = False\n",
    "\n",
    "    return check"
   ]
  },
  {
   "cell_type": "code",
   "execution_count": null,
   "metadata": {},
   "outputs": [],
   "source": [
    "# declared sym variables\n",
    "x = MX.sym(\"x\",I_enc.nx,1)\n",
    "nu = I_enc.nu if I_enc.nu is not None else 1\n",
    "u = MX.sym(\"u\",nu,1)\n",
    "\n",
    "# convert torch nn to casadi function\n",
    "rhs = CasADiFn(I_enc, x, u)\n",
    "f = Function('f', [x, u], [rhs])\n",
    "\n",
    "y_rhs = CasADiHn(I_enc, x)\n",
    "h = Function('h', [x], [y_rhs])\n",
    "\n",
    "# check if torch nn and casadi function have same behavior\n",
    "check_f = checkCasADiFn(I_enc, f)\n",
    "check_h = checkCasADiHn(I_enc, h)\n",
    "check_f, check_h"
   ]
  },
  {
   "cell_type": "code",
   "execution_count": null,
   "metadata": {},
   "outputs": [],
   "source": [
    "# apply correction to casadi function such that fc(0) = 0\n",
    "correction_f = f([0,0], 0)\n",
    "rhs_c = rhs - correction_f\n",
    "correction_h = h([0,0])\n",
    "y_rhs_c = y_rhs - correction_h\n",
    "f_c = Function('f_c', [x, u], [rhs_c])\n",
    "h_c = Function('h_c', [x], [y_rhs_c])\n",
    "f_c([0,0], 0), h_c([0,0])"
   ]
  },
  {
   "cell_type": "code",
   "execution_count": null,
   "metadata": {},
   "outputs": [],
   "source": [
    "# Box constraints\n",
    "x_min = -10\n",
    "x_max = 10\n",
    "u_min = -4\n",
    "u_max = 4\n",
    "\n",
    "# Initial and final values\n",
    "x0 = [0,0]\n",
    "x_ref = [0.001, 1.0]\n",
    "u_ref = 0\n",
    "\n",
    "# Weight matrices for the cost function\n",
    "#Q = 100\n",
    "Q = np.matrix('1,0;0,100')\n",
    "R = 1\n",
    "\n",
    "# MPC parameters\n",
    "dt = 0.1\n",
    "Nc = 10\n",
    "Nsim = 100\n",
    "dlam = 0.01\n",
    "stages = 1"
   ]
  },
  {
   "cell_type": "code",
   "execution_count": null,
   "metadata": {},
   "outputs": [],
   "source": [
    "from my_rk4 import *\n",
    "from lpv_int import *\n",
    "from lpv_rk4 import *\n",
    "import numpy as np\n",
    "import time\n",
    "\n",
    "opti = Opti()\n",
    "\n",
    "# declare variables and parameters of states and inputs\n",
    "n_states = np.shape(x)[0]\n",
    "states = opti.variable(n_states,Nc+1)    \n",
    "x_initial = opti.parameter(n_states,1)\n",
    "\n",
    "n_controls = np.shape(u)[0]\n",
    "controls = opti.variable(n_controls,Nc)\n",
    "\n",
    "reference = opti.parameter(n_states,1)\n",
    "\n",
    "# determine getA and getB functions\n",
    "Jfx = Function(\"Jfx\", [x, u], [jacobian(rhs_c,x)])\n",
    "Jfu = Function(\"Jfu\", [x, u], [jacobian(rhs_c,u)])\n",
    "Jhx = Function(\"Jhx\", [x, u], [jacobian(y_rhs_c,x)])\n",
    "[A_sym, B_sym, C_sym] = lpv_int(x,n_states,u,n_controls,1,Jfx,Jfu,Jhx,dlam,stages)\n",
    "get_A = Function(\"get_A\",[x,u],[A_sym])\n",
    "get_B = Function(\"get_B\",[x,u],[B_sym])\n",
    "get_C = Function(\"get_C\",[x,u],[C_sym])\n",
    "\n",
    "list_A = opti.parameter(Nc*n_states,n_states)\n",
    "list_B = opti.parameter(Nc*n_states,n_controls)\n",
    "list_C = opti.parameter(Nc*1,n_states)\n",
    "\n",
    "# declare bounds of system\n",
    "opti.subject_to(opti.bounded(x_min,states,x_max))\n",
    "opti.subject_to(opti.bounded(u_min,controls,u_max))\n",
    "opti.subject_to(states[:,0] == x_initial)\n",
    "\n",
    "opts = {'print_time' : 0, 'ipopt': {'print_level': 0}}\n",
    "opti.solver(\"ipopt\",opts)"
   ]
  },
  {
   "cell_type": "code",
   "execution_count": null,
   "metadata": {},
   "outputs": [],
   "source": [
    "objective = 0 #maybe add some soft bounds on the states and inputs\n",
    "for i in np.arange(Nc):\n",
    "    #opti.subject_to(states[:,i+1] == lpv_rk4(states[:,i],controls[:,i],\\\n",
    "    #    list_A[(n_states*i):(n_states*i+n_states),:],list_B[(n_states*i):(n_states*i+n_states),:],dt, correction)) # should this be changed to discrete time model\n",
    "    opti.subject_to(states[:,i+1] == list_A[(n_states*i):(n_states*i+n_states),:]@states[:,i] \\\n",
    "        + list_B[(n_states*i):(n_states*i+n_states),:]@controls[:,i] + correction_f)\n",
    "    objective = (objective + \n",
    "                    #mtimes(mtimes((states[:,i]-x_ref).T,Q),(states[:,i]-x_ref)) +\n",
    "                    #mtimes(mtimes((controls[:,i]-u_ref).T,R),(controls[:,i]-u_ref)))\n",
    "                    mtimes(mtimes((states[:,i]-reference).T,Q),(states[:,i]-reference)) +\n",
    "                    mtimes(mtimes((controls[:,i]-u_ref).T,R),(controls[:,i]-u_ref)))\n",
    "\n",
    "opti.minimize(objective)"
   ]
  },
  {
   "cell_type": "code",
   "execution_count": null,
   "metadata": {},
   "outputs": [],
   "source": [
    "#reference_list = np.ones(Nsim+1)*1.0\n",
    "reference_list = np.sin(np.arange(Nsim)*2*np.pi/128)*1\n",
    "#reference_list = np.abs(reference_list)\n",
    "#reference_list = np.hstack((np.ones(50)*1.0, np.ones(50)*-1.5, np.ones(50)*0.5, np.ones(50)*-2.5))\n",
    "#plt.plot(reference_list)"
   ]
  },
  {
   "cell_type": "code",
   "execution_count": null,
   "metadata": {},
   "outputs": [],
   "source": [
    "import random\n",
    "x1_reference_list = np.array([])\n",
    "Nsim_remaining = Nsim\n",
    "while True:\n",
    "    Nsim_steps = random.randint(10,15)\n",
    "    Nsim_remaining = Nsim_remaining - Nsim_steps\n",
    "    x1_reference_list = np.hstack((x1_reference_list, np.ones(Nsim_steps)*random.randint(-10,10)/10))\n",
    "\n",
    "    if Nsim_remaining <= 0:\n",
    "        x1_reference_list = x1_reference_list[:Nsim]\n",
    "        break"
   ]
  },
  {
   "cell_type": "code",
   "execution_count": null,
   "metadata": {},
   "outputs": [],
   "source": [
    "# normalize reference list\n",
    "norm = I_enc.norm\n",
    "reference_list_normalized = (reference_list - norm.y0[1])/norm.ystd[1]\n",
    "x0_norm = (x0 - norm.y0)/norm.ystd\n",
    "\n",
    "# logging list\n",
    "t = np.zeros(Nsim)\n",
    "t0 = 0\n",
    "u_log = np.zeros([n_controls,Nsim])\n",
    "x_log = np.zeros([n_states,Nsim+1])\n",
    "comp_t_log = np.zeros(Nsim)\n",
    "x_log[:,0] = x0\n",
    "start = time.time()\n",
    "lpv_counter = np.zeros(Nsim,int)\n",
    "\n",
    "# set initial values for x\n",
    "x = np.zeros([n_states,Nc+1])\n",
    "u = np.zeros([n_controls,Nc]) # change this to u0 instead of 0 maybe\n",
    "opti.set_initial(states, x)\n",
    "opti.set_initial(controls, u)\n",
    "opti.set_value(x_initial,x0_norm)\n",
    "\n",
    "for mpciter in np.arange(Nsim):\n",
    "    start_time_iter = time.time()\n",
    "\n",
    "    # solve for u and x\n",
    "    opti.set_value(reference,[0,reference_list_normalized[mpciter]])\n",
    "\n",
    "    # MPC loop\n",
    "    while True:\n",
    "        # determine A,B\n",
    "        for i in np.arange(Nc):\n",
    "            opti.set_value(list_A[(n_states*i):(n_states*i+n_states),:],get_A(x[:,i],u[:,i]))\n",
    "            opti.set_value(list_B[(n_states*i):(n_states*i+n_states),:],get_B(x[:,i],u[:,i]))\n",
    "        \n",
    "        # solve for u and x\n",
    "        sol = opti.solve()\n",
    "        u_old = u\n",
    "        u = np.reshape(sol.value(controls),[n_controls,Nc])\n",
    "        x = np.reshape(sol.value(states),[n_states,Nc+1]) # this relies on internal simulation in solution, this is x=Ax+Bu\n",
    "\n",
    "        # simulate next step using rk4 over non correction casadi function\n",
    "        #for i in np.arange(Nc):\n",
    "        #    x[:,i+1] = np.ravel(my_rk4(x[:,i],u[:,i],f,dt),order='F')\n",
    "        x = np.reshape(sol.value(states),[n_states,Nc+1]) # change this to nn maybe\n",
    "        \n",
    "        # set new x and u values into optimizer\n",
    "        opti.set_initial(states, x)\n",
    "        opti.set_initial(controls, u)\n",
    "\n",
    "        lpv_counter[mpciter] += 1  \n",
    "\n",
    "        # Stop MPC loop if max iteration reached or input converged\n",
    "        if (lpv_counter[mpciter] >= 1) or (np.linalg.norm(u-u_old) < 1e-5):\n",
    "            break\n",
    "\n",
    "    print(\"MPC iteration: \", mpciter+1)\n",
    "    print(\"LPV counter: \", lpv_counter[mpciter])\n",
    "\n",
    "    t[mpciter] = t0\n",
    "    t0 = t0 + dt\n",
    "    try:\n",
    "        x = x.full()\n",
    "    except:\n",
    "        x = x\n",
    "    try:\n",
    "        u = u.full()\n",
    "    except:\n",
    "        u = u\n",
    "    \n",
    "    # denormalize x and u\n",
    "    x_denormalized = norm.ystd*x0_norm + norm.y0\n",
    "    u_denormalized = norm.ustd*u[0,0] + norm.u0\n",
    "\n",
    "    # make system step and normalize\n",
    "    x_denormalized = system.f(x_denormalized, u_denormalized)\n",
    "    x_measured = system.h(x_denormalized, u_denormalized)\n",
    "    x0_norm = (x_measured - norm.y0)/norm.ystd\n",
    "\n",
    "    x_log[:,mpciter+1] = x_measured\n",
    "    u_log[:,mpciter] = u_denormalized\n",
    "    \n",
    "    x = horzcat(x[:,1:(Nc+1)],x[:,-1])\n",
    "    x[:,0] = x0_norm\n",
    "    u = horzcat(u[:,1:Nc],u[:,-1])\n",
    "    opti.set_value(x_initial, x0_norm)\n",
    "    opti.set_initial(states, x)\n",
    "    opti.set_initial(controls, u)\n",
    "\n",
    "    # finished mpc time measurement\n",
    "    end_time_iter = time.time()\n",
    "    comp_t_log[mpciter] = end_time_iter - start_time_iter\n",
    "\n",
    "end = time.time()\n",
    "runtime = end - start"
   ]
  },
  {
   "cell_type": "code",
   "execution_count": null,
   "metadata": {},
   "outputs": [],
   "source": [
    "fig = plt.figure(figsize=[14.0, 3.0])\n",
    "\n",
    "plt.subplot(1,3,1)\n",
    "plt.plot(np.arange(Nsim+1)*dt, x_log[0,:], label='angular velocity')\n",
    "plt.plot(np.arange(Nsim+1)*dt, np.ones(x_log.shape[1])*x_ref[0], label='reference')\n",
    "plt.ylabel(\"velocity [m/s]\") # not sure about the unit\n",
    "plt.xlabel(\"time [s]\")\n",
    "plt.grid()\n",
    "plt.legend()\n",
    "\n",
    "plt.subplot(1,3,2)\n",
    "plt.plot(np.arange(Nsim+1)*dt, x_log[1,:], label='angle')\n",
    "#plt.plot(np.arange(Nsim+1)*dt, np.ones(x_log.shape[1])*x_ref[1], label='reference')\n",
    "plt.plot(np.arange(Nsim+1)*dt, np.hstack((np.zeros(1),reference_list)), label='reference') # figure out what the correct hstack should be here\n",
    "plt.ylabel(\"displacement [m]\") # not sure about the unit\n",
    "plt.xlabel(\"time [s]\")\n",
    "plt.grid()\n",
    "plt.legend()\n",
    "\n",
    "plt.subplot(1,3,3)\n",
    "plt.plot(np.arange(Nsim)*dt, u_log[0,:], label='input')\n",
    "plt.plot(np.arange(Nsim)*dt, np.ones(Nsim)*u_ref, label='reference')\n",
    "plt.ylabel(\"input\") # not sure about the unit\n",
    "plt.xlabel(\"time [s]\")\n",
    "plt.grid()\n",
    "plt.legend();"
   ]
  },
  {
   "cell_type": "code",
   "execution_count": null,
   "metadata": {},
   "outputs": [],
   "source": []
  }
 ],
 "metadata": {
  "kernelspec": {
   "display_name": "Python 3.9.0 64-bit",
   "language": "python",
   "name": "python3"
  },
  "language_info": {
   "codemirror_mode": {
    "name": "ipython",
    "version": 3
   },
   "file_extension": ".py",
   "mimetype": "text/x-python",
   "name": "python",
   "nbconvert_exporter": "python",
   "pygments_lexer": "ipython3",
   "version": "3.9.0"
  },
  "orig_nbformat": 4,
  "vscode": {
   "interpreter": {
    "hash": "4adf2e6253b261bd4dae3284651a7270092766d2a4e11b51cb3c91db9fd89146"
   }
  }
 },
 "nbformat": 4,
 "nbformat_minor": 2
}
