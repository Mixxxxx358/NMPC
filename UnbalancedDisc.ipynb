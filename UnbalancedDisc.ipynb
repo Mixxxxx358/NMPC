{
 "cells": [
  {
   "cell_type": "code",
   "execution_count": 1,
   "metadata": {},
   "outputs": [],
   "source": [
    "from Systems import UnbalancedDisc\n",
    "from Systems import NoisyUnbalancedDisc\n",
    "import deepSI\n",
    "from matplotlib import pyplot as plt\n",
    "import numpy as np"
   ]
  },
  {
   "cell_type": "code",
   "execution_count": 31,
   "metadata": {},
   "outputs": [
    {
     "data": {
      "text/plain": [
       "[<matplotlib.lines.Line2D at 0x24918905070>]"
      ]
     },
     "execution_count": 31,
     "metadata": {},
     "output_type": "execute_result"
    },
    {
     "data": {
      "image/png": "[encoded data removed]",
      "text/plain": [
       "<Figure size 432x288 with 1 Axes>"
      ]
     },
     "metadata": {
      "needs_background": "light"
     },
     "output_type": "display_data"
    }
   ],
   "source": [
    "#out = np.load('measurement-datasets/disk-measurement-dataset-1.npz') \n",
    "#u1 = out['u'] #inputs\n",
    "#th = out['th'] #outputs\n",
    "#t = out['t'] #time vector\n",
    "\n",
    "u = deepSI.deepSI.exp_design.multisine(100000, pmax=49999, n_crest_factor_optim=20)\n",
    "u = np.clip(u*1.0, -3, 3)\n",
    "plt.subplot(1,2,1)\n",
    "plt.plot(u[:300])\n",
    "# plt.subplot(1,2,2)\n",
    "# plt.plot(u1[:300])"
   ]
  },
  {
   "cell_type": "code",
   "execution_count": 32,
   "metadata": {},
   "outputs": [],
   "source": [
    "# plt.subplot(1,3,1)\n",
    "# plt.plot(u)\n",
    "\n",
    "# plt.subplot(1,3,2)\n",
    "# plt.plot(th)\n",
    "\n",
    "# plt.subplot(1,3,3)\n",
    "# plt.plot(t)"
   ]
  },
  {
   "cell_type": "code",
   "execution_count": 33,
   "metadata": {},
   "outputs": [],
   "source": [
    "system = NoisyUnbalancedDisc(dt=0.1, sigma_n=[0.33, 0.032])\n",
    "data = sys.apply_experiment(deepSI.System_data(u=u))\n",
    "#data.plot()"
   ]
  },
  {
   "cell_type": "code",
   "execution_count": 35,
   "metadata": {},
   "outputs": [
    {
     "data": {
      "text/plain": [
       "[<matplotlib.lines.Line2D at 0x2491be2fd30>]"
      ]
     },
     "execution_count": 35,
     "metadata": {},
     "output_type": "execute_result"
    },
    {
     "data": {
      "image/png": "[encoded data removed]",
      "text/plain": [
       "<Figure size 432x288 with 2 Axes>"
      ]
     },
     "metadata": {
      "needs_background": "light"
     },
     "output_type": "display_data"
    }
   ],
   "source": [
    "plt.subplot(1,2,1)\n",
    "plt.plot(data.y[:,0])\n",
    "plt.subplot(1,2,2)\n",
    "plt.plot(data.y[:,1])"
   ]
  },
  {
   "cell_type": "code",
   "execution_count": 36,
   "metadata": {},
   "outputs": [],
   "source": [
    "Spower = np.sum(np.square(data.y), axis=0)/data.y.shape[0]"
   ]
  },
  {
   "cell_type": "code",
   "execution_count": 41,
   "metadata": {},
   "outputs": [
    {
     "data": {
      "text/plain": [
       "array([105.24928666,  98.65859601])"
      ]
     },
     "execution_count": 41,
     "metadata": {},
     "output_type": "execute_result"
    }
   ],
   "source": [
    "Npower = np.sum(np.square(np.hstack((np.random.normal(0, 0.33, (10000,1)), np.random.normal(0, 0.032, (10000,1))))), axis=0)/10000\n",
    "Spower / Npower"
   ]
  },
  {
   "cell_type": "code",
   "execution_count": 43,
   "metadata": {},
   "outputs": [],
   "source": [
    "from torch import nn\n",
    "class I_encoder(deepSI.fit_systems.SS_encoder):\n",
    "    def __init__(self, nx = 2, na=2, nb=2, feedthrough=False) -> None:\n",
    "        super().__init__(nx=nx, na=na, nb=nb, feedthrough=feedthrough)\n",
    "\n",
    "    def init_nets(self, nu, ny): # a bit weird\n",
    "        ny = ny if ny is not None else 1\n",
    "        nu = nu if nu is not None else 1\n",
    "        self.encoder = self.e_net(self.nb*nu+self.na*ny, self.nx, n_nodes_per_layer=self.e_n_nodes_per_layer, n_hidden_layers=self.e_n_hidden_layers, activation=self.e_activation)\n",
    "        self.fn =      self.f_net(self.nx+nu,            self.nx, n_nodes_per_layer=self.f_n_nodes_per_layer, n_hidden_layers=self.f_n_hidden_layers, activation=self.f_activation)\n",
    "        hn_in = self.nx + nu if self.feedthrough else self.nx\n",
    "        #self.hn =      stateSelector()\n",
    "        self.hn =      nn.Identity(hn_in)#self.h_net(hn_in     ,            ny,      n_nodes_per_layer=self.h_n_nodes_per_layer, n_hidden_layers=self.h_n_hidden_layers, activation=self.h_activation)"
   ]
  },
  {
   "cell_type": "code",
   "execution_count": 44,
   "metadata": {},
   "outputs": [],
   "source": [
    "I_enc = I_encoder(nx=2, na=2, nb=2, feedthrough=False)"
   ]
  },
  {
   "cell_type": "code",
   "execution_count": 45,
   "metadata": {},
   "outputs": [],
   "source": [
    "train, test = data.train_test_split(split_fraction=0.2)\n",
    "train, val  = train.train_test_split(split_fraction=0.25)"
   ]
  },
  {
   "cell_type": "code",
   "execution_count": 46,
   "metadata": {},
   "outputs": [
    {
     "name": "stdout",
     "output_type": "stream",
     "text": [
      "Initilizing the model and optimizer\n",
      "Size of the training array =  208.2 MB\n",
      "N_training_samples = 59849, batch_size = 256, N_batch_updates_per_epoch = 233\n",
      "Initial Validation sim-NRMS= 1.137935013955147\n"
     ]
    },
    {
     "data": {
      "application/json": {
       "ascii": false,
       "bar_format": null,
       "colour": null,
       "elapsed": 0.017986536026000977,
       "initial": 0,
       "n": 0,
       "ncols": null,
       "nrows": null,
       "postfix": null,
       "prefix": "",
       "rate": null,
       "total": 100,
       "unit": "it",
       "unit_divisor": 1000,
       "unit_scale": false
      },
      "application/vnd.jupyter.widget-view+json": {
       "model_id": "30476ad40d8b487b946e588e5012dbd2",
       "version_major": 2,
       "version_minor": 0
      },
      "text/plain": [
       "  0%|          | 0/100 [00:00<?, ?it/s]"
      ]
     },
     "metadata": {},
     "output_type": "display_data"
    },
    {
     "name": "stdout",
     "output_type": "stream",
     "text": [
      "########## New lowest validation loss achieved ########### sim-NRMS = 0.2729292943764261\n",
      "Epoch    1, sqrt loss  0.4858, Val sim-NRMS 0.2729, Time Loss: 89.2%, data: 0.2%, val: 10.6%,  7.6 batches/sec\n",
      "########## New lowest validation loss achieved ########### sim-NRMS = 0.139555720223218\n",
      "Epoch    2, sqrt loss  0.2027, Val sim-NRMS 0.1396, Time Loss: 88.8%, data: 0.3%, val: 10.9%,  7.8 batches/sec\n",
      "########## New lowest validation loss achieved ########### sim-NRMS = 0.12149961171771247\n",
      "Epoch    3, sqrt loss    0.13, Val sim-NRMS 0.1215, Time Loss: 88.7%, data: 0.3%, val: 11.0%,  7.8 batches/sec\n",
      "########## New lowest validation loss achieved ########### sim-NRMS = 0.11525272751088299\n",
      "Epoch    4, sqrt loss  0.1196, Val sim-NRMS 0.1153, Time Loss: 88.6%, data: 0.3%, val: 11.1%,  7.8 batches/sec\n",
      "########## New lowest validation loss achieved ########### sim-NRMS = 0.11295947045743845\n",
      "Epoch    5, sqrt loss  0.1152, Val sim-NRMS  0.113, Time Loss: 88.5%, data: 0.3%, val: 11.2%,  7.8 batches/sec\n",
      "########## New lowest validation loss achieved ########### sim-NRMS = 0.11031648082689208\n",
      "Epoch    6, sqrt loss  0.1124, Val sim-NRMS 0.1103, Time Loss: 88.5%, data: 0.3%, val: 11.2%,  7.8 batches/sec\n",
      "########## New lowest validation loss achieved ########### sim-NRMS = 0.10902601967316042\n",
      "Epoch    7, sqrt loss  0.1105, Val sim-NRMS  0.109, Time Loss: 88.5%, data: 0.3%, val: 11.2%,  7.7 batches/sec\n",
      "Epoch    8, sqrt loss  0.1084, Val sim-NRMS 0.1102, Time Loss: 88.4%, data: 0.3%, val: 11.3%,  7.7 batches/sec\n",
      "########## New lowest validation loss achieved ########### sim-NRMS = 0.10608422083117341\n",
      "Epoch    9, sqrt loss  0.1075, Val sim-NRMS 0.1061, Time Loss: 88.4%, data: 0.3%, val: 11.3%,  7.7 batches/sec\n",
      "########## New lowest validation loss achieved ########### sim-NRMS = 0.1047961258686135\n",
      "Epoch   10, sqrt loss  0.1061, Val sim-NRMS 0.1048, Time Loss: 88.5%, data: 0.3%, val: 11.3%,  7.7 batches/sec\n",
      "Epoch   11, sqrt loss  0.1051, Val sim-NRMS 0.1051, Time Loss: 88.4%, data: 0.3%, val: 11.3%,  7.7 batches/sec\n",
      "########## New lowest validation loss achieved ########### sim-NRMS = 0.10389302213591234\n",
      "Epoch   12, sqrt loss  0.1044, Val sim-NRMS 0.1039, Time Loss: 88.4%, data: 0.3%, val: 11.3%,  7.7 batches/sec\n",
      "Epoch   13, sqrt loss  0.1039, Val sim-NRMS 0.1068, Time Loss: 88.4%, data: 0.3%, val: 11.3%,  7.7 batches/sec\n",
      "########## New lowest validation loss achieved ########### sim-NRMS = 0.10169920535328816\n",
      "Epoch   14, sqrt loss  0.1036, Val sim-NRMS 0.1017, Time Loss: 87.8%, data: 0.3%, val: 11.9%,  7.6 batches/sec\n",
      "Epoch   15, sqrt loss  0.1027, Val sim-NRMS 0.1017, Time Loss: 87.9%, data: 0.3%, val: 11.8%,  7.5 batches/sec\n",
      "Epoch   16, sqrt loss  0.1025, Val sim-NRMS 0.1023, Time Loss: 88.0%, data: 0.3%, val: 11.7%,  7.5 batches/sec\n",
      "########## New lowest validation loss achieved ########### sim-NRMS = 0.10142875861494681\n",
      "Epoch   17, sqrt loss  0.1026, Val sim-NRMS 0.1014, Time Loss: 88.0%, data: 0.3%, val: 11.7%,  7.5 batches/sec\n",
      "Epoch   18, sqrt loss  0.1025, Val sim-NRMS  0.102, Time Loss: 88.0%, data: 0.3%, val: 11.7%,  7.5 batches/sec\n",
      "Epoch   19, sqrt loss  0.1021, Val sim-NRMS 0.1028, Time Loss: 88.0%, data: 0.3%, val: 11.7%,  7.5 batches/sec\n",
      "########## New lowest validation loss achieved ########### sim-NRMS = 0.10120320316001113\n",
      "Epoch   20, sqrt loss  0.1022, Val sim-NRMS 0.1012, Time Loss: 88.0%, data: 0.3%, val: 11.7%,  7.5 batches/sec\n",
      "Epoch   21, sqrt loss   0.102, Val sim-NRMS 0.1015, Time Loss: 88.0%, data: 0.3%, val: 11.7%,  7.5 batches/sec\n",
      "########## New lowest validation loss achieved ########### sim-NRMS = 0.10052431134269554\n",
      "Epoch   22, sqrt loss  0.1019, Val sim-NRMS 0.1005, Time Loss: 88.1%, data: 0.3%, val: 11.7%,  7.5 batches/sec\n",
      "Epoch   23, sqrt loss   0.102, Val sim-NRMS  0.102, Time Loss: 88.1%, data: 0.3%, val: 11.6%,  7.4 batches/sec\n",
      "Epoch   24, sqrt loss  0.1016, Val sim-NRMS 0.1017, Time Loss: 88.1%, data: 0.3%, val: 11.6%,  7.5 batches/sec\n",
      "Epoch   25, sqrt loss   0.102, Val sim-NRMS 0.1009, Time Loss: 88.1%, data: 0.3%, val: 11.6%,  7.5 batches/sec\n",
      "Epoch   26, sqrt loss  0.1017, Val sim-NRMS 0.1005, Time Loss: 88.1%, data: 0.3%, val: 11.6%,  7.5 batches/sec\n",
      "Epoch   27, sqrt loss  0.1016, Val sim-NRMS 0.1024, Time Loss: 88.2%, data: 0.3%, val: 11.5%,  7.4 batches/sec\n",
      "########## New lowest validation loss achieved ########### sim-NRMS = 0.10040446159995578\n",
      "Epoch   28, sqrt loss  0.1017, Val sim-NRMS 0.1004, Time Loss: 88.2%, data: 0.3%, val: 11.5%,  7.4 batches/sec\n",
      "########## New lowest validation loss achieved ########### sim-NRMS = 0.1002123890614913\n",
      "Epoch   29, sqrt loss  0.1015, Val sim-NRMS 0.1002, Time Loss: 88.2%, data: 0.3%, val: 11.5%,  7.4 batches/sec\n",
      "Epoch   30, sqrt loss  0.1015, Val sim-NRMS 0.1014, Time Loss: 88.3%, data: 0.3%, val: 11.5%,  7.4 batches/sec\n",
      "Epoch   31, sqrt loss  0.1015, Val sim-NRMS 0.1017, Time Loss: 88.3%, data: 0.3%, val: 11.5%,  7.4 batches/sec\n",
      "Epoch   32, sqrt loss  0.1013, Val sim-NRMS 0.1005, Time Loss: 88.3%, data: 0.3%, val: 11.5%,  7.4 batches/sec\n",
      "########## New lowest validation loss achieved ########### sim-NRMS = 0.10014320516500289\n",
      "Epoch   33, sqrt loss  0.1016, Val sim-NRMS 0.1001, Time Loss: 88.3%, data: 0.3%, val: 11.5%,  7.4 batches/sec\n",
      "Epoch   34, sqrt loss  0.1014, Val sim-NRMS 0.1002, Time Loss: 88.2%, data: 0.3%, val: 11.5%,  7.4 batches/sec\n",
      "Epoch   35, sqrt loss  0.1012, Val sim-NRMS 0.1005, Time Loss: 88.2%, data: 0.3%, val: 11.5%,  7.5 batches/sec\n",
      "Epoch   36, sqrt loss  0.1014, Val sim-NRMS 0.1004, Time Loss: 88.2%, data: 0.3%, val: 11.5%,  7.5 batches/sec\n",
      "Epoch   37, sqrt loss  0.1012, Val sim-NRMS 0.1009, Time Loss: 88.3%, data: 0.3%, val: 11.5%,  7.4 batches/sec\n",
      "########## New lowest validation loss achieved ########### sim-NRMS = 0.10009793319377533\n",
      "Epoch   38, sqrt loss  0.1015, Val sim-NRMS 0.1001, Time Loss: 88.3%, data: 0.3%, val: 11.5%,  7.5 batches/sec\n",
      "Epoch   39, sqrt loss   0.101, Val sim-NRMS 0.1005, Time Loss: 88.3%, data: 0.3%, val: 11.5%,  7.5 batches/sec\n",
      "Epoch   40, sqrt loss  0.1011, Val sim-NRMS 0.1005, Time Loss: 88.3%, data: 0.3%, val: 11.5%,  7.5 batches/sec\n",
      "Epoch   41, sqrt loss  0.1012, Val sim-NRMS  0.103, Time Loss: 88.3%, data: 0.3%, val: 11.5%,  7.6 batches/sec\n",
      "Epoch   42, sqrt loss  0.1012, Val sim-NRMS 0.1006, Time Loss: 88.3%, data: 0.3%, val: 11.5%,  7.6 batches/sec\n",
      "Epoch   43, sqrt loss  0.1012, Val sim-NRMS 0.1007, Time Loss: 88.2%, data: 0.3%, val: 11.5%,  7.6 batches/sec\n",
      "Epoch   44, sqrt loss  0.1009, Val sim-NRMS 0.1004, Time Loss: 88.2%, data: 0.3%, val: 11.5%,  7.6 batches/sec\n",
      "########## New lowest validation loss achieved ########### sim-NRMS = 0.09979600136481812\n",
      "Epoch   45, sqrt loss  0.1012, Val sim-NRMS 0.0998, Time Loss: 88.2%, data: 0.3%, val: 11.5%,  7.6 batches/sec\n",
      "Epoch   46, sqrt loss   0.101, Val sim-NRMS 0.09994, Time Loss: 88.2%, data: 0.3%, val: 11.5%,  7.7 batches/sec\n",
      "########## New lowest validation loss achieved ########### sim-NRMS = 0.09976047456998274\n",
      "Epoch   47, sqrt loss  0.1011, Val sim-NRMS 0.09976, Time Loss: 88.2%, data: 0.3%, val: 11.5%,  7.7 batches/sec\n",
      "Epoch   48, sqrt loss   0.101, Val sim-NRMS 0.09979, Time Loss: 88.2%, data: 0.3%, val: 11.5%,  7.7 batches/sec\n",
      "Epoch   49, sqrt loss  0.1009, Val sim-NRMS 0.0999, Time Loss: 88.2%, data: 0.3%, val: 11.5%,  7.8 batches/sec\n",
      "Epoch   50, sqrt loss   0.101, Val sim-NRMS 0.1018, Time Loss: 88.2%, data: 0.3%, val: 11.5%,  7.8 batches/sec\n",
      "Epoch   51, sqrt loss  0.1011, Val sim-NRMS 0.1006, Time Loss: 88.2%, data: 0.3%, val: 11.5%,  7.8 batches/sec\n",
      "Epoch   52, sqrt loss  0.1009, Val sim-NRMS 0.09993, Time Loss: 88.2%, data: 0.3%, val: 11.5%,  7.9 batches/sec\n",
      "Epoch   53, sqrt loss  0.1011, Val sim-NRMS 0.1001, Time Loss: 88.2%, data: 0.3%, val: 11.5%,  7.9 batches/sec\n",
      "Epoch   54, sqrt loss  0.1006, Val sim-NRMS 0.1015, Time Loss: 88.2%, data: 0.3%, val: 11.5%,  7.9 batches/sec\n",
      "Epoch   55, sqrt loss  0.1009, Val sim-NRMS 0.1017, Time Loss: 88.2%, data: 0.3%, val: 11.5%,  7.9 batches/sec\n",
      "Epoch   56, sqrt loss  0.1011, Val sim-NRMS 0.1003, Time Loss: 88.2%, data: 0.3%, val: 11.5%,  8.0 batches/sec\n",
      "Epoch   57, sqrt loss  0.1008, Val sim-NRMS 0.1005, Time Loss: 88.2%, data: 0.3%, val: 11.5%,  8.0 batches/sec\n",
      "Epoch   58, sqrt loss  0.1009, Val sim-NRMS  0.102, Time Loss: 88.2%, data: 0.3%, val: 11.5%,  8.0 batches/sec\n",
      "Epoch   59, sqrt loss  0.1008, Val sim-NRMS 0.1021, Time Loss: 88.2%, data: 0.3%, val: 11.5%,  8.0 batches/sec\n",
      "Epoch   60, sqrt loss  0.1009, Val sim-NRMS 0.1027, Time Loss: 88.2%, data: 0.3%, val: 11.5%,  8.1 batches/sec\n",
      "Epoch   61, sqrt loss  0.1008, Val sim-NRMS 0.1004, Time Loss: 88.2%, data: 0.3%, val: 11.5%,  8.1 batches/sec\n",
      "Epoch   62, sqrt loss  0.1008, Val sim-NRMS 0.09981, Time Loss: 88.2%, data: 0.3%, val: 11.5%,  8.1 batches/sec\n",
      "Epoch   63, sqrt loss  0.1008, Val sim-NRMS 0.1008, Time Loss: 88.2%, data: 0.3%, val: 11.5%,  8.1 batches/sec\n",
      "Epoch   64, sqrt loss  0.1009, Val sim-NRMS 0.1002, Time Loss: 88.2%, data: 0.3%, val: 11.5%,  8.2 batches/sec\n",
      "Epoch   65, sqrt loss  0.1006, Val sim-NRMS 0.1007, Time Loss: 88.2%, data: 0.3%, val: 11.5%,  8.2 batches/sec\n",
      "Epoch   66, sqrt loss  0.1007, Val sim-NRMS 0.1007, Time Loss: 88.2%, data: 0.3%, val: 11.5%,  8.2 batches/sec\n",
      "Epoch   67, sqrt loss  0.1008, Val sim-NRMS 0.1012, Time Loss: 88.2%, data: 0.3%, val: 11.5%,  8.2 batches/sec\n",
      "Epoch   68, sqrt loss  0.1008, Val sim-NRMS 0.1006, Time Loss: 88.2%, data: 0.3%, val: 11.5%,  8.2 batches/sec\n",
      "Epoch   69, sqrt loss  0.1006, Val sim-NRMS 0.1003, Time Loss: 88.2%, data: 0.3%, val: 11.5%,  8.3 batches/sec\n",
      "Epoch   70, sqrt loss  0.1007, Val sim-NRMS 0.1003, Time Loss: 88.2%, data: 0.3%, val: 11.5%,  8.3 batches/sec\n",
      "########## New lowest validation loss achieved ########### sim-NRMS = 0.09958320236833756\n",
      "Epoch   71, sqrt loss  0.1007, Val sim-NRMS 0.09958, Time Loss: 88.2%, data: 0.3%, val: 11.5%,  8.3 batches/sec\n",
      "Epoch   72, sqrt loss  0.1008, Val sim-NRMS 0.09964, Time Loss: 88.2%, data: 0.3%, val: 11.5%,  8.3 batches/sec\n",
      "Epoch   73, sqrt loss  0.1006, Val sim-NRMS 0.1003, Time Loss: 88.2%, data: 0.3%, val: 11.5%,  8.3 batches/sec\n",
      "Epoch   74, sqrt loss  0.1009, Val sim-NRMS 0.09959, Time Loss: 88.2%, data: 0.3%, val: 11.5%,  8.4 batches/sec\n",
      "Epoch   75, sqrt loss  0.1007, Val sim-NRMS 0.1005, Time Loss: 88.2%, data: 0.3%, val: 11.5%,  8.4 batches/sec\n",
      "Epoch   76, sqrt loss  0.1004, Val sim-NRMS 0.1007, Time Loss: 88.2%, data: 0.3%, val: 11.5%,  8.4 batches/sec\n",
      "Epoch   77, sqrt loss  0.1006, Val sim-NRMS 0.09997, Time Loss: 88.2%, data: 0.3%, val: 11.5%,  8.4 batches/sec\n",
      "Epoch   78, sqrt loss  0.1006, Val sim-NRMS 0.1001, Time Loss: 88.2%, data: 0.3%, val: 11.5%,  8.4 batches/sec\n",
      "Epoch   79, sqrt loss  0.1006, Val sim-NRMS 0.09959, Time Loss: 88.2%, data: 0.3%, val: 11.5%,  8.5 batches/sec\n",
      "Epoch   80, sqrt loss  0.1006, Val sim-NRMS 0.09964, Time Loss: 88.2%, data: 0.3%, val: 11.5%,  8.5 batches/sec\n",
      "Epoch   81, sqrt loss  0.1005, Val sim-NRMS 0.09989, Time Loss: 88.2%, data: 0.3%, val: 11.5%,  8.5 batches/sec\n",
      "Epoch   82, sqrt loss  0.1005, Val sim-NRMS 0.1006, Time Loss: 88.2%, data: 0.3%, val: 11.5%,  8.5 batches/sec\n",
      "Epoch   83, sqrt loss  0.1007, Val sim-NRMS 0.09991, Time Loss: 88.2%, data: 0.3%, val: 11.5%,  8.5 batches/sec\n",
      "Epoch   84, sqrt loss  0.1005, Val sim-NRMS 0.09988, Time Loss: 88.2%, data: 0.3%, val: 11.5%,  8.5 batches/sec\n",
      "Epoch   85, sqrt loss  0.1006, Val sim-NRMS    0.1, Time Loss: 88.2%, data: 0.3%, val: 11.5%,  8.5 batches/sec\n",
      "########## New lowest validation loss achieved ########### sim-NRMS = 0.09952072712556688\n",
      "Epoch   86, sqrt loss  0.1005, Val sim-NRMS 0.09952, Time Loss: 88.2%, data: 0.3%, val: 11.5%,  8.6 batches/sec\n",
      "Epoch   87, sqrt loss  0.1005, Val sim-NRMS 0.1011, Time Loss: 88.2%, data: 0.3%, val: 11.5%,  8.6 batches/sec\n",
      "Epoch   88, sqrt loss  0.1004, Val sim-NRMS 0.09992, Time Loss: 88.2%, data: 0.3%, val: 11.5%,  8.6 batches/sec\n",
      "Epoch   89, sqrt loss  0.1006, Val sim-NRMS 0.1002, Time Loss: 88.2%, data: 0.3%, val: 11.5%,  8.6 batches/sec\n",
      "Epoch   90, sqrt loss  0.1005, Val sim-NRMS 0.1005, Time Loss: 88.2%, data: 0.3%, val: 11.5%,  8.6 batches/sec\n",
      "Epoch   91, sqrt loss  0.1005, Val sim-NRMS 0.0996, Time Loss: 88.2%, data: 0.3%, val: 11.5%,  8.6 batches/sec\n",
      "Epoch   92, sqrt loss  0.1005, Val sim-NRMS 0.09978, Time Loss: 88.2%, data: 0.3%, val: 11.5%,  8.6 batches/sec\n",
      "Epoch   93, sqrt loss  0.1004, Val sim-NRMS 0.1018, Time Loss: 88.2%, data: 0.3%, val: 11.5%,  8.6 batches/sec\n",
      "Epoch   94, sqrt loss  0.1005, Val sim-NRMS 0.1003, Time Loss: 88.2%, data: 0.3%, val: 11.5%,  8.6 batches/sec\n",
      "Epoch   95, sqrt loss  0.1003, Val sim-NRMS 0.09952, Time Loss: 88.2%, data: 0.3%, val: 11.5%,  8.6 batches/sec\n",
      "Epoch   96, sqrt loss  0.1004, Val sim-NRMS  0.101, Time Loss: 88.2%, data: 0.3%, val: 11.5%,  8.6 batches/sec\n",
      "Epoch   97, sqrt loss  0.1005, Val sim-NRMS 0.09988, Time Loss: 88.2%, data: 0.3%, val: 11.5%,  8.6 batches/sec\n",
      "Epoch   98, sqrt loss  0.1005, Val sim-NRMS 0.0996, Time Loss: 88.2%, data: 0.3%, val: 11.5%,  8.6 batches/sec\n",
      "Epoch   99, sqrt loss  0.1004, Val sim-NRMS 0.1001, Time Loss: 88.2%, data: 0.3%, val: 11.5%,  8.6 batches/sec\n",
      "Epoch  100, sqrt loss  0.1004, Val sim-NRMS 0.1009, Time Loss: 88.2%, data: 0.3%, val: 11.5%,  8.6 batches/sec\n",
      "Loaded model with best known validation sim-NRMS of 0.09952 which happened on epoch 86 (epoch_id=86.00)\n"
     ]
    }
   ],
   "source": [
    "I_enc.fit(train_sys_data=train, val_sys_data=val, epochs=100, batch_size=256, loss_kwargs={'nf':150})"
   ]
  },
  {
   "cell_type": "code",
   "execution_count": 47,
   "metadata": {},
   "outputs": [
    {
     "data": {
      "text/plain": [
       "<matplotlib.legend.Legend at 0x249228131c0>"
      ]
     },
     "execution_count": 47,
     "metadata": {},
     "output_type": "execute_result"
    },
    {
     "data": {
      "image/png": "[encoded data removed]",
      "text/plain": [
       "<Figure size 432x288 with 1 Axes>"
      ]
     },
     "metadata": {
      "needs_background": "light"
     },
     "output_type": "display_data"
    }
   ],
   "source": [
    "I_enc.checkpoint_load_system('_last')\n",
    "plt.semilogy(I_enc.batch_id,I_enc.Loss_val,label='validation loss')\n",
    "plt.semilogy(I_enc.batch_id,I_enc.Loss_train**0.5,label='trains loss')\n",
    "plt.legend()"
   ]
  },
  {
   "cell_type": "code",
   "execution_count": 48,
   "metadata": {},
   "outputs": [],
   "source": [
    "test_ss_enc = I_enc.apply_experiment(test,save_state=True)"
   ]
  },
  {
   "cell_type": "code",
   "execution_count": 49,
   "metadata": {},
   "outputs": [
    {
     "name": "stdout",
     "output_type": "stream",
     "text": [
      "NRMS simulation SS linear  10.15%\n"
     ]
    },
    {
     "data": {
      "image/png": "[encoded data removed]",
      "text/plain": [
       "<Figure size 432x288 with 2 Axes>"
      ]
     },
     "metadata": {
      "needs_background": "light"
     },
     "output_type": "display_data"
    }
   ],
   "source": [
    "print(f'NRMS simulation SS linear  {test_ss_enc.NRMS(test):.2%}')\n",
    "\n",
    "plt.subplot(1,2,1)\n",
    "plt.plot(test.y[:,0])\n",
    "plt.plot(test.y[:,0] - test_ss_enc.y[:,0])\n",
    "\n",
    "plt.subplot(1,2,2)\n",
    "plt.plot(test.y[:,1])\n",
    "plt.plot(test.y[:,1] - test_ss_enc.y[:,1]);"
   ]
  },
  {
   "cell_type": "code",
   "execution_count": 50,
   "metadata": {},
   "outputs": [
    {
     "data": {
      "image/png": "[encoded data removed]",
      "text/plain": [
       "<Figure size 432x288 with 1 Axes>"
      ]
     },
     "metadata": {
      "needs_background": "light"
     },
     "output_type": "display_data"
    }
   ],
   "source": [
    "nsteperror = I_enc.n_step_error(test,nf=200) #return in NRMS units of fit_sys_ss_enc.norm\n",
    "plt.plot(nsteperror)\n",
    "plt.xlabel('n step in the future')\n",
    "plt.ylabel('NRMS error')\n",
    "plt.show()"
   ]
  },
  {
   "cell_type": "code",
   "execution_count": 51,
   "metadata": {},
   "outputs": [],
   "source": [
    "I_enc.save_system(\"systems/UnbalancedDisk_dt01_e100_SNR_100\")"
   ]
  },
  {
   "cell_type": "code",
   "execution_count": 10,
   "metadata": {},
   "outputs": [],
   "source": [
    "#I_enc = deepSI.load_system(\"systems/UnbalancedDisk_dt0025_e100_SNR_20\")"
   ]
  },
  {
   "cell_type": "code",
   "execution_count": 52,
   "metadata": {},
   "outputs": [],
   "source": [
    "# function that converts torch nn to casadi expression\n",
    "\n",
    "from casadi import *\n",
    "\n",
    "def CasADiFn(ss_enc, x, u):\n",
    "    n_hidden_layers = ss_enc.f_n_hidden_layers\n",
    "    nu = ss_enc.nu if ss_enc.nu is not None else 1\n",
    "\n",
    "    params = {}\n",
    "    for name, param in ss_enc.fn.named_parameters():\n",
    "        params[name] = param.detach().numpy()\n",
    "    params_list = list(params.values())\n",
    "    \n",
    "    xu = vertcat(x,u)\n",
    "\n",
    "    temp_nn = xu\n",
    "    for i in range(n_hidden_layers):\n",
    "        W_NL = params_list[2+i*2]\n",
    "        b_NL = params_list[3+i*2]\n",
    "        temp_nn = mtimes(W_NL, temp_nn)+b_NL\n",
    "        temp_nn = tanh(temp_nn)\n",
    "    W_NL = params_list[2+n_hidden_layers*2]\n",
    "    b_NL = params_list[3+n_hidden_layers*2]\n",
    "    nn_NL = mtimes(W_NL, temp_nn)+b_NL\n",
    "\n",
    "    W_Lin = params_list[0]\n",
    "    b_Lin = params_list[1]\n",
    "    nn_Lin = mtimes(W_Lin,xu) + b_Lin\n",
    "\n",
    "    #f = Function('f', [x, u], [nn_NL + nn_Lin])\n",
    "    return nn_NL + nn_Lin"
   ]
  },
  {
   "cell_type": "code",
   "execution_count": 53,
   "metadata": {},
   "outputs": [],
   "source": [
    "# function that checks whether torch nn and casadi function have the same behavior\n",
    "\n",
    "import torch\n",
    "\n",
    "def checkCasADiFn(ss_enc, casadi_fn):\n",
    "    nu = 1000\n",
    "    u = (torch.rand(nu,3)*2-1)*2\n",
    "    ss_out = ss_enc.fn(u).detach().numpy()\n",
    "\n",
    "    check = True\n",
    "    for i in range(nu):\n",
    "        xin = u[i,0:2].numpy().tolist()\n",
    "        uin = u[i,2].item()\n",
    "        cas_out = f(xin, uin).elements()\n",
    "        #equality_array = np.unique(np.round(np.array(cas_out) - ss_out[i,:], decimals=5) == 0.00000) #use np.isclose and np.all\n",
    "        if np.allclose(np.array(cas_out), ss_out[i,:], rtol=1e-05, atol=1e-05) == False:\n",
    "        #if equality_array.size != 1 or equality_array[0] == False:\n",
    "            check = False\n",
    "\n",
    "    return check"
   ]
  },
  {
   "cell_type": "code",
   "execution_count": 54,
   "metadata": {},
   "outputs": [
    {
     "data": {
      "text/plain": [
       "True"
      ]
     },
     "execution_count": 54,
     "metadata": {},
     "output_type": "execute_result"
    }
   ],
   "source": [
    "# declared sym variables\n",
    "x = MX.sym(\"x\",I_enc.nx,1)\n",
    "nu = I_enc.nu if I_enc.nu is not None else 1\n",
    "u = MX.sym(\"u\",nu,1)\n",
    "\n",
    "# convert torch nn to casadi function\n",
    "rhs = CasADiFn(I_enc, x, u)\n",
    "f = Function('f', [x, u], [rhs])\n",
    "\n",
    "# check if torch nn and casadi function have same behavior\n",
    "check = checkCasADiFn(I_enc, f)\n",
    "check"
   ]
  },
  {
   "cell_type": "code",
   "execution_count": 55,
   "metadata": {},
   "outputs": [
    {
     "data": {
      "text/plain": [
       "DM([0, 0])"
      ]
     },
     "execution_count": 55,
     "metadata": {},
     "output_type": "execute_result"
    }
   ],
   "source": [
    "# apply correction to casadi function such that fc(0) = 0\n",
    "correction = f([0,0], 0)\n",
    "rhs_c = rhs - correction\n",
    "f_c = Function('f_c', [x, u], [rhs_c])\n",
    "f_c([0,0], 0)"
   ]
  },
  {
   "cell_type": "code",
   "execution_count": 56,
   "metadata": {},
   "outputs": [],
   "source": [
    "# Box constraints\n",
    "x_min = -10\n",
    "x_max = 10\n",
    "u_min = -4\n",
    "u_max = 4\n",
    "\n",
    "# Initial and final values\n",
    "x0 = [0,0]\n",
    "x_ref = [0.001, 1.0]\n",
    "u_ref = 0\n",
    "\n",
    "# Weight matrices for the cost function\n",
    "#Q = 100\n",
    "Q = np.matrix('1,0;0,100')\n",
    "R = 1\n",
    "\n",
    "# MPC parameters\n",
    "dt = 0.1\n",
    "Nc = 10\n",
    "Nsim = 200\n",
    "dlam = 0.01\n",
    "stages = 1"
   ]
  },
  {
   "cell_type": "code",
   "execution_count": 57,
   "metadata": {},
   "outputs": [
    {
     "data": {
      "text/plain": [
       "array([-0.00032417, -0.00133448])"
      ]
     },
     "execution_count": 57,
     "metadata": {},
     "output_type": "execute_result"
    }
   ],
   "source": [
    "norm = I_enc.norm\n",
    "xd0 = deepSI.System_data(y=x0)\n",
    "xd0.normed = False\n",
    "norm.transform(xd0).y"
   ]
  },
  {
   "cell_type": "code",
   "execution_count": 58,
   "metadata": {},
   "outputs": [],
   "source": [
    "from my_rk4 import *\n",
    "from lpv_int import *\n",
    "from lpv_rk4 import *\n",
    "import numpy as np\n",
    "import time\n",
    "\n",
    "opti = Opti()\n",
    "\n",
    "# declare variables and parameters of states and inputs\n",
    "n_states = np.shape(x)[0]\n",
    "states = opti.variable(n_states,Nc+1)    \n",
    "x_initial = opti.parameter(n_states,1)\n",
    "\n",
    "n_controls = np.shape(u)[0]\n",
    "controls = opti.variable(n_controls,Nc)\n",
    "\n",
    "reference = opti.parameter(n_states,1)\n",
    "\n",
    "# determine getA and getB functions\n",
    "Jfx = Function(\"Jfx\", [x, u], [jacobian(rhs_c,x)])\n",
    "Jfu = Function(\"Jfu\", [x, u], [jacobian(rhs_c,u)])\n",
    "[A_sym, B_sym] = lpv_int(x,n_states,u,n_controls,Jfx,Jfu,dlam,stages)\n",
    "get_A = Function(\"get_A\",[x,u],[A_sym])\n",
    "get_B = Function(\"get_B\",[x,u],[B_sym])\n",
    "\n",
    "list_A = opti.parameter(Nc*n_states,n_states)\n",
    "list_B = opti.parameter(Nc*n_states,n_controls)\n",
    "\n",
    "# declare bounds of system\n",
    "opti.subject_to(opti.bounded(x_min,states,x_max))\n",
    "opti.subject_to(opti.bounded(u_min,controls,u_max))\n",
    "opti.subject_to(states[:,0] == x_initial)\n",
    "\n",
    "opts = {'print_time' : 0, 'ipopt': {'print_level': 0}}\n",
    "opti.solver(\"ipopt\",opts)"
   ]
  },
  {
   "cell_type": "code",
   "execution_count": 59,
   "metadata": {},
   "outputs": [],
   "source": [
    "objective = 0 #maybe add some soft bounds on the states and inputs\n",
    "for i in np.arange(Nc):\n",
    "    #opti.subject_to(states[:,i+1] == lpv_rk4(states[:,i],controls[:,i],\\\n",
    "    #    list_A[(n_states*i):(n_states*i+n_states),:],list_B[(n_states*i):(n_states*i+n_states),:],dt, correction)) # should this be changed to discrete time model\n",
    "    opti.subject_to(states[:,i+1] == list_A[(n_states*i):(n_states*i+n_states),:]@states[:,i] \\\n",
    "        + list_B[(n_states*i):(n_states*i+n_states),:]@controls[:,i] + correction)\n",
    "    objective = (objective + \n",
    "                    #mtimes(mtimes((states[:,i]-x_ref).T,Q),(states[:,i]-x_ref)) +\n",
    "                    #mtimes(mtimes((controls[:,i]-u_ref).T,R),(controls[:,i]-u_ref)))\n",
    "                    mtimes(mtimes((states[:,i]-reference).T,Q),(states[:,i]-reference)) +\n",
    "                    mtimes(mtimes((controls[:,i]-u_ref).T,R),(controls[:,i]-u_ref)))\n",
    "\n",
    "opti.minimize(objective)"
   ]
  },
  {
   "cell_type": "code",
   "execution_count": 60,
   "metadata": {},
   "outputs": [],
   "source": [
    "#reference_list = np.ones(Nsim+1)*1.0\n",
    "reference_list = np.sin(np.arange(Nsim)*2*np.pi/128)*1\n",
    "#reference_list = np.abs(reference_list)\n",
    "#reference_list = np.hstack((np.ones(50)*1.0, np.ones(50)*-1.5, np.ones(50)*0.5, np.ones(50)*-2.5))\n",
    "#plt.plot(reference_list)"
   ]
  },
  {
   "cell_type": "code",
   "execution_count": 61,
   "metadata": {},
   "outputs": [
    {
     "name": "stdout",
     "output_type": "stream",
     "text": [
      "\n",
      "******************************************************************************\n",
      "This program contains Ipopt, a library for large-scale nonlinear optimization.\n",
      " Ipopt is released as open source code under the Eclipse Public License (EPL).\n",
      "         For more information visit http://projects.coin-or.org/Ipopt\n",
      "******************************************************************************\n",
      "\n",
      "MPC iteration:  1\n",
      "LPV counter:  2\n"
     ]
    },
    {
     "ename": "NameError",
     "evalue": "name 'system' is not defined",
     "output_type": "error",
     "traceback": [
      "\u001b[1;31m---------------------------------------------------------------------------\u001b[0m",
      "\u001b[1;31mNameError\u001b[0m                                 Traceback (most recent call last)",
      "\u001b[1;32mc:\\Users\\Jan Hoekstra\\Downloads\\Internship\\NMPC\\UnbalancedDisc.ipynb Cell 27\u001b[0m in \u001b[0;36m<cell line: 24>\u001b[1;34m()\u001b[0m\n\u001b[0;32m     <a href='vscode-notebook-cell:/c%3A/Users/Jan%20Hoekstra/Downloads/Internship/NMPC/UnbalancedDisc.ipynb#X40sZmlsZQ%3D%3D?line=80'>81</a>\u001b[0m u_denormalized \u001b[39m=\u001b[39m norm\u001b[39m.\u001b[39mustd\u001b[39m*\u001b[39mu[\u001b[39m0\u001b[39m,\u001b[39m0\u001b[39m] \u001b[39m+\u001b[39m norm\u001b[39m.\u001b[39mu0\n\u001b[0;32m     <a href='vscode-notebook-cell:/c%3A/Users/Jan%20Hoekstra/Downloads/Internship/NMPC/UnbalancedDisc.ipynb#X40sZmlsZQ%3D%3D?line=82'>83</a>\u001b[0m \u001b[39m# make system step and normalize\u001b[39;00m\n\u001b[1;32m---> <a href='vscode-notebook-cell:/c%3A/Users/Jan%20Hoekstra/Downloads/Internship/NMPC/UnbalancedDisc.ipynb#X40sZmlsZQ%3D%3D?line=83'>84</a>\u001b[0m x_denormalized \u001b[39m=\u001b[39m system\u001b[39m.\u001b[39mf(x_denormalized, u_denormalized)\n\u001b[0;32m     <a href='vscode-notebook-cell:/c%3A/Users/Jan%20Hoekstra/Downloads/Internship/NMPC/UnbalancedDisc.ipynb#X40sZmlsZQ%3D%3D?line=84'>85</a>\u001b[0m x_measured \u001b[39m=\u001b[39m system\u001b[39m.\u001b[39mh(x_denormalized, u_denormalized)\n\u001b[0;32m     <a href='vscode-notebook-cell:/c%3A/Users/Jan%20Hoekstra/Downloads/Internship/NMPC/UnbalancedDisc.ipynb#X40sZmlsZQ%3D%3D?line=85'>86</a>\u001b[0m x0_norm \u001b[39m=\u001b[39m (x_measured \u001b[39m-\u001b[39m norm\u001b[39m.\u001b[39my0)\u001b[39m/\u001b[39mnorm\u001b[39m.\u001b[39mystd\n",
      "\u001b[1;31mNameError\u001b[0m: name 'system' is not defined"
     ]
    }
   ],
   "source": [
    "# normalize reference list\n",
    "norm = I_enc.norm\n",
    "reference_list_normalized = (reference_list - norm.y0[1])/norm.ystd[1]\n",
    "x0_norm = (x0 - norm.y0)/norm.ystd\n",
    "\n",
    "# logging list\n",
    "t = np.zeros(Nsim)\n",
    "t0 = 0\n",
    "u_log = np.zeros([n_controls,Nsim])\n",
    "x_log = np.zeros([n_states,Nsim+1])\n",
    "comp_t_log = np.zeros(Nsim)\n",
    "x_log[:,0] = x0\n",
    "start = time.time()\n",
    "lpv_counter = np.zeros(Nsim,int)\n",
    "\n",
    "# set initial values for x\n",
    "x = np.zeros([n_states,Nc+1])\n",
    "u = np.zeros([n_controls,Nc]) # change this to u0 instead of 0 maybe\n",
    "opti.set_initial(states, x)\n",
    "opti.set_initial(controls, u)\n",
    "opti.set_value(x_initial,x0_norm)\n",
    "\n",
    "for mpciter in np.arange(Nsim):\n",
    "    start_time_iter = time.time()\n",
    "\n",
    "    # solve for u and x\n",
    "    opti.set_value(reference,[0,reference_list_normalized[mpciter]])\n",
    "\n",
    "    # MPC loop\n",
    "    while True:\n",
    "        # determine A,B\n",
    "        for i in np.arange(Nc):\n",
    "            opti.set_value(list_A[(n_states*i):(n_states*i+n_states),:],get_A(x[:,i],u[:,i]))\n",
    "            opti.set_value(list_B[(n_states*i):(n_states*i+n_states),:],get_B(x[:,i],u[:,i]))\n",
    "        \n",
    "        # solve for u and x\n",
    "        sol = opti.solve()\n",
    "        u_old = u\n",
    "        u = np.reshape(sol.value(controls),[n_controls,Nc])\n",
    "        x = np.reshape(sol.value(states),[n_states,Nc+1]) # this relies on internal simulation in solution, this is x=Ax+Bu\n",
    "\n",
    "        # simulate next step using rk4 over non correction casadi function\n",
    "        #for i in np.arange(Nc):\n",
    "        #    x[:,i+1] = np.ravel(my_rk4(x[:,i],u[:,i],f,dt),order='F')\n",
    "        x = np.reshape(sol.value(states),[n_states,Nc+1]) # change this to nn maybe\n",
    "        \n",
    "        # set new x and u values into optimizer\n",
    "        opti.set_initial(states, x)\n",
    "        opti.set_initial(controls, u)\n",
    "\n",
    "        lpv_counter[mpciter] += 1  \n",
    "\n",
    "        # Stop MPC loop if max iteration reached or input converged\n",
    "        if (lpv_counter[mpciter] >= 1) or (np.linalg.norm(u-u_old) < 1e-5):\n",
    "            break\n",
    "\n",
    "    print(\"MPC iteration: \", mpciter+1)\n",
    "    print(\"LPV counter: \", lpv_counter[mpciter])\n",
    "\n",
    "    t[mpciter] = t0\n",
    "    t0 = t0 + dt\n",
    "    try:\n",
    "        x = x.full()\n",
    "    except:\n",
    "        x = x\n",
    "    try:\n",
    "        u = u.full()\n",
    "    except:\n",
    "        u = u\n",
    "    \n",
    "    # denormalize x and u\n",
    "    x_denormalized = norm.ystd*x0_norm + norm.y0\n",
    "    u_denormalized = norm.ustd*u[0,0] + norm.u0\n",
    "\n",
    "    # make system step and normalize\n",
    "    x_denormalized = system.f(x_denormalized, u_denormalized)\n",
    "    x_measured = system.h(x_denormalized, u_denormalized)\n",
    "    x0_norm = (x_measured - norm.y0)/norm.ystd\n",
    "\n",
    "    x_log[:,mpciter+1] = x_measured\n",
    "    u_log[:,mpciter] = u_denormalized\n",
    "    \n",
    "    x = horzcat(x[:,1:(Nc+1)],x[:,-1])\n",
    "    x[:,0] = x0_norm\n",
    "    u = horzcat(u[:,1:Nc],u[:,-1])\n",
    "    opti.set_value(x_initial, x0_norm)\n",
    "    opti.set_initial(states, x)\n",
    "    opti.set_initial(controls, u)\n",
    "\n",
    "    # finished mpc time measurement\n",
    "    end_time_iter = time.time()\n",
    "    comp_t_log[mpciter] = end_time_iter - start_time_iter\n",
    "\n",
    "end = time.time()\n",
    "runtime = end - start"
   ]
  },
  {
   "cell_type": "code",
   "execution_count": null,
   "metadata": {},
   "outputs": [],
   "source": [
    "fig = plt.figure(figsize=[14.0, 3.0])\n",
    "\n",
    "plt.subplot(1,3,1)\n",
    "plt.plot(np.arange(Nsim+1)*dt, x_log[0,:], label='angular velocity')\n",
    "plt.plot(np.arange(Nsim+1)*dt, np.ones(x_log.shape[1])*x_ref[0], label='reference')\n",
    "plt.ylabel(\"velocity [m/s]\") # not sure about the unit\n",
    "plt.xlabel(\"time [s]\")\n",
    "plt.grid()\n",
    "plt.legend()\n",
    "\n",
    "plt.subplot(1,3,2)\n",
    "plt.plot(np.arange(Nsim+1)*dt, x_log[1,:], label='angle')\n",
    "#plt.plot(np.arange(Nsim+1)*dt, np.ones(x_log.shape[1])*x_ref[1], label='reference')\n",
    "plt.plot(np.arange(Nsim+1)*dt, np.hstack((np.zeros(1),reference_list)), label='reference') # figure out what the correct hstack should be here\n",
    "plt.ylabel(\"displacement [m]\") # not sure about the unit\n",
    "plt.xlabel(\"time [s]\")\n",
    "plt.grid()\n",
    "plt.legend()\n",
    "\n",
    "plt.subplot(1,3,3)\n",
    "plt.plot(np.arange(Nsim)*dt, u_log[0,:], label='input')\n",
    "plt.plot(np.arange(Nsim)*dt, np.ones(Nsim)*u_ref, label='reference')\n",
    "plt.ylabel(\"input\") # not sure about the unit\n",
    "plt.xlabel(\"time [s]\")\n",
    "plt.grid()\n",
    "plt.legend();"
   ]
  },
  {
   "cell_type": "code",
   "execution_count": null,
   "metadata": {},
   "outputs": [],
   "source": []
  }
 ],
 "metadata": {
  "kernelspec": {
   "display_name": "Python 3.9.7 64-bit",
   "language": "python",
   "name": "python3"
  },
  "language_info": {
   "codemirror_mode": {
    "name": "ipython",
    "version": 3
   },
   "file_extension": ".py",
   "mimetype": "text/x-python",
   "name": "python",
   "nbconvert_exporter": "python",
   "pygments_lexer": "ipython3",
   "version": "3.9.7"
  },
  "orig_nbformat": 4,
  "vscode": {
   "interpreter": {
    "hash": "15fab87b5ba22ae8e62c81d863360f60b5dcc879f62e9499f7c9922220cd72f8"
   }
  }
 },
 "nbformat": 4,
 "nbformat_minor": 2
}
