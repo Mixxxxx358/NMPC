{
 "cells": [
  {
   "cell_type": "code",
   "execution_count": 1,
   "metadata": {},
   "outputs": [],
   "source": [
    "from Systems import UnbalancedDisc\n",
    "from Systems import NoisyUnbalancedDisc\n",
    "from Systems import DiscreteUnbalancedDisc\n",
    "import deepSI\n",
    "from matplotlib import pyplot as plt\n",
    "import numpy as np"
   ]
  },
  {
   "cell_type": "code",
   "execution_count": 2,
   "metadata": {},
   "outputs": [
    {
     "data": {
      "text/plain": [
       "[<matplotlib.lines.Line2D at 0x14823774d90>]"
      ]
     },
     "execution_count": 2,
     "metadata": {},
     "output_type": "execute_result"
    },
    {
     "data": {
      "image/png": "[encoded data removed]",
      "text/plain": [
       "<Figure size 432x288 with 1 Axes>"
      ]
     },
     "metadata": {
      "needs_background": "light"
     },
     "output_type": "display_data"
    }
   ],
   "source": [
    "#out = np.load('measurement-datasets/disk-measurement-dataset-1.npz') \n",
    "#u1 = out['u'] #inputs\n",
    "#th = out['th'] #outputs\n",
    "#t = out['t'] #time vector\n",
    "\n",
    "u = deepSI.deepSI.exp_design.multisine(100000, pmax=49999, n_crest_factor_optim=20)\n",
    "u = np.clip(u*1.0, -3.0, 3.0)\n",
    "plt.subplot(1,2,1)\n",
    "plt.plot(u[:300])\n",
    "# plt.subplot(1,2,2)\n",
    "# plt.plot(u1[:300])"
   ]
  },
  {
   "cell_type": "code",
   "execution_count": 3,
   "metadata": {},
   "outputs": [],
   "source": [
    "system = NoisyUnbalancedDisc(dt=0.1, sigma_n=[0.0, 0.0])\n",
    "#system_discrete = DiscreteUnbalancedDisc(dt=0.1)\n",
    "data = system.apply_experiment(deepSI.System_data(u=u))\n",
    "#data_discrete = system_discrete.apply_experiment(deepSI.System_data(u=u))\n",
    "#data = system_discrete.apply_experiment(deepSI.System_data(u=u))"
   ]
  },
  {
   "cell_type": "code",
   "execution_count": 4,
   "metadata": {},
   "outputs": [
    {
     "data": {
      "text/plain": [
       "[<matplotlib.lines.Line2D at 0x14827303a90>]"
      ]
     },
     "execution_count": 4,
     "metadata": {},
     "output_type": "execute_result"
    },
    {
     "data": {
      "image/png": "[encoded data removed]",
      "text/plain": [
       "<Figure size 432x288 with 2 Axes>"
      ]
     },
     "metadata": {
      "needs_background": "light"
     },
     "output_type": "display_data"
    }
   ],
   "source": [
    "plt.subplot(1,2,1)\n",
    "plt.plot(data.y[:,0])\n",
    "plt.subplot(1,2,2)\n",
    "plt.plot(data.y[:,1])\n",
    "# plt.plot(data.y)"
   ]
  },
  {
   "cell_type": "code",
   "execution_count": null,
   "metadata": {},
   "outputs": [],
   "source": [
    "plt.subplot(1,2,1)\n",
    "plt.plot(data_discrete.y[:,0], label='discrete')\n",
    "plt.plot(data_discrete.y[:,0] - data.y[:,0], label='difference')\n",
    "plt.grid()\n",
    "plt.legend()\n",
    "\n",
    "plt.subplot(1,2,2)\n",
    "plt.plot(data_discrete.y[:,1], label='discrete')\n",
    "plt.plot(data_discrete.y[:,1] - data.y[:,1], label='difference')\n",
    "plt.grid()\n",
    "plt.legend();"
   ]
  },
  {
   "cell_type": "code",
   "execution_count": null,
   "metadata": {},
   "outputs": [],
   "source": [
    "Spower = np.sum(np.square(data.y), axis=0)/data.y.shape[0]"
   ]
  },
  {
   "cell_type": "code",
   "execution_count": null,
   "metadata": {},
   "outputs": [],
   "source": [
    "Npower = np.sum(np.square(np.hstack((np.random.normal(0, 0.47, (10000,1)), np.random.normal(0, 0.044, (10000,1))))), axis=0)/10000\n",
    "# SNR 200 = [0.33, 0.032]\n",
    "# SNR 100 = [0.47, 0.044]\n",
    "# SNR 50 = [0.48, 0.044]\n",
    "# SNR 20 = [0.77, 0.074]\n",
    "# SNR 10 = [1.45 0.14]\n",
    "# SNR 5.2 = [2.3 0.22]\n",
    "10*np.log10(Spower / Npower)"
   ]
  },
  {
   "cell_type": "code",
   "execution_count": 5,
   "metadata": {},
   "outputs": [],
   "source": [
    "from torch import nn\n",
    "class I_encoder(deepSI.fit_systems.SS_encoder):\n",
    "    def __init__(self, nx = 2, na=2, nb=2, feedthrough=False) -> None:\n",
    "        super().__init__(nx=nx, na=na, nb=nb, feedthrough=feedthrough)\n",
    "        self.f_n_nodes_per_layer = 32\n",
    "\n",
    "    def init_nets(self, nu, ny): # a bit weird\n",
    "        ny = ny if ny is not None else 1\n",
    "        nu = nu if nu is not None else 1\n",
    "        self.encoder = self.e_net(self.nb*nu+self.na*ny, self.nx, n_nodes_per_layer=self.e_n_nodes_per_layer, n_hidden_layers=self.e_n_hidden_layers, activation=self.e_activation)\n",
    "        self.fn =      self.f_net(self.nx+nu,            self.nx, n_nodes_per_layer=self.f_n_nodes_per_layer, n_hidden_layers=self.f_n_hidden_layers, activation=self.f_activation)\n",
    "        hn_in = self.nx + nu if self.feedthrough else self.nx\n",
    "        #self.hn =      stateSelector()\n",
    "        self.hn =      nn.Identity(hn_in)#self.h_net(hn_in     ,            ny,      n_nodes_per_layer=self.h_n_nodes_per_layer, n_hidden_layers=self.h_n_hidden_layers, activation=self.h_activation)"
   ]
  },
  {
   "cell_type": "code",
   "execution_count": 6,
   "metadata": {},
   "outputs": [
    {
     "data": {
      "text/plain": [
       "32"
      ]
     },
     "execution_count": 6,
     "metadata": {},
     "output_type": "execute_result"
    }
   ],
   "source": [
    "I_enc = I_encoder(nx=2, na=2, nb=2, feedthrough=False)\n",
    "I_enc.f_n_nodes_per_layer\n",
    "#I_enc = deepSI.fit_systems.SS_encoder(nx=2, na=2, nb=2, feedthrough=False)"
   ]
  },
  {
   "cell_type": "code",
   "execution_count": 7,
   "metadata": {},
   "outputs": [],
   "source": [
    "train, test = data.train_test_split(split_fraction=0.2)\n",
    "train, val  = train.train_test_split(split_fraction=0.25)"
   ]
  },
  {
   "cell_type": "code",
   "execution_count": 8,
   "metadata": {},
   "outputs": [
    {
     "name": "stdout",
     "output_type": "stream",
     "text": [
      "Initilizing the model and optimizer\n",
      "Size of the training array =  208.2 MB\n",
      "N_training_samples = 59849, batch_size = 256, N_batch_updates_per_epoch = 233\n",
      "Initial Validation sim-NRMS= 1.1783026683946298\n"
     ]
    },
    {
     "data": {
      "application/vnd.jupyter.widget-view+json": {
       "model_id": "30f6815bec96469eb4a77fe0eca8331a",
       "version_major": 2,
       "version_minor": 0
      },
      "text/plain": [
       "  0%|          | 0/100 [00:00<?, ?it/s]"
      ]
     },
     "metadata": {},
     "output_type": "display_data"
    },
    {
     "name": "stdout",
     "output_type": "stream",
     "text": [
      "########## New lowest validation loss achieved ########### sim-NRMS = 0.27513740144614895\n",
      "Epoch    1, sqrt loss  0.6463, Val sim-NRMS 0.2751, Time Loss: 88.8%, data: 0.4%, val: 10.8%,  9.6 batches/sec\n",
      "########## New lowest validation loss achieved ########### sim-NRMS = 0.1716120076712605\n",
      "Epoch    2, sqrt loss  0.2269, Val sim-NRMS 0.1716, Time Loss: 88.8%, data: 0.4%, val: 10.9%,  9.7 batches/sec\n",
      "########## New lowest validation loss achieved ########### sim-NRMS = 0.07304700683552665\n",
      "Epoch    3, sqrt loss  0.1195, Val sim-NRMS 0.07305, Time Loss: 88.6%, data: 0.3%, val: 11.1%,  9.8 batches/sec\n",
      "########## New lowest validation loss achieved ########### sim-NRMS = 0.05241726142112382\n",
      "Epoch    4, sqrt loss 0.06177, Val sim-NRMS 0.05242, Time Loss: 88.6%, data: 0.3%, val: 11.0%,  9.8 batches/sec\n",
      "########## New lowest validation loss achieved ########### sim-NRMS = 0.045579356317423006\n",
      "Epoch    5, sqrt loss 0.04796, Val sim-NRMS 0.04558, Time Loss: 88.6%, data: 0.3%, val: 11.0%,  9.8 batches/sec\n",
      "########## New lowest validation loss achieved ########### sim-NRMS = 0.037356463143516885\n",
      "Epoch    6, sqrt loss 0.04052, Val sim-NRMS 0.03736, Time Loss: 88.7%, data: 0.3%, val: 11.0%,  9.8 batches/sec\n",
      "########## New lowest validation loss achieved ########### sim-NRMS = 0.033109940315523334\n",
      "Epoch    7, sqrt loss 0.03557, Val sim-NRMS 0.03311, Time Loss: 88.6%, data: 0.3%, val: 11.0%,  9.8 batches/sec\n",
      "########## New lowest validation loss achieved ########### sim-NRMS = 0.029500477448019258\n",
      "Epoch    8, sqrt loss 0.03176, Val sim-NRMS 0.0295, Time Loss: 88.6%, data: 0.3%, val: 11.0%,  9.8 batches/sec\n",
      "########## New lowest validation loss achieved ########### sim-NRMS = 0.026958491698099475\n",
      "Epoch    9, sqrt loss  0.0293, Val sim-NRMS 0.02696, Time Loss: 88.6%, data: 0.3%, val: 11.0%,  9.8 batches/sec\n",
      "########## New lowest validation loss achieved ########### sim-NRMS = 0.02457639109981421\n",
      "Epoch   10, sqrt loss 0.02652, Val sim-NRMS 0.02458, Time Loss: 88.5%, data: 0.3%, val: 11.1%,  9.8 batches/sec\n",
      "########## New lowest validation loss achieved ########### sim-NRMS = 0.02286414959086533\n",
      "Epoch   11, sqrt loss 0.02514, Val sim-NRMS 0.02286, Time Loss: 88.6%, data: 0.3%, val: 11.1%,  9.8 batches/sec\n",
      "########## New lowest validation loss achieved ########### sim-NRMS = 0.021161776637490783\n",
      "Epoch   12, sqrt loss 0.02331, Val sim-NRMS 0.02116, Time Loss: 88.6%, data: 0.3%, val: 11.1%,  9.8 batches/sec\n",
      "########## New lowest validation loss achieved ########### sim-NRMS = 0.02005567064517407\n",
      "Epoch   13, sqrt loss 0.02174, Val sim-NRMS 0.02006, Time Loss: 88.6%, data: 0.3%, val: 11.0%,  9.8 batches/sec\n",
      "########## New lowest validation loss achieved ########### sim-NRMS = 0.018920738396776042\n",
      "Epoch   14, sqrt loss 0.02053, Val sim-NRMS 0.01892, Time Loss: 88.6%, data: 0.3%, val: 11.0%,  9.8 batches/sec\n",
      "Epoch   15, sqrt loss 0.01943, Val sim-NRMS 0.01901, Time Loss: 88.7%, data: 0.3%, val: 11.0%,  9.7 batches/sec\n",
      "########## New lowest validation loss achieved ########### sim-NRMS = 0.01748040481082535\n",
      "Epoch   16, sqrt loss 0.01904, Val sim-NRMS 0.01748, Time Loss: 88.7%, data: 0.3%, val: 10.9%,  9.7 batches/sec\n",
      "Epoch   17, sqrt loss 0.01822, Val sim-NRMS 0.01904, Time Loss: 88.7%, data: 0.3%, val: 10.9%,  9.7 batches/sec\n",
      "########## New lowest validation loss achieved ########### sim-NRMS = 0.014876086738287213\n",
      "Epoch   18, sqrt loss 0.01682, Val sim-NRMS 0.01488, Time Loss: 88.8%, data: 0.3%, val: 10.9%,  9.6 batches/sec\n",
      "########## New lowest validation loss achieved ########### sim-NRMS = 0.014247455538568744\n",
      "Epoch   19, sqrt loss 0.01652, Val sim-NRMS 0.01425, Time Loss: 88.8%, data: 0.3%, val: 10.8%,  9.6 batches/sec\n",
      "Epoch   20, sqrt loss 0.01594, Val sim-NRMS 0.01445, Time Loss: 88.8%, data: 0.3%, val: 10.8%,  9.6 batches/sec\n",
      "Epoch   21, sqrt loss 0.01545, Val sim-NRMS 0.01581, Time Loss: 88.8%, data: 0.3%, val: 10.8%,  9.6 batches/sec\n",
      "########## New lowest validation loss achieved ########### sim-NRMS = 0.01275517512497382\n",
      "Epoch   22, sqrt loss  0.0145, Val sim-NRMS 0.01276, Time Loss: 88.9%, data: 0.3%, val: 10.8%,  9.5 batches/sec\n",
      "Epoch   23, sqrt loss 0.01413, Val sim-NRMS 0.01557, Time Loss: 88.9%, data: 0.3%, val: 10.8%,  9.5 batches/sec\n",
      "########## New lowest validation loss achieved ########### sim-NRMS = 0.012683408073301395\n",
      "Epoch   24, sqrt loss 0.01372, Val sim-NRMS 0.01268, Time Loss: 88.9%, data: 0.3%, val: 10.7%,  9.5 batches/sec\n",
      "Epoch   25, sqrt loss 0.01363, Val sim-NRMS 0.01431, Time Loss: 88.9%, data: 0.3%, val: 10.8%,  9.5 batches/sec\n",
      "########## New lowest validation loss achieved ########### sim-NRMS = 0.012511965574536689\n",
      "Epoch   26, sqrt loss 0.01368, Val sim-NRMS 0.01251, Time Loss: 88.9%, data: 0.3%, val: 10.7%,  9.5 batches/sec\n",
      "########## New lowest validation loss achieved ########### sim-NRMS = 0.011027503195958929\n",
      "Epoch   27, sqrt loss 0.01197, Val sim-NRMS 0.01103, Time Loss: 88.9%, data: 0.3%, val: 10.7%,  9.5 batches/sec\n",
      "Epoch   28, sqrt loss 0.01255, Val sim-NRMS 0.01378, Time Loss: 88.9%, data: 0.3%, val: 10.7%,  9.4 batches/sec\n",
      "########## New lowest validation loss achieved ########### sim-NRMS = 0.00906768323345037\n",
      "Epoch   29, sqrt loss 0.01256, Val sim-NRMS 0.009068, Time Loss: 89.0%, data: 0.3%, val: 10.7%,  9.4 batches/sec\n",
      "Epoch   30, sqrt loss 0.01181, Val sim-NRMS 0.0133, Time Loss: 89.0%, data: 0.3%, val: 10.7%,  9.4 batches/sec\n",
      "########## New lowest validation loss achieved ########### sim-NRMS = 0.008639473489257917\n",
      "Epoch   31, sqrt loss 0.01116, Val sim-NRMS 0.008639, Time Loss: 89.0%, data: 0.3%, val: 10.7%,  9.4 batches/sec\n",
      "Epoch   32, sqrt loss 0.01161, Val sim-NRMS 0.01207, Time Loss: 89.0%, data: 0.3%, val: 10.6%,  9.4 batches/sec\n",
      "########## New lowest validation loss achieved ########### sim-NRMS = 0.008317699996945399\n",
      "Epoch   33, sqrt loss 0.01163, Val sim-NRMS 0.008318, Time Loss: 89.0%, data: 0.3%, val: 10.6%,  9.4 batches/sec\n",
      "Epoch   34, sqrt loss  0.0109, Val sim-NRMS 0.01311, Time Loss: 89.0%, data: 0.3%, val: 10.6%,  9.4 batches/sec\n",
      "Epoch   35, sqrt loss 0.01056, Val sim-NRMS 0.01603, Time Loss: 89.0%, data: 0.3%, val: 10.6%,  9.4 batches/sec\n",
      "Epoch   36, sqrt loss 0.01097, Val sim-NRMS 0.009382, Time Loss: 89.0%, data: 0.3%, val: 10.6%,  9.4 batches/sec\n",
      "Epoch   37, sqrt loss  0.0102, Val sim-NRMS 0.01755, Time Loss: 89.0%, data: 0.3%, val: 10.6%,  9.4 batches/sec\n",
      "Epoch   38, sqrt loss 0.01068, Val sim-NRMS 0.01307, Time Loss: 89.0%, data: 0.3%, val: 10.6%,  9.4 batches/sec\n",
      "Epoch   39, sqrt loss 0.009947, Val sim-NRMS 0.01348, Time Loss: 89.0%, data: 0.3%, val: 10.6%,  9.4 batches/sec\n",
      "Epoch   40, sqrt loss 0.01108, Val sim-NRMS 0.009393, Time Loss: 89.0%, data: 0.3%, val: 10.6%,  9.4 batches/sec\n",
      "########## New lowest validation loss achieved ########### sim-NRMS = 0.007913706557657867\n",
      "Epoch   41, sqrt loss 0.009948, Val sim-NRMS 0.007914, Time Loss: 89.0%, data: 0.4%, val: 10.6%,  9.4 batches/sec\n",
      "########## New lowest validation loss achieved ########### sim-NRMS = 0.007104935268650808\n",
      "Epoch   42, sqrt loss 0.01008, Val sim-NRMS 0.007105, Time Loss: 89.1%, data: 0.3%, val: 10.6%,  9.4 batches/sec\n",
      "Epoch   43, sqrt loss 0.01005, Val sim-NRMS 0.01011, Time Loss: 89.1%, data: 0.3%, val: 10.6%,  9.4 batches/sec\n",
      "Epoch   44, sqrt loss 0.01002, Val sim-NRMS 0.00725, Time Loss: 89.1%, data: 0.3%, val: 10.6%,  9.4 batches/sec\n",
      "########## New lowest validation loss achieved ########### sim-NRMS = 0.006787144063825131\n",
      "Epoch   45, sqrt loss 0.01002, Val sim-NRMS 0.006787, Time Loss: 89.1%, data: 0.3%, val: 10.6%,  9.3 batches/sec\n",
      "########## New lowest validation loss achieved ########### sim-NRMS = 0.006575216569070204\n",
      "Epoch   46, sqrt loss 0.01009, Val sim-NRMS 0.006575, Time Loss: 89.1%, data: 0.3%, val: 10.6%,  9.3 batches/sec\n",
      "Epoch   47, sqrt loss 0.009502, Val sim-NRMS 0.007048, Time Loss: 89.1%, data: 0.3%, val: 10.6%,  9.3 batches/sec\n",
      "Epoch   48, sqrt loss 0.01001, Val sim-NRMS 0.007629, Time Loss: 89.1%, data: 0.3%, val: 10.5%,  9.3 batches/sec\n",
      "Epoch   49, sqrt loss 0.009581, Val sim-NRMS 0.009538, Time Loss: 89.1%, data: 0.3%, val: 10.5%,  9.4 batches/sec\n",
      "Epoch   50, sqrt loss 0.009263, Val sim-NRMS 0.009222, Time Loss: 89.1%, data: 0.4%, val: 10.6%,  9.4 batches/sec\n",
      "Epoch   51, sqrt loss 0.009917, Val sim-NRMS 0.01084, Time Loss: 89.1%, data: 0.3%, val: 10.6%,  9.4 batches/sec\n",
      "Epoch   52, sqrt loss 0.009626, Val sim-NRMS 0.008055, Time Loss: 89.1%, data: 0.3%, val: 10.6%,  9.4 batches/sec\n",
      "Epoch   53, sqrt loss 0.009008, Val sim-NRMS 0.009471, Time Loss: 89.1%, data: 0.3%, val: 10.6%,  9.4 batches/sec\n",
      "########## New lowest validation loss achieved ########### sim-NRMS = 0.006528741355335601\n",
      "Epoch   54, sqrt loss 0.009357, Val sim-NRMS 0.006529, Time Loss: 89.1%, data: 0.3%, val: 10.6%,  9.4 batches/sec\n",
      "Epoch   55, sqrt loss 0.009718, Val sim-NRMS 0.01341, Time Loss: 89.0%, data: 0.3%, val: 10.6%,  9.4 batches/sec\n",
      "########## New lowest validation loss achieved ########### sim-NRMS = 0.006294533248160354\n",
      "Epoch   56, sqrt loss 0.009142, Val sim-NRMS 0.006295, Time Loss: 89.0%, data: 0.3%, val: 10.6%,  9.4 batches/sec\n",
      "Epoch   57, sqrt loss 0.009653, Val sim-NRMS 0.008796, Time Loss: 89.0%, data: 0.3%, val: 10.6%,  9.4 batches/sec\n",
      "Epoch   58, sqrt loss 0.008648, Val sim-NRMS 0.007809, Time Loss: 89.0%, data: 0.3%, val: 10.6%,  9.4 batches/sec\n",
      "Epoch   59, sqrt loss 0.009305, Val sim-NRMS 0.009424, Time Loss: 89.0%, data: 0.3%, val: 10.6%,  9.4 batches/sec\n",
      "########## New lowest validation loss achieved ########### sim-NRMS = 0.00584872606628367\n",
      "Epoch   60, sqrt loss 0.009032, Val sim-NRMS 0.005849, Time Loss: 89.0%, data: 0.3%, val: 10.6%,  9.4 batches/sec\n",
      "Epoch   61, sqrt loss 0.009759, Val sim-NRMS 0.007071, Time Loss: 89.0%, data: 0.3%, val: 10.6%,  9.3 batches/sec\n",
      "Epoch   62, sqrt loss 0.008899, Val sim-NRMS 0.006244, Time Loss: 89.0%, data: 0.3%, val: 10.6%,  9.3 batches/sec\n",
      "Epoch   63, sqrt loss 0.009342, Val sim-NRMS 0.009433, Time Loss: 89.0%, data: 0.3%, val: 10.6%,  9.3 batches/sec\n",
      "Epoch   64, sqrt loss 0.008945, Val sim-NRMS 0.006411, Time Loss: 89.0%, data: 0.4%, val: 10.6%,  9.3 batches/sec\n",
      "Epoch   65, sqrt loss 0.008587, Val sim-NRMS 0.009697, Time Loss: 89.0%, data: 0.4%, val: 10.6%,  9.3 batches/sec\n",
      "Epoch   66, sqrt loss 0.009702, Val sim-NRMS 0.01008, Time Loss: 89.0%, data: 0.4%, val: 10.6%,  9.3 batches/sec\n",
      "Epoch   67, sqrt loss 0.007934, Val sim-NRMS 0.009256, Time Loss: 89.0%, data: 0.4%, val: 10.6%,  9.3 batches/sec\n",
      "Epoch   68, sqrt loss 0.009088, Val sim-NRMS 0.006976, Time Loss: 89.0%, data: 0.4%, val: 10.6%,  9.3 batches/sec\n",
      "Epoch   69, sqrt loss 0.009288, Val sim-NRMS 0.0149, Time Loss: 89.1%, data: 0.4%, val: 10.6%,  9.3 batches/sec\n",
      "Epoch   70, sqrt loss 0.009037, Val sim-NRMS 0.007708, Time Loss: 89.1%, data: 0.4%, val: 10.6%,  9.3 batches/sec\n",
      "Epoch   71, sqrt loss 0.007603, Val sim-NRMS 0.006091, Time Loss: 89.1%, data: 0.4%, val: 10.6%,  9.3 batches/sec\n",
      "Epoch   72, sqrt loss 0.009317, Val sim-NRMS 0.01126, Time Loss: 89.1%, data: 0.4%, val: 10.6%,  9.3 batches/sec\n",
      "Epoch   73, sqrt loss 0.008815, Val sim-NRMS 0.006391, Time Loss: 89.1%, data: 0.4%, val: 10.6%,  9.3 batches/sec\n",
      "Epoch   74, sqrt loss 0.008955, Val sim-NRMS 0.007096, Time Loss: 89.1%, data: 0.4%, val: 10.6%,  9.3 batches/sec\n",
      "########## New lowest validation loss achieved ########### sim-NRMS = 0.005361301746748492\n",
      "Epoch   75, sqrt loss 0.008399, Val sim-NRMS 0.005361, Time Loss: 89.1%, data: 0.4%, val: 10.6%,  9.3 batches/sec\n",
      "Epoch   76, sqrt loss 0.008617, Val sim-NRMS 0.005914, Time Loss: 89.1%, data: 0.4%, val: 10.6%,  9.3 batches/sec\n",
      "Epoch   77, sqrt loss 0.008455, Val sim-NRMS 0.008788, Time Loss: 89.1%, data: 0.4%, val: 10.6%,  9.3 batches/sec\n",
      "Epoch   78, sqrt loss 0.008884, Val sim-NRMS 0.007588, Time Loss: 89.1%, data: 0.4%, val: 10.6%,  9.3 batches/sec\n",
      "Epoch   79, sqrt loss 0.008609, Val sim-NRMS 0.009804, Time Loss: 89.1%, data: 0.4%, val: 10.5%,  9.3 batches/sec\n",
      "Epoch   80, sqrt loss 0.008318, Val sim-NRMS 0.005726, Time Loss: 89.1%, data: 0.4%, val: 10.5%,  9.3 batches/sec\n",
      "Epoch   81, sqrt loss 0.008692, Val sim-NRMS 0.008864, Time Loss: 89.1%, data: 0.4%, val: 10.5%,  9.3 batches/sec\n",
      "Epoch   82, sqrt loss 0.008003, Val sim-NRMS 0.0104, Time Loss: 89.1%, data: 0.4%, val: 10.5%,  9.3 batches/sec\n",
      "Epoch   83, sqrt loss 0.008872, Val sim-NRMS 0.01012, Time Loss: 89.1%, data: 0.4%, val: 10.5%,  9.3 batches/sec\n",
      "Epoch   84, sqrt loss 0.009229, Val sim-NRMS 0.007432, Time Loss: 89.1%, data: 0.4%, val: 10.5%,  9.3 batches/sec\n",
      "########## New lowest validation loss achieved ########### sim-NRMS = 0.005056094185097762\n",
      "Epoch   85, sqrt loss 0.008151, Val sim-NRMS 0.005056, Time Loss: 89.1%, data: 0.4%, val: 10.5%,  9.3 batches/sec\n",
      "Epoch   86, sqrt loss 0.009011, Val sim-NRMS 0.007442, Time Loss: 89.1%, data: 0.4%, val: 10.5%,  9.3 batches/sec\n",
      "Epoch   87, sqrt loss 0.006933, Val sim-NRMS 0.008067, Time Loss: 89.1%, data: 0.4%, val: 10.5%,  9.3 batches/sec\n",
      "Epoch   88, sqrt loss 0.008643, Val sim-NRMS 0.007335, Time Loss: 89.1%, data: 0.4%, val: 10.5%,  9.3 batches/sec\n",
      "Epoch   89, sqrt loss 0.00831, Val sim-NRMS 0.01295, Time Loss: 89.1%, data: 0.4%, val: 10.5%,  9.3 batches/sec\n",
      "Epoch   90, sqrt loss 0.008253, Val sim-NRMS 0.006682, Time Loss: 89.1%, data: 0.4%, val: 10.5%,  9.3 batches/sec\n",
      "Epoch   91, sqrt loss 0.008207, Val sim-NRMS 0.007467, Time Loss: 89.1%, data: 0.4%, val: 10.5%,  9.3 batches/sec\n",
      "Epoch   92, sqrt loss 0.008431, Val sim-NRMS 0.006776, Time Loss: 89.1%, data: 0.4%, val: 10.5%,  9.3 batches/sec\n",
      "Epoch   93, sqrt loss 0.008202, Val sim-NRMS 0.005171, Time Loss: 89.1%, data: 0.4%, val: 10.5%,  9.3 batches/sec\n",
      "Epoch   94, sqrt loss 0.008659, Val sim-NRMS 0.005694, Time Loss: 89.1%, data: 0.4%, val: 10.5%,  9.3 batches/sec\n",
      "Epoch   95, sqrt loss 0.007815, Val sim-NRMS 0.006553, Time Loss: 89.1%, data: 0.4%, val: 10.5%,  9.3 batches/sec\n",
      "Epoch   96, sqrt loss 0.00828, Val sim-NRMS 0.006922, Time Loss: 89.1%, data: 0.4%, val: 10.5%,  9.3 batches/sec\n",
      "Epoch   97, sqrt loss 0.007892, Val sim-NRMS 0.005118, Time Loss: 89.1%, data: 0.4%, val: 10.5%,  9.3 batches/sec\n",
      "Epoch   98, sqrt loss 0.008663, Val sim-NRMS 0.005595, Time Loss: 89.1%, data: 0.4%, val: 10.5%,  9.3 batches/sec\n",
      "########## New lowest validation loss achieved ########### sim-NRMS = 0.004877790388574183\n",
      "Epoch   99, sqrt loss 0.00781, Val sim-NRMS 0.004878, Time Loss: 89.1%, data: 0.4%, val: 10.5%,  9.3 batches/sec\n",
      "Epoch  100, sqrt loss 0.008615, Val sim-NRMS 0.01169, Time Loss: 89.1%, data: 0.4%, val: 10.5%,  9.3 batches/sec\n",
      "Loaded model with best known validation sim-NRMS of 0.004878 which happened on epoch 99 (epoch_id=99.00)\n"
     ]
    }
   ],
   "source": [
    "I_enc.fit(train_sys_data=train, val_sys_data=val, epochs=100, batch_size=256, loss_kwargs={'nf':150})"
   ]
  },
  {
   "cell_type": "code",
   "execution_count": 10,
   "metadata": {},
   "outputs": [
    {
     "data": {
      "text/plain": [
       "<matplotlib.legend.Legend at 0x1482814da30>"
      ]
     },
     "execution_count": 10,
     "metadata": {},
     "output_type": "execute_result"
    },
    {
     "data": {
      "image/png": "[encoded data removed]",
      "text/plain": [
       "<Figure size 432x288 with 1 Axes>"
      ]
     },
     "metadata": {
      "needs_background": "light"
     },
     "output_type": "display_data"
    }
   ],
   "source": [
    "I_enc.checkpoint_load_system('_last')\n",
    "plt.semilogy(I_enc.batch_id,I_enc.Loss_val,label='validation loss')\n",
    "plt.semilogy(I_enc.batch_id,I_enc.Loss_train**0.5,label='trains loss')\n",
    "plt.legend()"
   ]
  },
  {
   "cell_type": "code",
   "execution_count": 11,
   "metadata": {},
   "outputs": [],
   "source": [
    "test_ss_enc = I_enc.apply_experiment(test,save_state=True)"
   ]
  },
  {
   "cell_type": "code",
   "execution_count": 12,
   "metadata": {},
   "outputs": [
    {
     "name": "stdout",
     "output_type": "stream",
     "text": [
      "NRMS simulation SS linear  1.25%\n"
     ]
    },
    {
     "data": {
      "image/png": "[encoded data removed]",
      "text/plain": [
       "<Figure size 432x288 with 2 Axes>"
      ]
     },
     "metadata": {
      "needs_background": "light"
     },
     "output_type": "display_data"
    }
   ],
   "source": [
    "print(f'NRMS simulation SS linear  {test_ss_enc.NRMS(test):.2%}')\n",
    "\n",
    "# plt.plot(test.y[:])\n",
    "# plt.plot(test.y[:] - test_ss_enc.y[:])\n",
    "\n",
    "plt.subplot(1,2,1)\n",
    "plt.plot(test.y[:,0])\n",
    "plt.plot(test.y[:,0] - test_ss_enc.y[:,0])\n",
    "\n",
    "plt.subplot(1,2,2)\n",
    "plt.plot(test.y[:,1])\n",
    "plt.plot(test.y[:,1] - test_ss_enc.y[:,1]);"
   ]
  },
  {
   "cell_type": "code",
   "execution_count": 13,
   "metadata": {},
   "outputs": [
    {
     "data": {
      "image/png": "[encoded data removed]",
      "text/plain": [
       "<Figure size 432x288 with 1 Axes>"
      ]
     },
     "metadata": {
      "needs_background": "light"
     },
     "output_type": "display_data"
    }
   ],
   "source": [
    "nsteperror = I_enc.n_step_error(test,nf=200) #return in NRMS units of fit_sys_ss_enc.norm\n",
    "plt.plot(nsteperror)\n",
    "plt.xlabel('n step in the future')\n",
    "plt.ylabel('NRMS error')\n",
    "plt.show()"
   ]
  },
  {
   "cell_type": "code",
   "execution_count": 9,
   "metadata": {},
   "outputs": [],
   "source": [
    "I_enc.save_system(\"systems/UnbalancedDisk_dt01_e100_nNodes_32\")"
   ]
  },
  {
   "cell_type": "code",
   "execution_count": null,
   "metadata": {},
   "outputs": [],
   "source": [
    "#I_enc = deepSI.load_system(\"systems/UnbalancedDisk_dt01_e100_nNodes_32\")"
   ]
  },
  {
   "cell_type": "code",
   "execution_count": null,
   "metadata": {},
   "outputs": [],
   "source": [
    "# function that converts torch nn to casadi expression\n",
    "\n",
    "from casadi import *\n",
    "\n",
    "def CasADiHn(ss_enc, x):\n",
    "    n_hidden_layers = ss_enc.h_n_hidden_layers\n",
    "\n",
    "    params = {}\n",
    "    for name, param in ss_enc.hn.named_parameters():\n",
    "        params[name] = param.detach().numpy()\n",
    "    params_list = list(params.values())\n",
    "\n",
    "    temp_nn = x\n",
    "    for i in range(n_hidden_layers):\n",
    "        W_NL = params_list[2+i*2]\n",
    "        b_NL = params_list[3+i*2]\n",
    "        temp_nn = mtimes(W_NL, temp_nn)+b_NL\n",
    "        temp_nn = tanh(temp_nn)\n",
    "    W_NL = params_list[2+n_hidden_layers*2]\n",
    "    b_NL = params_list[3+n_hidden_layers*2]\n",
    "    nn_NL = mtimes(W_NL, temp_nn)+b_NL\n",
    "\n",
    "    W_Lin = params_list[0]\n",
    "    b_Lin = params_list[1]\n",
    "    nn_Lin = mtimes(W_Lin,x) + b_Lin\n",
    "\n",
    "    return nn_NL + nn_Lin\n",
    "\n",
    "def CasADiFn(ss_enc, x, u):\n",
    "    n_hidden_layers = ss_enc.f_n_hidden_layers\n",
    "\n",
    "    params = {}\n",
    "    for name, param in ss_enc.fn.named_parameters():\n",
    "        params[name] = param.detach().numpy()\n",
    "    params_list = list(params.values())\n",
    "    \n",
    "    xu = vertcat(x,u)\n",
    "\n",
    "    temp_nn = xu\n",
    "    for i in range(n_hidden_layers):\n",
    "        W_NL = params_list[2+i*2]\n",
    "        b_NL = params_list[3+i*2]\n",
    "        temp_nn = mtimes(W_NL, temp_nn)+b_NL\n",
    "        temp_nn = tanh(temp_nn)\n",
    "    W_NL = params_list[2+n_hidden_layers*2]\n",
    "    b_NL = params_list[3+n_hidden_layers*2]\n",
    "    nn_NL = mtimes(W_NL, temp_nn)+b_NL\n",
    "\n",
    "    W_Lin = params_list[0]\n",
    "    b_Lin = params_list[1]\n",
    "    nn_Lin = mtimes(W_Lin,xu) + b_Lin\n",
    "\n",
    "    #f = Function('f', [x, u], [nn_NL + nn_Lin])\n",
    "    return nn_NL + nn_Lin"
   ]
  },
  {
   "cell_type": "code",
   "execution_count": null,
   "metadata": {},
   "outputs": [],
   "source": [
    "# function that checks whether torch nn and casadi function have the same behavior\n",
    "\n",
    "import torch\n",
    "\n",
    "def checkCasADiFn(ss_enc, casadi_fn):\n",
    "    nu = 1000\n",
    "    u = (torch.rand(nu,3)*2-1)*2\n",
    "    ss_out = ss_enc.fn(u).detach().numpy()\n",
    "\n",
    "    check = True\n",
    "    for i in range(nu):\n",
    "        xin = u[i,0:2].numpy().tolist()\n",
    "        uin = u[i,2].item()\n",
    "        cas_out = casadi_fn(xin, uin).elements()\n",
    "        #equality_array = np.unique(np.round(np.array(cas_out) - ss_out[i,:], decimals=5) == 0.00000) #use np.isclose and np.all\n",
    "        if np.allclose(np.array(cas_out), ss_out[i,:], rtol=1e-05, atol=1e-05) == False:\n",
    "        #if equality_array.size != 1 or equality_array[0] == False:\n",
    "            check = False\n",
    "\n",
    "    return check\n",
    "\n",
    "def checkCasADiHn(ss_enc, casadi_hn):\n",
    "    nu = 1000\n",
    "    u = (torch.rand(nu,2)*2-1)*2\n",
    "    ss_out = ss_enc.hn(u).detach().numpy()\n",
    "\n",
    "    check = True\n",
    "    for i in range(nu):\n",
    "        xin = u[i,:].numpy().tolist()\n",
    "        cas_out = casadi_hn(xin).elements()\n",
    "        #equality_array = np.unique(np.round(np.array(cas_out) - ss_out[i,:], decimals=5) == 0.00000) #use np.isclose and np.all\n",
    "        if np.allclose(np.array(cas_out), ss_out[i,:], rtol=1e-05, atol=1e-05) == False:\n",
    "        #if equality_array.size != 1 or equality_array[0] == False:\n",
    "            check = False\n",
    "\n",
    "    return check"
   ]
  },
  {
   "cell_type": "code",
   "execution_count": null,
   "metadata": {},
   "outputs": [],
   "source": [
    "# declared sym variables\n",
    "x = MX.sym(\"x\",I_enc.nx,1)\n",
    "nu = I_enc.nu if I_enc.nu is not None else 1\n",
    "u = MX.sym(\"u\",nu,1)\n",
    "\n",
    "# convert torch nn to casadi function\n",
    "rhs = CasADiFn(I_enc, x, u)\n",
    "f = Function('f', [x, u], [rhs])\n",
    "\n",
    "y_rhs = CasADiHn(I_enc, x)\n",
    "h = Function('h', [x], [y_rhs])\n",
    "\n",
    "# check if torch nn and casadi function have same behavior\n",
    "check_f = checkCasADiFn(I_enc, f)\n",
    "check_h = checkCasADiHn(I_enc, h)\n",
    "check_f, check_h"
   ]
  },
  {
   "cell_type": "code",
   "execution_count": null,
   "metadata": {},
   "outputs": [],
   "source": [
    "# apply correction to casadi function such that fc(0) = 0\n",
    "correction_f = f([0,0], 0)\n",
    "rhs_c = rhs - correction_f\n",
    "correction_h = h([0,0])\n",
    "y_rhs_c = y_rhs - correction_h\n",
    "f_c = Function('f_c', [x, u], [rhs_c])\n",
    "h_c = Function('h_c', [x], [y_rhs_c])\n",
    "f_c([0,0], 0), h_c([0,0])"
   ]
  },
  {
   "cell_type": "code",
   "execution_count": null,
   "metadata": {},
   "outputs": [],
   "source": [
    "# Box constraints\n",
    "x_min = -10\n",
    "x_max = 10\n",
    "u_min = -4\n",
    "u_max = 4\n",
    "\n",
    "# Initial and final values\n",
    "x0 = [0,0]\n",
    "x_ref = [0.001, 1.0]\n",
    "u_ref = 0\n",
    "\n",
    "# Weight matrices for the cost function\n",
    "#Q = 100\n",
    "Q = np.matrix('1,0;0,100')\n",
    "R = 1\n",
    "\n",
    "# MPC parameters\n",
    "dt = 0.1\n",
    "Nc = 10\n",
    "Nsim = 100\n",
    "dlam = 0.01\n",
    "stages = 1"
   ]
  },
  {
   "cell_type": "code",
   "execution_count": null,
   "metadata": {},
   "outputs": [],
   "source": [
    "from my_rk4 import *\n",
    "from lpv_int import *\n",
    "from lpv_rk4 import *\n",
    "import numpy as np\n",
    "import time\n",
    "\n",
    "opti = Opti()\n",
    "\n",
    "# declare variables and parameters of states and inputs\n",
    "n_states = np.shape(x)[0]\n",
    "states = opti.variable(n_states,Nc+1)    \n",
    "x_initial = opti.parameter(n_states,1)\n",
    "\n",
    "n_controls = np.shape(u)[0]\n",
    "controls = opti.variable(n_controls,Nc)\n",
    "\n",
    "reference = opti.parameter(n_states,1)\n",
    "\n",
    "# determine getA and getB functions\n",
    "Jfx = Function(\"Jfx\", [x, u], [jacobian(rhs_c,x)])\n",
    "Jfu = Function(\"Jfu\", [x, u], [jacobian(rhs_c,u)])\n",
    "Jhx = Function(\"Jhx\", [x, u], [jacobian(y_rhs_c,x)])\n",
    "[A_sym, B_sym, C_sym] = lpv_int(x,n_states,u,n_controls,1,Jfx,Jfu,Jhx,dlam,stages)\n",
    "get_A = Function(\"get_A\",[x,u],[A_sym])\n",
    "get_B = Function(\"get_B\",[x,u],[B_sym])\n",
    "get_C = Function(\"get_C\",[x,u],[C_sym])\n",
    "\n",
    "list_A = opti.parameter(Nc*n_states,n_states)\n",
    "list_B = opti.parameter(Nc*n_states,n_controls)\n",
    "list_C = opti.parameter(Nc*1,n_states)\n",
    "\n",
    "# declare bounds of system\n",
    "opti.subject_to(opti.bounded(x_min,states,x_max))\n",
    "opti.subject_to(opti.bounded(u_min,controls,u_max))\n",
    "opti.subject_to(states[:,0] == x_initial)\n",
    "\n",
    "opts = {'print_time' : 0, 'ipopt': {'print_level': 0}}\n",
    "opti.solver(\"ipopt\",opts)"
   ]
  },
  {
   "cell_type": "code",
   "execution_count": null,
   "metadata": {},
   "outputs": [],
   "source": [
    "objective = 0 #maybe add some soft bounds on the states and inputs\n",
    "for i in np.arange(Nc):\n",
    "    #opti.subject_to(states[:,i+1] == lpv_rk4(states[:,i],controls[:,i],\\\n",
    "    #    list_A[(n_states*i):(n_states*i+n_states),:],list_B[(n_states*i):(n_states*i+n_states),:],dt, correction)) # should this be changed to discrete time model\n",
    "    opti.subject_to(states[:,i+1] == list_A[(n_states*i):(n_states*i+n_states),:]@states[:,i] \\\n",
    "        + list_B[(n_states*i):(n_states*i+n_states),:]@controls[:,i] + correction_f)\n",
    "    objective = (objective + \n",
    "                    #mtimes(mtimes((states[:,i]-x_ref).T,Q),(states[:,i]-x_ref)) +\n",
    "                    #mtimes(mtimes((controls[:,i]-u_ref).T,R),(controls[:,i]-u_ref)))\n",
    "                    mtimes(mtimes((states[:,i]-reference).T,Q),(states[:,i]-reference)) +\n",
    "                    mtimes(mtimes((controls[:,i]-u_ref).T,R),(controls[:,i]-u_ref)))\n",
    "\n",
    "opti.minimize(objective)"
   ]
  },
  {
   "cell_type": "code",
   "execution_count": null,
   "metadata": {},
   "outputs": [],
   "source": [
    "#reference_list = np.ones(Nsim+1)*1.0\n",
    "reference_list = np.sin(np.arange(Nsim)*2*np.pi/128)*1\n",
    "#reference_list = np.abs(reference_list)\n",
    "#reference_list = np.hstack((np.ones(50)*1.0, np.ones(50)*-1.5, np.ones(50)*0.5, np.ones(50)*-2.5))\n",
    "#plt.plot(reference_list)"
   ]
  },
  {
   "cell_type": "code",
   "execution_count": null,
   "metadata": {},
   "outputs": [],
   "source": [
    "import random\n",
    "x1_reference_list = np.array([])\n",
    "Nsim_remaining = Nsim\n",
    "while True:\n",
    "    Nsim_steps = random.randint(10,15)\n",
    "    Nsim_remaining = Nsim_remaining - Nsim_steps\n",
    "    x1_reference_list = np.hstack((x1_reference_list, np.ones(Nsim_steps)*random.randint(-10,10)/10))\n",
    "\n",
    "    if Nsim_remaining <= 0:\n",
    "        x1_reference_list = x1_reference_list[:Nsim]\n",
    "        break"
   ]
  },
  {
   "cell_type": "code",
   "execution_count": null,
   "metadata": {},
   "outputs": [],
   "source": [
    "# normalize reference list\n",
    "norm = I_enc.norm\n",
    "reference_list_normalized = (reference_list - norm.y0[1])/norm.ystd[1]\n",
    "x0_norm = (x0 - norm.y0)/norm.ystd\n",
    "\n",
    "# logging list\n",
    "t = np.zeros(Nsim)\n",
    "t0 = 0\n",
    "u_log = np.zeros([n_controls,Nsim])\n",
    "x_log = np.zeros([n_states,Nsim+1])\n",
    "comp_t_log = np.zeros(Nsim)\n",
    "x_log[:,0] = x0\n",
    "start = time.time()\n",
    "lpv_counter = np.zeros(Nsim,int)\n",
    "\n",
    "# set initial values for x\n",
    "x = np.zeros([n_states,Nc+1])\n",
    "u = np.zeros([n_controls,Nc]) # change this to u0 instead of 0 maybe\n",
    "opti.set_initial(states, x)\n",
    "opti.set_initial(controls, u)\n",
    "opti.set_value(x_initial,x0_norm)\n",
    "\n",
    "for mpciter in np.arange(Nsim):\n",
    "    start_time_iter = time.time()\n",
    "\n",
    "    # solve for u and x\n",
    "    opti.set_value(reference,[0,reference_list_normalized[mpciter]])\n",
    "\n",
    "    # MPC loop\n",
    "    while True:\n",
    "        # determine A,B\n",
    "        for i in np.arange(Nc):\n",
    "            opti.set_value(list_A[(n_states*i):(n_states*i+n_states),:],get_A(x[:,i],u[:,i]))\n",
    "            opti.set_value(list_B[(n_states*i):(n_states*i+n_states),:],get_B(x[:,i],u[:,i]))\n",
    "        \n",
    "        # solve for u and x\n",
    "        sol = opti.solve()\n",
    "        u_old = u\n",
    "        u = np.reshape(sol.value(controls),[n_controls,Nc])\n",
    "        x = np.reshape(sol.value(states),[n_states,Nc+1]) # this relies on internal simulation in solution, this is x=Ax+Bu\n",
    "\n",
    "        # simulate next step using rk4 over non correction casadi function\n",
    "        #for i in np.arange(Nc):\n",
    "        #    x[:,i+1] = np.ravel(my_rk4(x[:,i],u[:,i],f,dt),order='F')\n",
    "        x = np.reshape(sol.value(states),[n_states,Nc+1]) # change this to nn maybe\n",
    "        \n",
    "        # set new x and u values into optimizer\n",
    "        opti.set_initial(states, x)\n",
    "        opti.set_initial(controls, u)\n",
    "\n",
    "        lpv_counter[mpciter] += 1  \n",
    "\n",
    "        # Stop MPC loop if max iteration reached or input converged\n",
    "        if (lpv_counter[mpciter] >= 1) or (np.linalg.norm(u-u_old) < 1e-5):\n",
    "            break\n",
    "\n",
    "    print(\"MPC iteration: \", mpciter+1)\n",
    "    print(\"LPV counter: \", lpv_counter[mpciter])\n",
    "\n",
    "    t[mpciter] = t0\n",
    "    t0 = t0 + dt\n",
    "    try:\n",
    "        x = x.full()\n",
    "    except:\n",
    "        x = x\n",
    "    try:\n",
    "        u = u.full()\n",
    "    except:\n",
    "        u = u\n",
    "    \n",
    "    # denormalize x and u\n",
    "    x_denormalized = norm.ystd*x0_norm + norm.y0\n",
    "    u_denormalized = norm.ustd*u[0,0] + norm.u0\n",
    "\n",
    "    # make system step and normalize\n",
    "    x_denormalized = system.f(x_denormalized, u_denormalized)\n",
    "    x_measured = system.h(x_denormalized, u_denormalized)\n",
    "    x0_norm = (x_measured - norm.y0)/norm.ystd\n",
    "\n",
    "    x_log[:,mpciter+1] = x_measured\n",
    "    u_log[:,mpciter] = u_denormalized\n",
    "    \n",
    "    x = horzcat(x[:,1:(Nc+1)],x[:,-1])\n",
    "    x[:,0] = x0_norm\n",
    "    u = horzcat(u[:,1:Nc],u[:,-1])\n",
    "    opti.set_value(x_initial, x0_norm)\n",
    "    opti.set_initial(states, x)\n",
    "    opti.set_initial(controls, u)\n",
    "\n",
    "    # finished mpc time measurement\n",
    "    end_time_iter = time.time()\n",
    "    comp_t_log[mpciter] = end_time_iter - start_time_iter\n",
    "\n",
    "end = time.time()\n",
    "runtime = end - start"
   ]
  },
  {
   "cell_type": "code",
   "execution_count": null,
   "metadata": {},
   "outputs": [],
   "source": [
    "fig = plt.figure(figsize=[14.0, 3.0])\n",
    "\n",
    "plt.subplot(1,3,1)\n",
    "plt.plot(np.arange(Nsim+1)*dt, x_log[0,:], label='angular velocity')\n",
    "plt.plot(np.arange(Nsim+1)*dt, np.ones(x_log.shape[1])*x_ref[0], label='reference')\n",
    "plt.ylabel(\"velocity [m/s]\") # not sure about the unit\n",
    "plt.xlabel(\"time [s]\")\n",
    "plt.grid()\n",
    "plt.legend()\n",
    "\n",
    "plt.subplot(1,3,2)\n",
    "plt.plot(np.arange(Nsim+1)*dt, x_log[1,:], label='angle')\n",
    "#plt.plot(np.arange(Nsim+1)*dt, np.ones(x_log.shape[1])*x_ref[1], label='reference')\n",
    "plt.plot(np.arange(Nsim+1)*dt, np.hstack((np.zeros(1),reference_list)), label='reference') # figure out what the correct hstack should be here\n",
    "plt.ylabel(\"displacement [m]\") # not sure about the unit\n",
    "plt.xlabel(\"time [s]\")\n",
    "plt.grid()\n",
    "plt.legend()\n",
    "\n",
    "plt.subplot(1,3,3)\n",
    "plt.plot(np.arange(Nsim)*dt, u_log[0,:], label='input')\n",
    "plt.plot(np.arange(Nsim)*dt, np.ones(Nsim)*u_ref, label='reference')\n",
    "plt.ylabel(\"input\") # not sure about the unit\n",
    "plt.xlabel(\"time [s]\")\n",
    "plt.grid()\n",
    "plt.legend();"
   ]
  },
  {
   "cell_type": "code",
   "execution_count": null,
   "metadata": {},
   "outputs": [],
   "source": []
  }
 ],
 "metadata": {
  "kernelspec": {
   "display_name": "Python 3.9.0 64-bit",
   "language": "python",
   "name": "python3"
  },
  "language_info": {
   "codemirror_mode": {
    "name": "ipython",
    "version": 3
   },
   "file_extension": ".py",
   "mimetype": "text/x-python",
   "name": "python",
   "nbconvert_exporter": "python",
   "pygments_lexer": "ipython3",
   "version": "3.9.0"
  },
  "orig_nbformat": 4,
  "vscode": {
   "interpreter": {
    "hash": "4adf2e6253b261bd4dae3284651a7270092766d2a4e11b51cb3c91db9fd89146"
   }
  }
 },
 "nbformat": 4,
 "nbformat_minor": 2
}
