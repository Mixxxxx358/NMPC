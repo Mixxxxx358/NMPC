{
 "cells": [
  {
   "cell_type": "code",
   "execution_count": 7,
   "metadata": {},
   "outputs": [],
   "source": [
    "import time\n",
    "import qpsolvers as qp\n",
    "import deepSI\n",
    "import numpy as np\n",
    "from casadi import *\n",
    "from torch import nn\n",
    "from matplotlib import pyplot as plt\n",
    "\n",
    "import Systems\n",
    "from my_rk4 import *\n",
    "from lpv_int import *\n",
    "from par_lpv_int import *\n",
    "from lpv_rk4 import *\n",
    "from mpcUtil import *\n",
    "import torch"
   ]
  },
  {
   "cell_type": "code",
   "execution_count": 8,
   "metadata": {},
   "outputs": [],
   "source": [
    "dt = 0.1\n",
    "Nc = 25\n",
    "Nsim = 30\n",
    "#dlam = 0.05\n",
    "stages = 2\n",
    "dlam = 1.0/stages\n",
    "max_iterations = 4\n",
    "\n",
    "# Weight matrices for the cost function\n",
    "Q = np.matrix('10,0;0,10')\n",
    "R = 1"
   ]
  },
  {
   "cell_type": "code",
   "execution_count": 9,
   "metadata": {},
   "outputs": [],
   "source": [
    "sys_unblanced = Systems.LTI()\n",
    "encoder = deepSI.load_system(\"systems/LtiTanh_nab_4_e100\")"
   ]
  },
  {
   "cell_type": "code",
   "execution_count": 12,
   "metadata": {},
   "outputs": [],
   "source": [
    "nx = encoder.nx\n",
    "n_states = nx\n",
    "x = MX.sym(\"x\",nx,1)\n",
    "nu = encoder.nu if encoder.nu is not None else 1\n",
    "n_controls = nu\n",
    "u = MX.sym(\"u\",nu,1)\n",
    "ny = encoder.ny if encoder.ny is not None else 1\n",
    "\n",
    "# convert torch nn to casadi function\n",
    "rhs = CasADiFn(encoder, x, u)\n",
    "f = Function('f', [x, u], [rhs])\n",
    "y_rhs = CasADiHn(encoder, x)\n",
    "h = Function('h', [x], [y_rhs])\n",
    "\n",
    "correction = f([0,0,0,0], 0)\n",
    "rhs_c = rhs - correction\n",
    "correction_h = h([0,0,0,0])\n",
    "y_rhs_c = y_rhs - correction_h"
   ]
  },
  {
   "cell_type": "code",
   "execution_count": 16,
   "metadata": {},
   "outputs": [
    {
     "data": {
      "text/plain": [
       "array([0., 0., 0., 0.])"
      ]
     },
     "execution_count": 16,
     "metadata": {},
     "output_type": "execute_result"
    }
   ],
   "source": [
    "np.zeros((nx,))"
   ]
  },
  {
   "cell_type": "code",
   "execution_count": null,
   "metadata": {},
   "outputs": [],
   "source": []
  }
 ],
 "metadata": {
  "kernelspec": {
   "display_name": "Python 3.9.0 64-bit",
   "language": "python",
   "name": "python3"
  },
  "language_info": {
   "codemirror_mode": {
    "name": "ipython",
    "version": 3
   },
   "file_extension": ".py",
   "mimetype": "text/x-python",
   "name": "python",
   "nbconvert_exporter": "python",
   "pygments_lexer": "ipython3",
   "version": "3.9.0"
  },
  "orig_nbformat": 4,
  "vscode": {
   "interpreter": {
    "hash": "4adf2e6253b261bd4dae3284651a7270092766d2a4e11b51cb3c91db9fd89146"
   }
  }
 },
 "nbformat": 4,
 "nbformat_minor": 2
}
