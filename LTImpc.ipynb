{
 "cells": [
  {
   "cell_type": "code",
   "execution_count": null,
   "metadata": {},
   "outputs": [],
   "source": [
    "dt = 0.1\n",
    "Nc = 25\n",
    "Nsim = 30\n",
    "#dlam = 0.05\n",
    "stages = 2\n",
    "dlam = 1.0/stages\n",
    "max_iterations = 4\n",
    "\n",
    "# Weight matrices for the cost function\n",
    "Q = np.matrix('10,0;0,10')\n",
    "R = 1"
   ]
  }
 ],
 "metadata": {
  "language_info": {
   "name": "python"
  },
  "orig_nbformat": 4
 },
 "nbformat": 4,
 "nbformat_minor": 2
}
